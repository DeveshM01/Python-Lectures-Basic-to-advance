{
 "cells": [
  {
   "cell_type": "markdown",
   "id": "a2a1e471-9823-45dc-853d-2ff3b4a3f0f1",
   "metadata": {},
   "source": [
    "#COMPREHENSION"
   ]
  },
  {
   "cell_type": "code",
   "execution_count": 1,
   "id": "4e049418-20a7-405b-bf74-34b27c516cb9",
   "metadata": {},
   "outputs": [],
   "source": [
    "l=[1,2,3,4,45,5,6]\n",
    "l1=[]\n",
    "for i in l:\n",
    "    l1.append(i**2)\n"
   ]
  },
  {
   "cell_type": "code",
   "execution_count": 2,
   "id": "4d3a263f-a3dc-463e-a707-7f3213e6af4f",
   "metadata": {},
   "outputs": [
    {
     "data": {
      "text/plain": [
       "[1, 4, 9, 16, 2025, 25, 36]"
      ]
     },
     "execution_count": 2,
     "metadata": {},
     "output_type": "execute_result"
    }
   ],
   "source": [
    "l1"
   ]
  },
  {
   "cell_type": "code",
   "execution_count": 3,
   "id": "d70dcd21-8d6f-4325-aaf0-21f8791600fb",
   "metadata": {},
   "outputs": [
    {
     "data": {
      "text/plain": [
       "[1, 2, 3, 4, 45, 5, 6]"
      ]
     },
     "execution_count": 3,
     "metadata": {},
     "output_type": "execute_result"
    }
   ],
   "source": [
    "l"
   ]
  },
  {
   "cell_type": "code",
   "execution_count": 5,
   "id": "b09ac443-11e6-40fe-b51d-93e8f38700b8",
   "metadata": {},
   "outputs": [
    {
     "data": {
      "text/plain": [
       "[1, 4, 9, 16, 2025, 25, 36]"
      ]
     },
     "execution_count": 5,
     "metadata": {},
     "output_type": "execute_result"
    }
   ],
   "source": [
    "#one liner code\n",
    "#comprehension code\n",
    "[i**2 for i in l]"
   ]
  },
  {
   "cell_type": "code",
   "execution_count": 7,
   "id": "18dbea3c-0f6e-4b2c-b04e-f5cd8d5ec6a9",
   "metadata": {},
   "outputs": [
    {
     "data": {
      "text/plain": [
       "[2, 4, 6]"
      ]
     },
     "execution_count": 7,
     "metadata": {},
     "output_type": "execute_result"
    }
   ],
   "source": [
    "[i for i in l if i %  2 == 0] "
   ]
  },
  {
   "cell_type": "code",
   "execution_count": 8,
   "id": "928cb44b-ab74-4d85-942b-45aa077e7ae9",
   "metadata": {},
   "outputs": [],
   "source": [
    "l1=[\"dev\",\"mishra\",\"golu\",\"anurag\",\"santosh\",\"nirmala\"]"
   ]
  },
  {
   "cell_type": "code",
   "execution_count": 9,
   "id": "575041de-dc68-4610-bc6c-cc4833e05b73",
   "metadata": {},
   "outputs": [
    {
     "data": {
      "text/plain": [
       "['DEV', 'MISHRA', 'GOLU', 'ANURAG', 'SANTOSH', 'NIRMALA']"
      ]
     },
     "execution_count": 9,
     "metadata": {},
     "output_type": "execute_result"
    }
   ],
   "source": [
    "[i.upper() for i in l1] "
   ]
  },
  {
   "cell_type": "code",
   "execution_count": 10,
   "id": "fb1e4471-3c96-48cc-b563-b2a2a0e14357",
   "metadata": {},
   "outputs": [
    {
     "data": {
      "text/plain": [
       "[1, 2, 3, 4, 45, 5, 6]"
      ]
     },
     "execution_count": 10,
     "metadata": {},
     "output_type": "execute_result"
    }
   ],
   "source": [
    "l"
   ]
  },
  {
   "cell_type": "code",
   "execution_count": 12,
   "id": "0be06aca-5516-4e02-8eec-a4c0e755def1",
   "metadata": {},
   "outputs": [
    {
     "data": {
      "text/plain": [
       "[1, 4, 9, 16, 2025, 25, 36]"
      ]
     },
     "execution_count": 12,
     "metadata": {},
     "output_type": "execute_result"
    }
   ],
   "source": [
    "#TUPPLE COMPRESHENSION\n",
    "list(i**2 for i in l )"
   ]
  },
  {
   "cell_type": "code",
   "execution_count": 18,
   "id": "8087f677-db83-4c66-a57d-003af8da9ce2",
   "metadata": {},
   "outputs": [],
   "source": [
    "#Dictionary Compreshension\n",
    "d={\"key1\":1,\"key2\":2,\"key3\":3,\"key4\":4}"
   ]
  },
  {
   "cell_type": "code",
   "execution_count": 19,
   "id": "a6bf2968-9d55-475c-9e7f-0f4e4ab32702",
   "metadata": {},
   "outputs": [
    {
     "data": {
      "text/plain": [
       "{'key1': 1, 'key2': 4, 'key3': 9, 'key4': 16}"
      ]
     },
     "execution_count": 19,
     "metadata": {},
     "output_type": "execute_result"
    }
   ],
   "source": [
    "{k:v**2 for k,v in d.items()}"
   ]
  },
  {
   "cell_type": "code",
   "execution_count": 20,
   "id": "61121c15-ff74-4db2-9102-1fb364e3dfec",
   "metadata": {},
   "outputs": [
    {
     "data": {
      "text/plain": [
       "dict_items([('key1', 1), ('key2', 2), ('key3', 3), ('key4', 4)])"
      ]
     },
     "execution_count": 20,
     "metadata": {},
     "output_type": "execute_result"
    }
   ],
   "source": [
    "d.items()"
   ]
  },
  {
   "cell_type": "code",
   "execution_count": 21,
   "id": "8bdbcfd7-90ac-4f3b-8ab6-b6b290d70fba",
   "metadata": {},
   "outputs": [
    {
     "data": {
      "text/plain": [
       "{'key1': 1, 'key2': 2, 'key3': 3, 'key4': 4}"
      ]
     },
     "execution_count": 21,
     "metadata": {},
     "output_type": "execute_result"
    }
   ],
   "source": [
    "d"
   ]
  },
  {
   "cell_type": "code",
   "execution_count": 22,
   "id": "5b207fba-ea28-4b3a-8f68-47f42b4c0fb2",
   "metadata": {},
   "outputs": [
    {
     "data": {
      "text/plain": [
       "{'key2': 2, 'key3': 3, 'key4': 4}"
      ]
     },
     "execution_count": 22,
     "metadata": {},
     "output_type": "execute_result"
    }
   ],
   "source": [
    "{k:v for k,v in d.items() if v>1}"
   ]
  },
  {
   "cell_type": "code",
   "execution_count": null,
   "id": "0defcf4f-7afa-4711-9179-d5158e22762a",
   "metadata": {},
   "outputs": [],
   "source": []
  }
 ],
 "metadata": {
  "kernelspec": {
   "display_name": "Python 3 (ipykernel)",
   "language": "python",
   "name": "python3"
  },
  "language_info": {
   "codemirror_mode": {
    "name": "ipython",
    "version": 3
   },
   "file_extension": ".py",
   "mimetype": "text/x-python",
   "name": "python",
   "nbconvert_exporter": "python",
   "pygments_lexer": "ipython3",
   "version": "3.10.8"
  }
 },
 "nbformat": 4,
 "nbformat_minor": 5
}
