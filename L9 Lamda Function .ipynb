{
 "cells": [
  {
   "cell_type": "markdown",
   "id": "b79787bd-2816-486d-ac0d-4033e4d37ecb",
   "metadata": {},
   "source": [
    "Lamda Function"
   ]
  },
  {
   "cell_type": "code",
   "execution_count": 19,
   "id": "19212122-81ae-4636-834d-3e9807fa3849",
   "metadata": {},
   "outputs": [],
   "source": [
    "n=3\n",
    "p=2"
   ]
  },
  {
   "cell_type": "code",
   "execution_count": 1,
   "id": "3358d16e-f89d-456b-b34a-251da5c166b4",
   "metadata": {},
   "outputs": [],
   "source": [
    "def test(n,p):\n",
    "    return n**p #double star is used as power"
   ]
  },
  {
   "cell_type": "code",
   "execution_count": 27,
   "id": "fa5188fd-713e-4396-8fd8-1ea0000ad59f",
   "metadata": {},
   "outputs": [
    {
     "data": {
      "text/plain": [
       "1024"
      ]
     },
     "execution_count": 27,
     "metadata": {},
     "output_type": "execute_result"
    }
   ],
   "source": [
    "test(4,5)"
   ]
  },
  {
   "cell_type": "code",
   "execution_count": 31,
   "id": "adb99586-49c2-48c4-8af0-efc3cb435d38",
   "metadata": {},
   "outputs": [],
   "source": [
    "#ONE liner function or lambda function or anonymus function\n",
    "a=lambda n,p: n**p"
   ]
  },
  {
   "cell_type": "code",
   "execution_count": 32,
   "id": "de265732-b417-4970-955a-f7459ca1a798",
   "metadata": {},
   "outputs": [
    {
     "data": {
      "text/plain": [
       "9"
      ]
     },
     "execution_count": 32,
     "metadata": {},
     "output_type": "execute_result"
    }
   ],
   "source": [
    "a(3,2)"
   ]
  },
  {
   "cell_type": "code",
   "execution_count": 33,
   "id": "b167cddc-7fcb-4686-8879-dd9f93f1a8c7",
   "metadata": {},
   "outputs": [],
   "source": [
    "b=lambda x,y:x+y"
   ]
  },
  {
   "cell_type": "code",
   "execution_count": 34,
   "id": "b132d516-c96f-4792-9d94-8ffb3749a63e",
   "metadata": {},
   "outputs": [
    {
     "data": {
      "text/plain": [
       "33"
      ]
     },
     "execution_count": 34,
     "metadata": {},
     "output_type": "execute_result"
    }
   ],
   "source": [
    "b(10,23)"
   ]
  },
  {
   "cell_type": "code",
   "execution_count": 37,
   "id": "2c459adf-cdd0-4b03-ac19-46e50fff4a85",
   "metadata": {},
   "outputs": [],
   "source": [
    "#celcius to farenhite function\n",
    "c_to_f=lambda c:(9/5)*c+32"
   ]
  },
  {
   "cell_type": "code",
   "execution_count": 38,
   "id": "34b35de3-d7f0-4081-9c28-fb01eabe1767",
   "metadata": {},
   "outputs": [
    {
     "data": {
      "text/plain": [
       "113.0"
      ]
     },
     "execution_count": 38,
     "metadata": {},
     "output_type": "execute_result"
    }
   ],
   "source": [
    "c_to_f(45)"
   ]
  },
  {
   "cell_type": "code",
   "execution_count": 42,
   "id": "838d54f8-11dc-406a-878f-761c60a1b6ad",
   "metadata": {},
   "outputs": [],
   "source": [
    "#finding mx no. in two number\n",
    "c=lambda x,y : x if x>y else y"
   ]
  },
  {
   "cell_type": "code",
   "execution_count": 43,
   "id": "afab28af-8076-457e-80df-c19f976ab072",
   "metadata": {},
   "outputs": [
    {
     "data": {
      "text/plain": [
       "9"
      ]
     },
     "execution_count": 43,
     "metadata": {},
     "output_type": "execute_result"
    }
   ],
   "source": [
    "c(4,9)"
   ]
  },
  {
   "cell_type": "code",
   "execution_count": 44,
   "id": "6037a103-fd46-4e0c-ad3f-65c41da8d574",
   "metadata": {},
   "outputs": [],
   "source": [
    "a=\"devesh\""
   ]
  },
  {
   "cell_type": "code",
   "execution_count": 47,
   "id": "d055447b-015f-4458-ae85-cd69d8db1292",
   "metadata": {},
   "outputs": [],
   "source": [
    "k=lambda b:len(b) "
   ]
  },
  {
   "cell_type": "code",
   "execution_count": 48,
   "id": "c0014a5e-869f-4ea5-a418-728759e5c49d",
   "metadata": {},
   "outputs": [
    {
     "data": {
      "text/plain": [
       "6"
      ]
     },
     "execution_count": 48,
     "metadata": {},
     "output_type": "execute_result"
    }
   ],
   "source": [
    "k(a)"
   ]
  },
  {
   "cell_type": "code",
   "execution_count": null,
   "id": "73bf6570-3897-4313-b799-3287ac5c3004",
   "metadata": {},
   "outputs": [],
   "source": []
  }
 ],
 "metadata": {
  "kernelspec": {
   "display_name": "Python 3 (ipykernel)",
   "language": "python",
   "name": "python3"
  },
  "language_info": {
   "codemirror_mode": {
    "name": "ipython",
    "version": 3
   },
   "file_extension": ".py",
   "mimetype": "text/x-python",
   "name": "python",
   "nbconvert_exporter": "python",
   "pygments_lexer": "ipython3",
   "version": "3.10.8"
  }
 },
 "nbformat": 4,
 "nbformat_minor": 5
}
