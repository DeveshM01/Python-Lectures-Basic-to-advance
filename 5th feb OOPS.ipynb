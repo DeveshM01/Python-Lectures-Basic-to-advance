{
 "cells": [
  {
   "cell_type": "markdown",
   "id": "4b93f16f-2a73-41b6-a82b-fea5e8a9e0a2",
   "metadata": {},
   "source": [
    "OOPS (Object Oriented Programming System)"
   ]
  },
  {
   "cell_type": "code",
   "execution_count": 2,
   "id": "df25131e-d30d-4266-8aed-eedf8d08f9b2",
   "metadata": {},
   "outputs": [],
   "source": [
    "a=1"
   ]
  },
  {
   "cell_type": "code",
   "execution_count": 3,
   "id": "799a5745-5134-46d3-b968-c89a94441596",
   "metadata": {},
   "outputs": [
    {
     "name": "stdout",
     "output_type": "stream",
     "text": [
      "<class 'int'>\n"
     ]
    }
   ],
   "source": [
    "print(type(a))"
   ]
  },
  {
   "cell_type": "code",
   "execution_count": 4,
   "id": "c6be2d15-cce0-4714-977f-ac589cbbee0d",
   "metadata": {},
   "outputs": [
    {
     "name": "stdout",
     "output_type": "stream",
     "text": [
      "<class 'str'>\n"
     ]
    }
   ],
   "source": [
    "print(type(\"sudh\"))\n",
    "# a is the object of the class integer"
   ]
  },
  {
   "cell_type": "code",
   "execution_count": 1,
   "id": "7b09fed2-341b-4e77-ab3d-9d858b863917",
   "metadata": {},
   "outputs": [
    {
     "name": "stdout",
     "output_type": "stream",
     "text": [
      "<class 'float'>\n"
     ]
    }
   ],
   "source": [
    "print(type(45.78))\n",
    "#CLASS is classified \n",
    "#object is called variable or instance\n",
    "#class is a blueprint or skeleton of the code"
   ]
  },
  {
   "cell_type": "markdown",
   "id": "14e557df-55c2-4e50-8a42-fb1756cdfa84",
   "metadata": {},
   "source": [
    "#Concept of Classes"
   ]
  },
  {
   "cell_type": "code",
   "execution_count": 2,
   "id": "7e5ff4d4-ffd6-47af-9963-da9ba95909c5",
   "metadata": {},
   "outputs": [],
   "source": [
    "#Class and object or OOPS is used to make our code more structured and more characterised \n",
    "#it helps in reuseability of code or helps in resuse of code\n",
    "#class is reserved keyword in a pyhton programing language\n",
    "#class contains all type of method,function "
   ]
  },
  {
   "cell_type": "code",
   "execution_count": 3,
   "id": "81d8ccdf-a4f0-44d9-b8f6-d0314f369259",
   "metadata": {},
   "outputs": [],
   "source": [
    "class test:\n",
    "    pass"
   ]
  },
  {
   "cell_type": "code",
   "execution_count": 9,
   "id": "87e8bf11-a2d8-47a9-98b0-1ad5e0496eb6",
   "metadata": {},
   "outputs": [],
   "source": [
    "a=test() # object of the class #blank class is created"
   ]
  },
  {
   "cell_type": "code",
   "execution_count": 5,
   "id": "3fcb36d8-32b2-4ff0-9673-9e44353a48e5",
   "metadata": {},
   "outputs": [
    {
     "data": {
      "text/plain": [
       "__main__.test"
      ]
     },
     "execution_count": 5,
     "metadata": {},
     "output_type": "execute_result"
    }
   ],
   "source": [
    "type(a) #test is class"
   ]
  },
  {
   "cell_type": "code",
   "execution_count": 6,
   "id": "11752050-e131-474e-b5b0-9f24b73e3ace",
   "metadata": {},
   "outputs": [
    {
     "name": "stdout",
     "output_type": "stream",
     "text": [
      "<class '__main__.test'>\n"
     ]
    }
   ],
   "source": [
    "print(type(a))"
   ]
  },
  {
   "cell_type": "code",
   "execution_count": 6,
   "id": "3c36f3be-620d-41c3-a33c-c1ec3b99a1b1",
   "metadata": {},
   "outputs": [],
   "source": [
    "class pwskills:\n",
    "    def welcome_msg(self): #self is used to bind function with the class\n",
    "        print(\"welcome to pwskills\")"
   ]
  },
  {
   "cell_type": "code",
   "execution_count": 7,
   "id": "41d06046-8f45-4765-bc9d-157b92aeb05e",
   "metadata": {},
   "outputs": [],
   "source": [
    "rohan=pwskills() #variable of class pwskills"
   ]
  },
  {
   "cell_type": "code",
   "execution_count": 8,
   "id": "6a41d98d-ca47-460a-a65b-9100f091ab62",
   "metadata": {},
   "outputs": [
    {
     "name": "stdout",
     "output_type": "stream",
     "text": [
      "<class '__main__.pwskills'>\n"
     ]
    }
   ],
   "source": [
    "print(type(rohan))"
   ]
  },
  {
   "cell_type": "code",
   "execution_count": 9,
   "id": "20669cf6-a064-4b68-b15c-27b7b9842eb6",
   "metadata": {},
   "outputs": [
    {
     "name": "stdout",
     "output_type": "stream",
     "text": [
      "welcome to pwskills\n"
     ]
    }
   ],
   "source": [
    "rohan.welcome_msg()"
   ]
  },
  {
   "cell_type": "code",
   "execution_count": 12,
   "id": "5b405153-d2ea-41c8-8193-8d1c3d5ffa8d",
   "metadata": {},
   "outputs": [],
   "source": [
    "devesh=pwskills() #object or variable or instance\n",
    "#obejects are the real world entity"
   ]
  },
  {
   "cell_type": "code",
   "execution_count": 27,
   "id": "e74f0c9a-1355-4e0a-a732-1e55839bc378",
   "metadata": {},
   "outputs": [
    {
     "name": "stdout",
     "output_type": "stream",
     "text": [
      "welcome to pwskills\n"
     ]
    }
   ],
   "source": [
    "devesh.welcome_msg()"
   ]
  },
  {
   "cell_type": "code",
   "execution_count": 11,
   "id": "9a8738c5-a5f1-47f7-9485-8d7133fd87a6",
   "metadata": {},
   "outputs": [],
   "source": [
    "#Class is same only object is changing\n",
    "#in class we can make different object \n",
    "#__init__ is a inbuilt function it is also known as contructor it is also know as intilisation\n",
    "#__init__ is used to pass data in class"
   ]
  },
  {
   "cell_type": "code",
   "execution_count": 21,
   "id": "ff582224-ab80-46ce-94e7-054b0537379b",
   "metadata": {},
   "outputs": [],
   "source": [
    "class pwskills1:\n",
    "    def __init__(self,phone_number,email_id,student_id):#init is also known as contructor or intilisation.used to pass function inside class.\n",
    "        self.phone_number=phone_number\n",
    "        self.email_id=email_id\n",
    "        self.student_id=student_id\n",
    "    def return_student_details(self):\n",
    "        return self.student_id,self.phone_number,self.email_id   \n",
    "    #SELF  variable is used to access variable inside class"
   ]
  },
  {
   "cell_type": "code",
   "execution_count": 22,
   "id": "784f6c67-6643-40ea-b657-4ff45a2b9650",
   "metadata": {},
   "outputs": [],
   "source": [
    "devesh=pwskills1(9026236171,\"mishra.devesh@gmail.com\",102)"
   ]
  },
  {
   "cell_type": "code",
   "execution_count": 8,
   "id": "c8e99814-1632-4f98-b45a-1f2a7ff3b11e",
   "metadata": {},
   "outputs": [
    {
     "data": {
      "text/plain": [
       "(102, 9026236171, 'mishra.devesh131@gmail.com')"
      ]
     },
     "execution_count": 8,
     "metadata": {},
     "output_type": "execute_result"
    }
   ],
   "source": [
    "devesh.return_student_details()"
   ]
  },
  {
   "cell_type": "code",
   "execution_count": 15,
   "id": "3d5d4e82-8cc1-4f3a-b4f7-4be82d5d95f5",
   "metadata": {},
   "outputs": [
    {
     "data": {
      "text/plain": [
       "9026236171"
      ]
     },
     "execution_count": 15,
     "metadata": {},
     "output_type": "execute_result"
    }
   ],
   "source": [
    "devesh.phone_number"
   ]
  },
  {
   "cell_type": "code",
   "execution_count": 10,
   "id": "12efad25-9f57-4275-97fd-a1ab837e1820",
   "metadata": {},
   "outputs": [],
   "source": [
    "anurag=pwskills1(8956232356,\"anurag_united2@gmail.com\",103)"
   ]
  },
  {
   "cell_type": "code",
   "execution_count": 11,
   "id": "8b85b341-8acf-47a6-8362-23cd0cb0e8de",
   "metadata": {},
   "outputs": [
    {
     "data": {
      "text/plain": [
       "(103, 8956232356, 'anurag_united2@gmail.com')"
      ]
     },
     "execution_count": 11,
     "metadata": {},
     "output_type": "execute_result"
    }
   ],
   "source": [
    "anurag.return_student_details()"
   ]
  },
  {
   "cell_type": "code",
   "execution_count": 48,
   "id": "2c7b9f1a-1b48-467a-9973-dd5be65fc9f0",
   "metadata": {},
   "outputs": [],
   "source": [
    "class pwskills2:\n",
    "    def __init__(self,phone_number,email_id,student_id):#init is also known as contructor or intilisation.used to pass function inside class.\n",
    "        self.phone_number1=phone_number\n",
    "        self.email_id1=email_id\n",
    "        self.student_id1=student_id\n",
    "    def return_student_details(self):\n",
    "        return self.student_id1,self.phone_number1,self.email_id1   "
   ]
  },
  {
   "cell_type": "code",
   "execution_count": 49,
   "id": "83174a6f-99b0-4389-a60d-f37c100152cd",
   "metadata": {},
   "outputs": [],
   "source": [
    "dev=pwskills1(9026236363,\"dev121@gmail.com\",104)"
   ]
  },
  {
   "cell_type": "code",
   "execution_count": 50,
   "id": "a6288109-46ae-4184-b66b-5246d8c5c653",
   "metadata": {},
   "outputs": [
    {
     "data": {
      "text/plain": [
       "9026236363"
      ]
     },
     "execution_count": 50,
     "metadata": {},
     "output_type": "execute_result"
    }
   ],
   "source": [
    "dev.phone_number1"
   ]
  },
  {
   "cell_type": "code",
   "execution_count": 51,
   "id": "e59aab48-1ede-4d0b-9353-3d02c3101773",
   "metadata": {},
   "outputs": [
    {
     "data": {
      "text/plain": [
       "'dev121@gmail.com'"
      ]
     },
     "execution_count": 51,
     "metadata": {},
     "output_type": "execute_result"
    }
   ],
   "source": [
    "dev.email_id1"
   ]
  },
  {
   "cell_type": "code",
   "execution_count": 52,
   "id": "0308096b-1176-488c-bbb2-0a09d897a43b",
   "metadata": {},
   "outputs": [
    {
     "ename": "AttributeError",
     "evalue": "'pwskills1' object has no attribute 'return_student_details1'",
     "output_type": "error",
     "traceback": [
      "\u001b[0;31m---------------------------------------------------------------------------\u001b[0m",
      "\u001b[0;31mAttributeError\u001b[0m                            Traceback (most recent call last)",
      "Cell \u001b[0;32mIn[52], line 1\u001b[0m\n\u001b[0;32m----> 1\u001b[0m \u001b[43mdev\u001b[49m\u001b[38;5;241;43m.\u001b[39;49m\u001b[43mreturn_student_details1\u001b[49m()\n",
      "\u001b[0;31mAttributeError\u001b[0m: 'pwskills1' object has no attribute 'return_student_details1'"
     ]
    }
   ],
   "source": [
    "dev.return_student_details1()"
   ]
  },
  {
   "cell_type": "code",
   "execution_count": 57,
   "id": "5b509fe5-5b53-473f-8bbb-efc74ab5e519",
   "metadata": {},
   "outputs": [],
   "source": [
    "class pwskills3:\n",
    "    def __init__(d,phone_number,email_id,student_id):#init is also known as contructor or intilisation.used to pass function inside class.\n",
    "        d.phone_number3=phone_number\n",
    "        d.email_id3=email_id\n",
    "        d.student_id3=student_id\n",
    "    def return_student_details(self):\n",
    "        return d.student_id3,d.phone_number3,d.email_id3   "
   ]
  },
  {
   "cell_type": "code",
   "execution_count": 58,
   "id": "affed9d0-f0d2-495d-9196-9a60bf9690c6",
   "metadata": {},
   "outputs": [],
   "source": [
    "dev=pwskills3(8956262336,\"devesh131@gmail.com\",107)"
   ]
  },
  {
   "cell_type": "code",
   "execution_count": 59,
   "id": "2f6b4171-a4f7-425b-bab3-4bb0bdd8add6",
   "metadata": {},
   "outputs": [
    {
     "data": {
      "text/plain": [
       "8956262336"
      ]
     },
     "execution_count": 59,
     "metadata": {},
     "output_type": "execute_result"
    }
   ],
   "source": [
    "dev.phone_number3"
   ]
  },
  {
   "cell_type": "code",
   "execution_count": null,
   "id": "6ba31a9f-da42-44bf-8552-a598ba874392",
   "metadata": {},
   "outputs": [],
   "source": []
  }
 ],
 "metadata": {
  "kernelspec": {
   "display_name": "Python 3 (ipykernel)",
   "language": "python",
   "name": "python3"
  },
  "language_info": {
   "codemirror_mode": {
    "name": "ipython",
    "version": 3
   },
   "file_extension": ".py",
   "mimetype": "text/x-python",
   "name": "python",
   "nbconvert_exporter": "python",
   "pygments_lexer": "ipython3",
   "version": "3.10.8"
  }
 },
 "nbformat": 4,
 "nbformat_minor": 5
}
