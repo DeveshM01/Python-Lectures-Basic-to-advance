{
 "cells": [
  {
   "cell_type": "code",
   "execution_count": 5,
   "id": "44c60c13-dcee-4583-af19-bd67ebc40759",
   "metadata": {},
   "outputs": [],
   "source": [
    "#L4 FOR LOOP Practise\n",
    "a=[1,2,3,4,5,6]"
   ]
  },
  {
   "cell_type": "code",
   "execution_count": 6,
   "id": "ed8f6751-a1ab-473d-91ae-1d1da8e1e345",
   "metadata": {},
   "outputs": [
    {
     "name": "stdout",
     "output_type": "stream",
     "text": [
      "6 <class 'int'>\n",
      "7 <class 'int'>\n",
      "8 <class 'int'>\n",
      "9 <class 'int'>\n",
      "10 <class 'int'>\n",
      "11 <class 'int'>\n"
     ]
    }
   ],
   "source": [
    "for i in a:\n",
    "    print(i+5,type(i))"
   ]
  },
  {
   "cell_type": "code",
   "execution_count": 7,
   "id": "9cdfb4f3-3350-46f5-8813-407864c8ed40",
   "metadata": {},
   "outputs": [
    {
     "data": {
      "text/plain": [
       "list"
      ]
     },
     "execution_count": 7,
     "metadata": {},
     "output_type": "execute_result"
    }
   ],
   "source": [
    "type(a)"
   ]
  },
  {
   "cell_type": "code",
   "execution_count": 2,
   "id": "5cc6bf32-d674-4238-bb8c-d8264eea4a5f",
   "metadata": {},
   "outputs": [],
   "source": [
    "a1=[\"dev\",\"mishra\",\"devesh\",45,45.67,True]"
   ]
  },
  {
   "cell_type": "code",
   "execution_count": 3,
   "id": "21d424d1-54af-4360-a1de-d9c7934bd601",
   "metadata": {},
   "outputs": [
    {
     "name": "stdout",
     "output_type": "stream",
     "text": [
      "dev\n",
      "mishra\n",
      "devesh\n",
      "45\n",
      "45.67\n",
      "True\n",
      "do something\n"
     ]
    }
   ],
   "source": [
    "for i in a1:\n",
    "    print(i)\n",
    "else:\n",
    "    print(\"do something\")\n",
    "#else loop only get executed when for loop completely executed.\n",
    "\n",
    "    "
   ]
  },
  {
   "cell_type": "code",
   "execution_count": 4,
   "id": "c3b608a1-6995-49bf-a361-ad06622a4ff1",
   "metadata": {},
   "outputs": [
    {
     "data": {
      "text/plain": [
       "['dev', 'mishra', 'devesh', 45, 45.67, True]"
      ]
     },
     "execution_count": 4,
     "metadata": {},
     "output_type": "execute_result"
    }
   ],
   "source": [
    "a1"
   ]
  },
  {
   "cell_type": "code",
   "execution_count": 5,
   "id": "965cce35-aee0-43e7-a584-76afbf0f9170",
   "metadata": {},
   "outputs": [
    {
     "name": "stdout",
     "output_type": "stream",
     "text": [
      "dev\n",
      "mishra\n"
     ]
    }
   ],
   "source": [
    "for i in a1:\n",
    "    if i ==\"devesh\":\n",
    "        break\n",
    "    print(i)\n",
    "\n",
    "#after break fuction nothing will be executed."
   ]
  },
  {
   "cell_type": "code",
   "execution_count": 6,
   "id": "d3a4bebe-742b-445c-8545-ed0603b28bef",
   "metadata": {},
   "outputs": [
    {
     "data": {
      "text/plain": [
       "['dev', 'mishra', 'devesh', 45, 45.67, True]"
      ]
     },
     "execution_count": 6,
     "metadata": {},
     "output_type": "execute_result"
    }
   ],
   "source": [
    "a1"
   ]
  },
  {
   "cell_type": "code",
   "execution_count": 7,
   "id": "b87ed60f-2670-4937-8573-626c21cf3a7d",
   "metadata": {},
   "outputs": [
    {
     "name": "stdout",
     "output_type": "stream",
     "text": [
      "dev\n",
      "mishra\n"
     ]
    }
   ],
   "source": [
    "for i in a1:\n",
    "    if i ==\"devesh\":\n",
    "        break #completely break.\n",
    "    print(i)\n",
    "else:\n",
    "    print(\"execute this if for loop is able to complete itself\")\n",
    "#else function does not executed because for loop does not completely executed.\n",
    "\n",
    "    "
   ]
  },
  {
   "cell_type": "code",
   "execution_count": 8,
   "id": "3d2cfc01-4ed4-4950-bb98-abca341e4b74",
   "metadata": {},
   "outputs": [
    {
     "name": "stdout",
     "output_type": "stream",
     "text": [
      "dev\n",
      "mishra\n",
      "45\n",
      "45.67\n",
      "True\n",
      "execute this if for loop is able to complete itself\n"
     ]
    }
   ],
   "source": [
    "for i in a1:\n",
    "    if i ==\"devesh\":\n",
    "        continue #immediate send control to for loop,again then loop starts.\n",
    "    print(i)\n",
    "else: #else function will be exceuted because for loop will be completly executed.\n",
    "    print(\"execute this if for loop is able to complete itself\")"
   ]
  },
  {
   "cell_type": "code",
   "execution_count": 15,
   "id": "efed36e7-2d6b-4548-8d6e-bd45021971ba",
   "metadata": {},
   "outputs": [],
   "source": [
    "#continue function execute all other function except that element\"devesh\"."
   ]
  },
  {
   "cell_type": "code",
   "execution_count": 16,
   "id": "21071317-550a-4385-91c8-fd6462e7e5eb",
   "metadata": {},
   "outputs": [
    {
     "data": {
      "text/plain": [
       "range(0, 20)"
      ]
     },
     "execution_count": 16,
     "metadata": {},
     "output_type": "execute_result"
    }
   ],
   "source": [
    "#range fuction shows the range excluding 6.\n",
    "#it is type genrator function.it genrates the data.\n",
    "range(20) "
   ]
  },
  {
   "cell_type": "code",
   "execution_count": 17,
   "id": "21bcf21d-2d08-4149-9c2c-54bb452a93b8",
   "metadata": {},
   "outputs": [
    {
     "data": {
      "text/plain": [
       "[0, 1, 2, 3, 4, 5, 6, 7, 8, 9, 10, 11, 12, 13, 14, 15, 16, 17, 18, 19]"
      ]
     },
     "execution_count": 17,
     "metadata": {},
     "output_type": "execute_result"
    }
   ],
   "source": [
    "list(range(20)) #method of upper and lower bound."
   ]
  },
  {
   "cell_type": "code",
   "execution_count": 18,
   "id": "4a0b64b6-8d34-4daa-b916-812a8c96eaab",
   "metadata": {},
   "outputs": [
    {
     "data": {
      "text/plain": [
       "[0, 3, 6, 9, 12, 15, 18]"
      ]
     },
     "execution_count": 18,
     "metadata": {},
     "output_type": "execute_result"
    }
   ],
   "source": [
    "#based on indexing and slicing concept\n",
    "list(range(0,20,3))"
   ]
  },
  {
   "cell_type": "code",
   "execution_count": 19,
   "id": "801b7a10-8ef4-413b-9360-904cf9abe991",
   "metadata": {},
   "outputs": [
    {
     "data": {
      "text/plain": [
       "[0, 3, 6, 9, 12, 15, 18, 21]"
      ]
     },
     "execution_count": 19,
     "metadata": {},
     "output_type": "execute_result"
    }
   ],
   "source": [
    "list (range(0,24,3)) #excluding upperbound (24)\n",
    "#0 is Starting\n",
    "# 24 is end \n",
    "# 3 is jump"
   ]
  },
  {
   "cell_type": "code",
   "execution_count": 20,
   "id": "49452fee-dc52-4a0e-82ba-fdc7a6473530",
   "metadata": {},
   "outputs": [
    {
     "data": {
      "text/plain": [
       "[-10, -8, -6, -4, -2, 0, 2, 4, 6, 8]"
      ]
     },
     "execution_count": 20,
     "metadata": {},
     "output_type": "execute_result"
    }
   ],
   "source": [
    "list(range(-10,10,2))"
   ]
  },
  {
   "cell_type": "code",
   "execution_count": 21,
   "id": "d892759e-c38a-4a36-ba6c-960c4485fead",
   "metadata": {},
   "outputs": [
    {
     "data": {
      "text/plain": [
       "['dev', 'mishra', 'devesh', 45, 45.67, True]"
      ]
     },
     "execution_count": 21,
     "metadata": {},
     "output_type": "execute_result"
    }
   ],
   "source": [
    "a1"
   ]
  },
  {
   "cell_type": "code",
   "execution_count": 22,
   "id": "d45311df-cdf9-4187-8817-115e6ff6e317",
   "metadata": {},
   "outputs": [],
   "source": [
    "a2=['dev','mishra','anurag','golu','molu']"
   ]
  },
  {
   "cell_type": "code",
   "execution_count": 23,
   "id": "ea0e7921-0a4d-406a-a1af-d1dc36b6def7",
   "metadata": {},
   "outputs": [
    {
     "data": {
      "text/plain": [
       "['dev', 'mishra', 'anurag', 'golu', 'molu']"
      ]
     },
     "execution_count": 23,
     "metadata": {},
     "output_type": "execute_result"
    }
   ],
   "source": [
    "a2"
   ]
  },
  {
   "cell_type": "code",
   "execution_count": 24,
   "id": "15abc017-8e8a-4d53-84fc-80828d67752c",
   "metadata": {},
   "outputs": [
    {
     "data": {
      "text/plain": [
       "5"
      ]
     },
     "execution_count": 24,
     "metadata": {},
     "output_type": "execute_result"
    }
   ],
   "source": [
    "len(a2)"
   ]
  },
  {
   "cell_type": "code",
   "execution_count": 25,
   "id": "5450d7b3-5458-43f9-a22e-33f0461accfe",
   "metadata": {},
   "outputs": [
    {
     "data": {
      "text/plain": [
       "[0, 1, 2, 3, 4]"
      ]
     },
     "execution_count": 25,
     "metadata": {},
     "output_type": "execute_result"
    }
   ],
   "source": [
    "#shows the index of the number.\n",
    "list(range(len(a2)))"
   ]
  },
  {
   "cell_type": "code",
   "execution_count": 26,
   "id": "80f24b1d-b663-48a4-b191-4ebcf422c14a",
   "metadata": {},
   "outputs": [
    {
     "name": "stdout",
     "output_type": "stream",
     "text": [
      "dev\n",
      "mishra\n",
      "anurag\n",
      "golu\n",
      "molu\n"
     ]
    }
   ],
   "source": [
    "  for i in range(len(a2)):\n",
    "        print(a2[i])"
   ]
  },
  {
   "cell_type": "code",
   "execution_count": 27,
   "id": "5fef27d7-41aa-4e84-abb5-f841320f2306",
   "metadata": {},
   "outputs": [
    {
     "data": {
      "text/plain": [
       "[4, 3, 2, 1, 0]"
      ]
     },
     "execution_count": 27,
     "metadata": {},
     "output_type": "execute_result"
    }
   ],
   "source": [
    "#taking out data in negative direction.\n",
    "list(range(len(a2)-1,-1,-1))\n"
   ]
  },
  {
   "cell_type": "code",
   "execution_count": 28,
   "id": "b0c43a36-a11d-4a4d-ab32-30dab252bc14",
   "metadata": {},
   "outputs": [
    {
     "name": "stdout",
     "output_type": "stream",
     "text": [
      "molu\n",
      "golu\n",
      "anurag\n",
      "mishra\n",
      "dev\n"
     ]
    }
   ],
   "source": [
    "for i in range(len(a2)-1,-1,-1):\n",
    "    print(a2[i])\n"
   ]
  },
  {
   "cell_type": "code",
   "execution_count": 29,
   "id": "8a54e006-826c-4606-b3fa-eff22cdc8f7f",
   "metadata": {},
   "outputs": [],
   "source": [
    "#taking out data which are even index\n",
    "a3=[2,45,67,89,98,76,54,32,56,78,65,85,88]"
   ]
  },
  {
   "cell_type": "code",
   "execution_count": 30,
   "id": "25e273e8-638b-4442-b27c-49ff1040711c",
   "metadata": {},
   "outputs": [
    {
     "data": {
      "text/plain": [
       "[0, 2, 4, 6, 8, 10, 12]"
      ]
     },
     "execution_count": 30,
     "metadata": {},
     "output_type": "execute_result"
    }
   ],
   "source": [
    "list(range(0,len(a3),2))\n",
    "#list of element which are at even index."
   ]
  },
  {
   "cell_type": "code",
   "execution_count": 49,
   "id": "ea5f094b-1e2c-46dd-a036-8da6be1e1edc",
   "metadata": {},
   "outputs": [
    {
     "name": "stdout",
     "output_type": "stream",
     "text": [
      "2\n",
      "67\n",
      "98\n",
      "54\n",
      "56\n",
      "65\n",
      "88\n"
     ]
    }
   ],
   "source": [
    "for i in range(0,len(a3),2):\n",
    "    print(a3[i])"
   ]
  },
  {
   "cell_type": "code",
   "execution_count": 52,
   "id": "334404d4-d039-4132-ac47-9e4d8aee915e",
   "metadata": {},
   "outputs": [
    {
     "data": {
      "text/plain": [
       "[2, 45, 67, 89, 98, 76, 54, 32, 56, 78, 65, 85, 88]"
      ]
     },
     "execution_count": 52,
     "metadata": {},
     "output_type": "execute_result"
    }
   ],
   "source": [
    "#summation of all the element present in the list.\n",
    "a3"
   ]
  },
  {
   "cell_type": "code",
   "execution_count": 53,
   "id": "dfc16fc4-f840-46a9-ad38-572239b3ceac",
   "metadata": {},
   "outputs": [
    {
     "data": {
      "text/plain": [
       "835"
      ]
     },
     "execution_count": 53,
     "metadata": {},
     "output_type": "execute_result"
    }
   ],
   "source": [
    "sum(a3)"
   ]
  },
  {
   "cell_type": "code",
   "execution_count": 59,
   "id": "e27829f9-8a8c-4f47-accb-dbf95b5d87dc",
   "metadata": {},
   "outputs": [
    {
     "data": {
      "text/plain": [
       "835"
      ]
     },
     "execution_count": 59,
     "metadata": {},
     "output_type": "execute_result"
    }
   ],
   "source": [
    "result=0\n",
    "for i in a3:\n",
    "    result=result+i\n",
    "result    \n",
    "    \n",
    "    "
   ]
  },
  {
   "cell_type": "code",
   "execution_count": 11,
   "id": "dec9e806-6987-4ee1-b682-d8e5e63a7fb2",
   "metadata": {},
   "outputs": [],
   "source": [
    "#also works in tupple\n",
    "t=(2,3,4,56,7,8,9,0,76,54,3,2)"
   ]
  },
  {
   "cell_type": "code",
   "execution_count": 12,
   "id": "6dad5979-4332-41f0-9269-4fdbc95dd44c",
   "metadata": {},
   "outputs": [
    {
     "data": {
      "text/plain": [
       "224"
      ]
     },
     "execution_count": 12,
     "metadata": {},
     "output_type": "execute_result"
    }
   ],
   "source": [
    "result=0\n",
    "for i in t:\n",
    "    result=result+i\n",
    "result    \n",
    "    \n",
    "    "
   ]
  },
  {
   "cell_type": "code",
   "execution_count": 13,
   "id": "585ac6a3-7be1-47e1-8adb-dc63d40f2eba",
   "metadata": {},
   "outputs": [
    {
     "ename": "NameError",
     "evalue": "name 'a1' is not defined",
     "output_type": "error",
     "traceback": [
      "\u001b[0;31m---------------------------------------------------------------------------\u001b[0m",
      "\u001b[0;31mNameError\u001b[0m                                 Traceback (most recent call last)",
      "Cell \u001b[0;32mIn[13], line 1\u001b[0m\n\u001b[0;32m----> 1\u001b[0m \u001b[43ma1\u001b[49m\n",
      "\u001b[0;31mNameError\u001b[0m: name 'a1' is not defined"
     ]
    }
   ],
   "source": [
    "a1"
   ]
  },
  {
   "cell_type": "code",
   "execution_count": 14,
   "id": "3fa04ce3-4ea3-4d7c-89d4-b9bb6ee2cd71",
   "metadata": {},
   "outputs": [],
   "source": [
    "q='devesh'"
   ]
  },
  {
   "cell_type": "code",
   "execution_count": 15,
   "id": "0db7f971-2310-4486-8bed-27c39aebee8d",
   "metadata": {},
   "outputs": [
    {
     "name": "stdout",
     "output_type": "stream",
     "text": [
      "d\n",
      "e\n",
      "v\n",
      "e\n",
      "s\n",
      "h\n"
     ]
    }
   ],
   "source": [
    "for i in q:\n",
    "    print(i)"
   ]
  },
  {
   "cell_type": "code",
   "execution_count": 9,
   "id": "2751f205-654f-446d-8606-55399e29e3ff",
   "metadata": {},
   "outputs": [],
   "source": [
    "#loop works in all the format (sets,tupples,list,dictionary)"
   ]
  },
  {
   "cell_type": "code",
   "execution_count": 17,
   "id": "2915f037-fb77-4d93-9f75-b2109dc7846a",
   "metadata": {},
   "outputs": [],
   "source": [
    "d={'name':'dev','class':'data science master',\n",
    "  'topic':['python','stats','machine learning','DL','cl','NLP','interviewe']}"
   ]
  },
  {
   "cell_type": "code",
   "execution_count": 18,
   "id": "8f919439-f258-4fb8-84d1-b6b30db2cf51",
   "metadata": {},
   "outputs": [
    {
     "data": {
      "text/plain": [
       "{'name': 'dev',\n",
       " 'class': 'data science master',\n",
       " 'topic': ['python',\n",
       "  'stats',\n",
       "  'machine learning',\n",
       "  'DL',\n",
       "  'cl',\n",
       "  'NLP',\n",
       "  'interviewe']}"
      ]
     },
     "execution_count": 18,
     "metadata": {},
     "output_type": "execute_result"
    }
   ],
   "source": [
    "d"
   ]
  },
  {
   "cell_type": "code",
   "execution_count": 19,
   "id": "c425c38a-9ffa-4226-ad57-df1a93939d89",
   "metadata": {},
   "outputs": [
    {
     "data": {
      "text/plain": [
       "dict_keys(['name', 'class', 'topic'])"
      ]
     },
     "execution_count": 19,
     "metadata": {},
     "output_type": "execute_result"
    }
   ],
   "source": [
    "d.keys()"
   ]
  },
  {
   "cell_type": "code",
   "execution_count": 20,
   "id": "85ef268c-8093-4476-8fea-83662c09559c",
   "metadata": {},
   "outputs": [
    {
     "name": "stdout",
     "output_type": "stream",
     "text": [
      "dev\n",
      "data science master\n",
      "['python', 'stats', 'machine learning', 'DL', 'cl', 'NLP', 'interviewe']\n"
     ]
    }
   ],
   "source": [
    "for i in d.keys():\n",
    "    print(d[i])"
   ]
  },
  {
   "cell_type": "code",
   "execution_count": 21,
   "id": "53b2057c-dfe6-4001-98e7-d3f374c7d896",
   "metadata": {},
   "outputs": [
    {
     "data": {
      "text/plain": [
       "dict_values(['dev', 'data science master', ['python', 'stats', 'machine learning', 'DL', 'cl', 'NLP', 'interviewe']])"
      ]
     },
     "execution_count": 21,
     "metadata": {},
     "output_type": "execute_result"
    }
   ],
   "source": [
    "d.values()"
   ]
  },
  {
   "cell_type": "code",
   "execution_count": 25,
   "id": "b77e3033-d809-4012-a460-eb4c80bd294e",
   "metadata": {},
   "outputs": [
    {
     "name": "stdout",
     "output_type": "stream",
     "text": [
      "dev\n",
      "data science master\n",
      "['python', 'stats', 'machine learning', 'DL', 'cl', 'NLP', 'interviewe']\n"
     ]
    }
   ],
   "source": [
    "for i in d.values():\n",
    "     print(i)"
   ]
  },
  {
   "cell_type": "code",
   "execution_count": 27,
   "id": "b4b1ea84-22d1-49d3-976b-1df504237ad3",
   "metadata": {},
   "outputs": [
    {
     "data": {
      "text/plain": [
       "dict_items([('name', 'dev'), ('class', 'data science master'), ('topic', ['python', 'stats', 'machine learning', 'DL', 'cl', 'NLP', 'interviewe'])])"
      ]
     },
     "execution_count": 27,
     "metadata": {},
     "output_type": "execute_result"
    }
   ],
   "source": [
    "d.items()"
   ]
  },
  {
   "cell_type": "code",
   "execution_count": 28,
   "id": "7ea1769e-4ef5-455d-83d6-aa8e1a514dd9",
   "metadata": {},
   "outputs": [
    {
     "name": "stdout",
     "output_type": "stream",
     "text": [
      "('name', 'dev')\n",
      "('class', 'data science master')\n",
      "('topic', ['python', 'stats', 'machine learning', 'DL', 'cl', 'NLP', 'interviewe'])\n"
     ]
    }
   ],
   "source": [
    "for i in d.items():\n",
    "    print(i)"
   ]
  },
  {
   "cell_type": "code",
   "execution_count": 2,
   "id": "6177bd2a-e481-46ab-94a3-6836454a4ba7",
   "metadata": {},
   "outputs": [
    {
     "ename": "NameError",
     "evalue": "name 'a2' is not defined",
     "output_type": "error",
     "traceback": [
      "\u001b[0;31m---------------------------------------------------------------------------\u001b[0m",
      "\u001b[0;31mNameError\u001b[0m                                 Traceback (most recent call last)",
      "Cell \u001b[0;32mIn[2], line 1\u001b[0m\n\u001b[0;32m----> 1\u001b[0m \u001b[43ma2\u001b[49m\n",
      "\u001b[0;31mNameError\u001b[0m: name 'a2' is not defined"
     ]
    }
   ],
   "source": [
    "a2"
   ]
  },
  {
   "cell_type": "markdown",
   "id": "773c766c-133a-453c-b0e0-98283763d54b",
   "metadata": {},
   "source": []
  },
  {
   "cell_type": "code",
   "execution_count": null,
   "id": "38d504c1-40f7-4d0b-94e8-4b0eaaf7cfb1",
   "metadata": {},
   "outputs": [],
   "source": []
  }
 ],
 "metadata": {
  "kernelspec": {
   "display_name": "Python 3 (ipykernel)",
   "language": "python",
   "name": "python3"
  },
  "language_info": {
   "codemirror_mode": {
    "name": "ipython",
    "version": 3
   },
   "file_extension": ".py",
   "mimetype": "text/x-python",
   "name": "python",
   "nbconvert_exporter": "python",
   "pygments_lexer": "ipython3",
   "version": "3.10.8"
  }
 },
 "nbformat": 4,
 "nbformat_minor": 5
}
