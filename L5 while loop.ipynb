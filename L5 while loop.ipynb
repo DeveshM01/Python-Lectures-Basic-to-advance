{
 "cells": [
  {
   "cell_type": "code",
   "execution_count": 1,
   "id": "a6158273-c41a-4429-9939-c8b4bfecd006",
   "metadata": {},
   "outputs": [],
   "source": [
    "#WHILE loop\n",
    "#While check the condition first then goes to another.\n",
    "#for loop does not check the condition first.\n"
   ]
  },
  {
   "cell_type": "code",
   "execution_count": 3,
   "id": "80d6dd86-7645-41b1-82e0-db72cb81c2c7",
   "metadata": {},
   "outputs": [
    {
     "name": "stdout",
     "output_type": "stream",
     "text": [
      "1\n",
      "2\n",
      "3\n",
      "4\n",
      "5\n",
      "6\n",
      "7\n",
      "8\n",
      "9\n",
      "10\n",
      "11\n",
      "12\n",
      "13\n",
      "14\n",
      "15\n"
     ]
    }
   ],
   "source": [
    "a=1\n",
    "while a<=15:\n",
    "    print(a)\n",
    "    a=a+1"
   ]
  },
  {
   "cell_type": "code",
   "execution_count": 4,
   "id": "be51fc48-fb7d-4a3e-8337-2266c7f147cb",
   "metadata": {},
   "outputs": [],
   "source": [
    "#sum up the number till some point"
   ]
  },
  {
   "cell_type": "code",
   "execution_count": 1,
   "id": "c871f182-25ef-4f31-b21f-bae9a53dc581",
   "metadata": {},
   "outputs": [
    {
     "name": "stdin",
     "output_type": "stream",
     "text": [
      "enter your limit 20\n"
     ]
    },
    {
     "data": {
      "text/plain": [
       "210"
      ]
     },
     "execution_count": 1,
     "metadata": {},
     "output_type": "execute_result"
    }
   ],
   "source": [
    "n= int(input(\"enter your limit\"))\n",
    "starting_point=0\n",
    "counter=1 #starting point of the loop\n",
    "\n",
    "while counter<=n:\n",
    "    starting_point=starting_point+counter\n",
    "    counter=counter+1\n",
    "starting_point   \n",
    "    "
   ]
  },
  {
   "cell_type": "code",
   "execution_count": 2,
   "id": "1a281874-1a80-4948-9e9e-787be26801c4",
   "metadata": {},
   "outputs": [],
   "source": [
    "#Factorial Concept"
   ]
  },
  {
   "cell_type": "code",
   "execution_count": 3,
   "id": "2f17c6c3-1000-4b8a-84a3-77edb6bf1353",
   "metadata": {},
   "outputs": [
    {
     "name": "stdin",
     "output_type": "stream",
     "text": [
      "enter your factorail number 5\n"
     ]
    },
    {
     "data": {
      "text/plain": [
       "120"
      ]
     },
     "execution_count": 3,
     "metadata": {},
     "output_type": "execute_result"
    }
   ],
   "source": [
    "number=int(input(\"enter your factorail number\"))\n",
    "factorial=1\n",
    "while number>0:\n",
    "    factorial=factorial*number\n",
    "    number=number-1\n",
    "factorial    "
   ]
  },
  {
   "cell_type": "code",
   "execution_count": 1,
   "id": "fc3eb92f-2e48-4162-ab4c-0b26673bc9d5",
   "metadata": {},
   "outputs": [],
   "source": [
    "#fabonacci series\n",
    "#next number is genrated is sum of prevoius two numbers."
   ]
  },
  {
   "cell_type": "code",
   "execution_count": 2,
   "id": "ffa8a6be-4e0d-40b6-9a74-9b8bd235a40e",
   "metadata": {},
   "outputs": [
    {
     "name": "stdin",
     "output_type": "stream",
     "text": [
      "enter the number of element you are looking for 10\n"
     ]
    },
    {
     "name": "stdout",
     "output_type": "stream",
     "text": [
      "0\n",
      "1\n",
      "1\n",
      "2\n",
      "3\n",
      "5\n",
      "8\n",
      "13\n",
      "21\n",
      "34\n"
     ]
    }
   ],
   "source": [
    "number=int(input('enter the number of element you are looking for'))\n",
    "a,b=0,1\n",
    "counter=0\n",
    "while counter<number:\n",
    "    print(a)\n",
    "    c=a+b\n",
    "    a=b\n",
    "    b=c\n",
    "    counter=counter+1\n",
    "    "
   ]
  },
  {
   "cell_type": "code",
   "execution_count": 1,
   "id": "5779d908-075c-4db5-941f-7e294a5a4ff6",
   "metadata": {},
   "outputs": [],
   "source": [
    "# fabinocci series with the help of FOR LOOP\n"
   ]
  },
  {
   "cell_type": "code",
   "execution_count": 2,
   "id": "86333810-ad0b-4d2a-8a9c-164ef999025a",
   "metadata": {},
   "outputs": [
    {
     "name": "stdout",
     "output_type": "stream",
     "text": [
      "0\n",
      "1\n",
      "1\n",
      "2\n",
      "3\n",
      "5\n",
      "8\n",
      "13\n",
      "21\n",
      "34\n"
     ]
    }
   ],
   "source": [
    "a,b=0,1\n",
    "for i in range(10):\n",
    "    print(a)\n",
    "    c=a+b\n",
    "    a=b\n",
    "    b=c"
   ]
  },
  {
   "cell_type": "code",
   "execution_count": 1,
   "id": "93c6d61c-6cee-4643-acf6-4f39d1f8671b",
   "metadata": {},
   "outputs": [],
   "source": [
    "a='devesh'"
   ]
  },
  {
   "cell_type": "code",
   "execution_count": 2,
   "id": "a56cf0b8-085c-4b72-a1bb-270495d9ecee",
   "metadata": {},
   "outputs": [
    {
     "data": {
      "text/plain": [
       "'hseved'"
      ]
     },
     "execution_count": 2,
     "metadata": {},
     "output_type": "execute_result"
    }
   ],
   "source": [
    "a[::-1]"
   ]
  },
  {
   "cell_type": "code",
   "execution_count": 5,
   "id": "20ee820d-884a-4227-8a73-78ce0c9f3e21",
   "metadata": {},
   "outputs": [
    {
     "name": "stdin",
     "output_type": "stream",
     "text": [
      "enter your string for reversal mishra\n"
     ]
    }
   ],
   "source": [
    "word=input(\"enter your string for reversal\")\n",
    "   "
   ]
  },
  {
   "cell_type": "code",
   "execution_count": 6,
   "id": "9d554397-1cc2-4343-8d03-c1e5f2e27df4",
   "metadata": {},
   "outputs": [
    {
     "name": "stdout",
     "output_type": "stream",
     "text": [
      "arhsim\n"
     ]
    }
   ],
   "source": [
    "reverse=\"\"\n",
    "length=len(word)\n",
    "while length>0:\n",
    "    reverse=reverse+word[length-1]\n",
    "    length=length-1\n",
    "print(reverse)  \n"
   ]
  },
  {
   "cell_type": "code",
   "execution_count": 3,
   "id": "9728cac2-64a7-40a5-b9aa-de0d684d2b64",
   "metadata": {},
   "outputs": [],
   "source": [
    "# print table of numbers with the help of while loop "
   ]
  },
  {
   "cell_type": "code",
   "execution_count": 4,
   "id": "45e071ee-bfb6-4a50-a265-08f583d172a7",
   "metadata": {},
   "outputs": [
    {
     "name": "stdin",
     "output_type": "stream",
     "text": [
      "enter your number 6\n"
     ]
    },
    {
     "name": "stdout",
     "output_type": "stream",
     "text": [
      "6 * 1 = 6\n",
      "6 * 2 = 12\n",
      "6 * 3 = 18\n",
      "6 * 4 = 24\n",
      "6 * 5 = 30\n",
      "6 * 6 = 36\n",
      "6 * 7 = 42\n",
      "6 * 8 = 48\n",
      "6 * 9 = 54\n",
      "6 * 10 = 60\n"
     ]
    }
   ],
   "source": [
    "n=int(input(\"enter your number\"))\n",
    "i=1\n",
    "while i<=10:\n",
    "    result=n*i\n",
    "    print(n,\"*\",i,\"=\",result)\n",
    "    i=i+1"
   ]
  },
  {
   "cell_type": "code",
   "execution_count": 6,
   "id": "d940fdda-591b-4d3a-ba3c-1915748a4a42",
   "metadata": {},
   "outputs": [],
   "source": [
    "#use of else with the of while"
   ]
  },
  {
   "cell_type": "code",
   "execution_count": 19,
   "id": "ddb3dd7d-2725-489e-80b0-3df5b9fb82c6",
   "metadata": {},
   "outputs": [
    {
     "name": "stdout",
     "output_type": "stream",
     "text": [
      "1\n",
      "2\n",
      "3\n",
      "4\n",
      "5\n",
      "6\n",
      "7\n",
      "this will be executed once your while will be completely executed\n"
     ]
    }
   ],
   "source": [
    "n=7\n",
    "i=1\n",
    "while i<=7:\n",
    "    print(i)\n",
    "    i=i+1\n",
    "else:\n",
    "    print(\"this will be executed once your while will be completely executed\")"
   ]
  },
  {
   "cell_type": "code",
   "execution_count": 20,
   "id": "aade73a7-a5fa-4efc-8bab-ac48e2a71eee",
   "metadata": {},
   "outputs": [
    {
     "name": "stdout",
     "output_type": "stream",
     "text": [
      "1\n",
      "2\n",
      "3\n"
     ]
    }
   ],
   "source": [
    "n=7\n",
    "i=1\n",
    "while i<=7:\n",
    "    print(i)\n",
    "    if i==3:\n",
    "        break\n",
    "    i=i+1\n",
    "else:\n",
    "    print(\"this will be executed once your while will be completely executed\")"
   ]
  },
  {
   "cell_type": "code",
   "execution_count": null,
   "id": "c82f9dc0-3ea3-438d-84a3-6d271f4a7c2d",
   "metadata": {},
   "outputs": [],
   "source": []
  }
 ],
 "metadata": {
  "kernelspec": {
   "display_name": "Python 3 (ipykernel)",
   "language": "python",
   "name": "python3"
  },
  "language_info": {
   "codemirror_mode": {
    "name": "ipython",
    "version": 3
   },
   "file_extension": ".py",
   "mimetype": "text/x-python",
   "name": "python",
   "nbconvert_exporter": "python",
   "pygments_lexer": "ipython3",
   "version": "3.10.8"
  }
 },
 "nbformat": 4,
 "nbformat_minor": 5
}
