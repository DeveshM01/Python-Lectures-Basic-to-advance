{
 "cells": [
  {
   "cell_type": "code",
   "execution_count": 1,
   "id": "785ecf98-9058-48b4-a284-0d812ff45b86",
   "metadata": {},
   "outputs": [],
   "source": [
    "a=10"
   ]
  },
  {
   "cell_type": "code",
   "execution_count": 2,
   "id": "347296e1-301a-4523-a544-20679df44abb",
   "metadata": {},
   "outputs": [
    {
     "data": {
      "text/plain": [
       "int"
      ]
     },
     "execution_count": 2,
     "metadata": {},
     "output_type": "execute_result"
    }
   ],
   "source": [
    "type(a)"
   ]
  },
  {
   "cell_type": "code",
   "execution_count": 3,
   "id": "16297494-347d-4cb5-bc1e-f68742bdf00d",
   "metadata": {},
   "outputs": [],
   "source": [
    "a='devesh'"
   ]
  },
  {
   "cell_type": "code",
   "execution_count": 4,
   "id": "a12072d6-cb3d-4865-b631-f84227b7fdeb",
   "metadata": {},
   "outputs": [
    {
     "data": {
      "text/plain": [
       "'devesh'"
      ]
     },
     "execution_count": 4,
     "metadata": {},
     "output_type": "execute_result"
    }
   ],
   "source": [
    "a"
   ]
  },
  {
   "cell_type": "code",
   "execution_count": 5,
   "id": "27f7969b-3a7b-42e2-bc51-94620532508f",
   "metadata": {},
   "outputs": [
    {
     "data": {
      "text/plain": [
       "str"
      ]
     },
     "execution_count": 5,
     "metadata": {},
     "output_type": "execute_result"
    }
   ],
   "source": [
    "type(a)"
   ]
  },
  {
   "cell_type": "code",
   "execution_count": 10,
   "id": "cc98f7c5-b062-4fe4-8f3d-ac6b98bb5e3d",
   "metadata": {},
   "outputs": [],
   "source": [
    "a=True"
   ]
  },
  {
   "cell_type": "code",
   "execution_count": 11,
   "id": "7da7c49f-a7e1-4ab7-9f35-f041cdb7093a",
   "metadata": {},
   "outputs": [
    {
     "data": {
      "text/plain": [
       "bool"
      ]
     },
     "execution_count": 11,
     "metadata": {},
     "output_type": "execute_result"
    }
   ],
   "source": [
    "type(a)"
   ]
  },
  {
   "cell_type": "code",
   "execution_count": 12,
   "id": "53d34c01-e9e8-46e3-8040-77d6f15bc039",
   "metadata": {},
   "outputs": [],
   "source": [
    "a=True*True"
   ]
  },
  {
   "cell_type": "code",
   "execution_count": 13,
   "id": "b840995d-f46b-48e8-8c19-a8e2c4d52b11",
   "metadata": {},
   "outputs": [
    {
     "data": {
      "text/plain": [
       "1"
      ]
     },
     "execution_count": 13,
     "metadata": {},
     "output_type": "execute_result"
    }
   ],
   "source": [
    "a"
   ]
  },
  {
   "cell_type": "code",
   "execution_count": 14,
   "id": "a835ad6e-bed6-4a99-ae59-61f6b8e2cb1e",
   "metadata": {},
   "outputs": [
    {
     "data": {
      "text/plain": [
       "0.0"
      ]
     },
     "execution_count": 14,
     "metadata": {},
     "output_type": "execute_result"
    }
   ],
   "source": [
    "False/True"
   ]
  },
  {
   "cell_type": "code",
   "execution_count": 15,
   "id": "4b7d217c-e00e-4433-be43-b45048c0f5e5",
   "metadata": {},
   "outputs": [
    {
     "ename": "ZeroDivisionError",
     "evalue": "division by zero",
     "output_type": "error",
     "traceback": [
      "\u001b[0;31m---------------------------------------------------------------------------\u001b[0m",
      "\u001b[0;31mZeroDivisionError\u001b[0m                         Traceback (most recent call last)",
      "Cell \u001b[0;32mIn[15], line 1\u001b[0m\n\u001b[0;32m----> 1\u001b[0m \u001b[38;5;28;43;01mTrue\u001b[39;49;00m\u001b[38;5;241;43m/\u001b[39;49m\u001b[38;5;28;43;01mFalse\u001b[39;49;00m\n",
      "\u001b[0;31mZeroDivisionError\u001b[0m: division by zero"
     ]
    }
   ],
   "source": [
    "True/False"
   ]
  },
  {
   "cell_type": "code",
   "execution_count": 16,
   "id": "5e343392-a201-42a4-aac7-7ab37f5e4929",
   "metadata": {},
   "outputs": [],
   "source": [
    "d=10+5j"
   ]
  },
  {
   "cell_type": "code",
   "execution_count": 17,
   "id": "00247eb7-0614-4fbe-b501-c76f3c9fa219",
   "metadata": {},
   "outputs": [
    {
     "data": {
      "text/plain": [
       "complex"
      ]
     },
     "execution_count": 17,
     "metadata": {},
     "output_type": "execute_result"
    }
   ],
   "source": [
    "type(d)"
   ]
  },
  {
   "cell_type": "code",
   "execution_count": 18,
   "id": "0bf04061-e714-4188-bd82-9a483de36e35",
   "metadata": {},
   "outputs": [
    {
     "data": {
      "text/plain": [
       "10.0"
      ]
     },
     "execution_count": 18,
     "metadata": {},
     "output_type": "execute_result"
    }
   ],
   "source": [
    "d.real\n"
   ]
  },
  {
   "cell_type": "code",
   "execution_count": 19,
   "id": "d407e436-05f7-4784-88d2-c49e54b75b43",
   "metadata": {},
   "outputs": [
    {
     "data": {
      "text/plain": [
       "5.0"
      ]
     },
     "execution_count": 19,
     "metadata": {},
     "output_type": "execute_result"
    }
   ],
   "source": [
    "d.imag"
   ]
  },
  {
   "cell_type": "code",
   "execution_count": 28,
   "id": "7059895f-8e17-4579-aa4d-b1ee01a022ab",
   "metadata": {},
   "outputs": [],
   "source": [
    "print=(\"devesh mishra\")"
   ]
  },
  {
   "cell_type": "code",
   "execution_count": 29,
   "id": "b02ecd08-f4fd-42ae-9717-d6747bb3e68b",
   "metadata": {},
   "outputs": [
    {
     "data": {
      "text/plain": [
       "'devesh mishra'"
      ]
     },
     "execution_count": 29,
     "metadata": {},
     "output_type": "execute_result"
    }
   ],
   "source": [
    "print"
   ]
  },
  {
   "cell_type": "code",
   "execution_count": 2,
   "id": "dce30ba5-617e-4ebd-8e6c-4bdc598563a6",
   "metadata": {},
   "outputs": [],
   "source": [
    "a=\"sudhanshu\""
   ]
  },
  {
   "cell_type": "code",
   "execution_count": 3,
   "id": "3470dd0c-9336-4193-b042-c06bff671e1f",
   "metadata": {},
   "outputs": [
    {
     "data": {
      "text/plain": [
       "'u'"
      ]
     },
     "execution_count": 3,
     "metadata": {},
     "output_type": "execute_result"
    }
   ],
   "source": [
    "a[1]"
   ]
  },
  {
   "cell_type": "code",
   "execution_count": 4,
   "id": "1fcf3977-f7bb-4200-bced-35400400a430",
   "metadata": {},
   "outputs": [
    {
     "data": {
      "text/plain": [
       "'uhsnahdus'"
      ]
     },
     "execution_count": 4,
     "metadata": {},
     "output_type": "execute_result"
    }
   ],
   "source": [
    "a[::-1] #for reverse of the string"
   ]
  },
  {
   "cell_type": "code",
   "execution_count": 49,
   "id": "277b1838-4fa3-491f-b857-16d7907a0c2b",
   "metadata": {},
   "outputs": [
    {
     "data": {
      "text/plain": [
       "'sudha'"
      ]
     },
     "execution_count": 49,
     "metadata": {},
     "output_type": "execute_result"
    }
   ],
   "source": [
    "a[0:5]"
   ]
  },
  {
   "cell_type": "code",
   "execution_count": 69,
   "id": "9886892c-abc1-4ea4-9fde-f9dc357eb941",
   "metadata": {},
   "outputs": [],
   "source": [
    "#String manupulation\n",
    "a=\"anurag mishra\""
   ]
  },
  {
   "cell_type": "code",
   "execution_count": 70,
   "id": "c0e66a53-c572-4c06-88c7-14a91bb10d20",
   "metadata": {},
   "outputs": [
    {
     "data": {
      "text/plain": [
       "13"
      ]
     },
     "execution_count": 70,
     "metadata": {},
     "output_type": "execute_result"
    }
   ],
   "source": [
    "len(a)"
   ]
  },
  {
   "cell_type": "code",
   "execution_count": 71,
   "id": "a86c42eb-9196-4529-86bd-4c7e39e7428b",
   "metadata": {},
   "outputs": [
    {
     "data": {
      "text/plain": [
       "10"
      ]
     },
     "execution_count": 71,
     "metadata": {},
     "output_type": "execute_result"
    }
   ],
   "source": [
    "#to find out index value of any varaible\n",
    "a.find('h')"
   ]
  },
  {
   "cell_type": "code",
   "execution_count": 72,
   "id": "c4f20723-28e2-4db3-92cc-00bd6150760e",
   "metadata": {},
   "outputs": [
    {
     "data": {
      "text/plain": [
       "1"
      ]
     },
     "execution_count": 72,
     "metadata": {},
     "output_type": "execute_result"
    }
   ],
   "source": [
    "a.find('n')"
   ]
  },
  {
   "cell_type": "code",
   "execution_count": 74,
   "id": "13364e0a-2906-4bba-a66e-268b6e0de9e8",
   "metadata": {},
   "outputs": [
    {
     "data": {
      "text/plain": [
       "'Anurag Mishra'"
      ]
     },
     "execution_count": 74,
     "metadata": {},
     "output_type": "execute_result"
    }
   ],
   "source": [
    "#title function is used to uppercase the first letter \n",
    "a.title()\n"
   ]
  },
  {
   "cell_type": "code",
   "execution_count": 76,
   "id": "39e0e63d-50db-4c2a-bd41-952a16c538d9",
   "metadata": {},
   "outputs": [
    {
     "data": {
      "text/plain": [
       "'ANURAG MISHRA'"
      ]
     },
     "execution_count": 76,
     "metadata": {},
     "output_type": "execute_result"
    }
   ],
   "source": [
    "#it is used capitallise the string \n",
    "a.upper()"
   ]
  },
  {
   "cell_type": "code",
   "execution_count": 79,
   "id": "6835444b-9523-4344-90a1-18ddc978ee4a",
   "metadata": {},
   "outputs": [
    {
     "data": {
      "text/plain": [
       "'Anurag mishra'"
      ]
     },
     "execution_count": 79,
     "metadata": {},
     "output_type": "execute_result"
    }
   ],
   "source": [
    "#it is used to capitalise the first letter\n",
    "a.capitalize()"
   ]
  },
  {
   "cell_type": "code",
   "execution_count": 89,
   "id": "26cf9dda-b5eb-49fb-97a9-9963c30c9ccc",
   "metadata": {},
   "outputs": [
    {
     "ename": "TypeError",
     "evalue": "can only concatenate str (not \"int\") to str",
     "output_type": "error",
     "traceback": [
      "\u001b[0;31m---------------------------------------------------------------------------\u001b[0m",
      "\u001b[0;31mTypeError\u001b[0m                                 Traceback (most recent call last)",
      "Cell \u001b[0;32mIn[89], line 3\u001b[0m\n\u001b[1;32m      1\u001b[0m \u001b[38;5;66;03m#Concatenation or Concatenated Operation\u001b[39;00m\n\u001b[1;32m      2\u001b[0m \u001b[38;5;66;03m#Concatenate Operators \"+,-,*,/\"\u001b[39;00m\n\u001b[0;32m----> 3\u001b[0m \u001b[43ma\u001b[49m\u001b[38;5;241;43m+\u001b[39;49m\u001b[38;5;241;43m1\u001b[39;49m\n",
      "\u001b[0;31mTypeError\u001b[0m: can only concatenate str (not \"int\") to str"
     ]
    }
   ],
   "source": [
    "#Concatenation or Concatenated Operation\n",
    "#Concatenate Operators \"+,-,*,/\"\n",
    "a+1"
   ]
  },
  {
   "cell_type": "code",
   "execution_count": 90,
   "id": "1c16258a-cc5b-43d7-98e8-819405800c10",
   "metadata": {},
   "outputs": [
    {
     "data": {
      "text/plain": [
       "'anurag mishradevesh mishra'"
      ]
     },
     "execution_count": 90,
     "metadata": {},
     "output_type": "execute_result"
    }
   ],
   "source": [
    "a+\"devesh mishra\""
   ]
  },
  {
   "cell_type": "code",
   "execution_count": 91,
   "id": "d0d0f297-1426-4430-9e13-737152c21cb9",
   "metadata": {},
   "outputs": [
    {
     "data": {
      "text/plain": [
       "'anurag mishradev1'"
      ]
     },
     "execution_count": 91,
     "metadata": {},
     "output_type": "execute_result"
    }
   ],
   "source": [
    "a+\"dev\"+\"1\""
   ]
  },
  {
   "cell_type": "code",
   "execution_count": 86,
   "id": "2f34dddd-1b18-4bfa-8774-f6f0333a055c",
   "metadata": {},
   "outputs": [
    {
     "data": {
      "text/plain": [
       "'anurag mishradev19026'"
      ]
     },
     "execution_count": 86,
     "metadata": {},
     "output_type": "execute_result"
    }
   ],
   "source": [
    "#this method of changing it into string form is known as \"TYPE CASTING\"\n",
    "a+\"dev\"+\"1\"+str(9026)\n"
   ]
  },
  {
   "cell_type": "code",
   "execution_count": 93,
   "id": "12da4aaf-9199-45b0-8a74-16af454f305f",
   "metadata": {},
   "outputs": [
    {
     "data": {
      "text/plain": [
       "'anurag mishraanurag mishra'"
      ]
     },
     "execution_count": 93,
     "metadata": {},
     "output_type": "execute_result"
    }
   ],
   "source": [
    "#Multiplication Operator\n",
    "a*2"
   ]
  },
  {
   "cell_type": "code",
   "execution_count": null,
   "id": "3c66aba8-ea2b-4e2c-98f0-3e14a4ea95f0",
   "metadata": {},
   "outputs": [],
   "source": []
  },
  {
   "cell_type": "code",
   "execution_count": null,
   "id": "2d2126ad-6b8f-41b1-8cc8-6347ed8c725c",
   "metadata": {},
   "outputs": [],
   "source": []
  }
 ],
 "metadata": {
  "kernelspec": {
   "display_name": "Python 3 (ipykernel)",
   "language": "python",
   "name": "python3"
  },
  "language_info": {
   "codemirror_mode": {
    "name": "ipython",
    "version": 3
   },
   "file_extension": ".py",
   "mimetype": "text/x-python",
   "name": "python",
   "nbconvert_exporter": "python",
   "pygments_lexer": "ipython3",
   "version": "3.10.8"
  }
 },
 "nbformat": 4,
 "nbformat_minor": 5
}
