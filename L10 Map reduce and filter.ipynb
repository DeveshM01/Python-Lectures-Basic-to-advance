{
 "cells": [
  {
   "cell_type": "markdown",
   "id": "2f79d899-1d92-4752-a5a2-726df4c14a23",
   "metadata": {},
   "source": [
    "Map,Reduce and filter"
   ]
  },
  {
   "cell_type": "code",
   "execution_count": 11,
   "id": "0a4fe343-a6b8-4ba1-8baa-a23cd79db64b",
   "metadata": {},
   "outputs": [],
   "source": [
    "l=[2,3,4,5,6,7]"
   ]
  },
  {
   "cell_type": "code",
   "execution_count": 12,
   "id": "e0b4eec9-dbc3-4395-b6f5-b0e7574ce974",
   "metadata": {},
   "outputs": [],
   "source": [
    "def test(l):\n",
    "    l1=[]\n",
    "    for i in l:\n",
    "        l1.append(i**2)\n",
    "        \n",
    "    return l1"
   ]
  },
  {
   "cell_type": "code",
   "execution_count": 13,
   "id": "46b59210-7f4c-4c99-a831-a0521510f166",
   "metadata": {},
   "outputs": [
    {
     "data": {
      "text/plain": [
       "[4, 9, 16, 25, 36, 49]"
      ]
     },
     "execution_count": 13,
     "metadata": {},
     "output_type": "execute_result"
    }
   ],
   "source": [
    "test(l)\n"
   ]
  },
  {
   "cell_type": "raw",
   "id": "3638bd45-9cb9-4f7a-9361-aed569fe094c",
   "metadata": {},
   "source": [
    "\n",
    "\n",
    "\n",
    "Map Function\n",
    "\n",
    "\n"
   ]
  },
  {
   "cell_type": "code",
   "execution_count": 14,
   "id": "fb5fc0b2-7f17-4bd6-a246-e5e9dd25e5db",
   "metadata": {},
   "outputs": [
    {
     "data": {
      "text/plain": [
       "[2, 3, 4, 5, 6, 7]"
      ]
     },
     "execution_count": 14,
     "metadata": {},
     "output_type": "execute_result"
    }
   ],
   "source": [
    "l"
   ]
  },
  {
   "cell_type": "code",
   "execution_count": 15,
   "id": "3526f5b7-5716-4053-8fa9-006f25358b46",
   "metadata": {},
   "outputs": [],
   "source": [
    "def sq(x):\n",
    "    return x**2"
   ]
  },
  {
   "cell_type": "code",
   "execution_count": 16,
   "id": "21155022-1a1d-4fda-9235-bdc5dfe079e6",
   "metadata": {},
   "outputs": [
    {
     "data": {
      "text/plain": [
       "<map at 0x7fefd4d5ac20>"
      ]
     },
     "execution_count": 16,
     "metadata": {},
     "output_type": "execute_result"
    }
   ],
   "source": [
    "map(sq,l)# map function takes two argument one is function second is iterables\n",
    "        #shortcut shift+tab"
   ]
  },
  {
   "cell_type": "code",
   "execution_count": 17,
   "id": "4b389487-e0ff-4549-bcbb-7201b82668de",
   "metadata": {},
   "outputs": [
    {
     "data": {
      "text/plain": [
       "[4, 9, 16, 25, 36, 49]"
      ]
     },
     "execution_count": 17,
     "metadata": {},
     "output_type": "execute_result"
    }
   ],
   "source": [
    "#for getting the ouput we have make object\n",
    "#its a type of external function\n",
    "list(map(sq,l))"
   ]
  },
  {
   "cell_type": "code",
   "execution_count": 18,
   "id": "3e4fc828-4a18-4adb-b846-99099d8873a2",
   "metadata": {},
   "outputs": [],
   "source": [
    "#With the help of lambda function\n"
   ]
  },
  {
   "cell_type": "code",
   "execution_count": 19,
   "id": "e671bb3e-186d-49b8-8874-5b71a8129682",
   "metadata": {},
   "outputs": [
    {
     "data": {
      "text/plain": [
       "[4, 9, 16, 25, 36, 49]"
      ]
     },
     "execution_count": 19,
     "metadata": {},
     "output_type": "execute_result"
    }
   ],
   "source": [
    "list(map(lambda x:x**2,l))"
   ]
  },
  {
   "cell_type": "code",
   "execution_count": 20,
   "id": "86f9bb25-e30c-4bac-9941-e6c6e0bd2e49",
   "metadata": {},
   "outputs": [],
   "source": [
    "#Addition of list index wise\n",
    "l1=[1,2,3,4,5,6,7,8]\n",
    "l2=[6,7,8,9,10,6,7,9]"
   ]
  },
  {
   "cell_type": "code",
   "execution_count": 27,
   "id": "1519b504-f0df-4dbd-a0f2-eb52545f8ebc",
   "metadata": {},
   "outputs": [
    {
     "data": {
      "text/plain": [
       "[7, 9, 11, 13, 15, 12, 14, 17]"
      ]
     },
     "execution_count": 27,
     "metadata": {},
     "output_type": "execute_result"
    }
   ],
   "source": [
    "list(map(lambda x,y:x+y,l1,l2)) # result with lambda function"
   ]
  },
  {
   "cell_type": "code",
   "execution_count": 29,
   "id": "66c5c0ef-95b4-4352-b683-5c4bec56ccf5",
   "metadata": {},
   "outputs": [],
   "source": [
    "def add (x,y):\n",
    "    return x+y"
   ]
  },
  {
   "cell_type": "code",
   "execution_count": 32,
   "id": "3ab2e8a8-d8ac-46bc-aeec-b78833f2ee40",
   "metadata": {},
   "outputs": [
    {
     "data": {
      "text/plain": [
       "[7, 9, 11, 13, 15, 12, 14, 17]"
      ]
     },
     "execution_count": 32,
     "metadata": {},
     "output_type": "execute_result"
    }
   ],
   "source": [
    "list(map(add,l1,l2))# result with external function\n",
    "                    # add is function and l1 and l2 are the functions"
   ]
  },
  {
   "cell_type": "code",
   "execution_count": 33,
   "id": "24aef010-adea-462d-bd08-a4856a01f0f3",
   "metadata": {},
   "outputs": [],
   "source": [
    "s=\"devesh mishra\""
   ]
  },
  {
   "cell_type": "code",
   "execution_count": 37,
   "id": "ed026d2c-b033-4f0b-9837-39418c40929a",
   "metadata": {},
   "outputs": [
    {
     "data": {
      "text/plain": [
       "['D', 'E', 'V', 'E', 'S', 'H', ' ', 'M', 'I', 'S', 'H', 'R', 'A']"
      ]
     },
     "execution_count": 37,
     "metadata": {},
     "output_type": "execute_result"
    }
   ],
   "source": [
    "list(map(lambda s:s.upper(),s)) #converting it into upper case"
   ]
  },
  {
   "cell_type": "raw",
   "id": "5684cc6d-3f7b-4ea0-a7c0-959d9aca8bd6",
   "metadata": {},
   "source": [
    "\n",
    "\n",
    "REDUCE Function\n"
   ]
  },
  {
   "cell_type": "code",
   "execution_count": 42,
   "id": "8701322d-078d-4789-a532-eafe42d9149e",
   "metadata": {},
   "outputs": [],
   "source": [
    "from functools import reduce #we have call reduce fucntion"
   ]
  },
  {
   "cell_type": "code",
   "execution_count": 2,
   "id": "aa8f5da9-b410-465b-92a1-77812fbcc06e",
   "metadata": {},
   "outputs": [],
   "source": [
    "l=[1,2,3,4,5,6,7,8,9,10,11]"
   ]
  },
  {
   "cell_type": "code",
   "execution_count": 3,
   "id": "b0f26b4e-013d-411f-bd0d-f20d1bd304ba",
   "metadata": {},
   "outputs": [
    {
     "ename": "NameError",
     "evalue": "name 'reduce' is not defined",
     "output_type": "error",
     "traceback": [
      "\u001b[0;31m---------------------------------------------------------------------------\u001b[0m",
      "\u001b[0;31mNameError\u001b[0m                                 Traceback (most recent call last)",
      "Cell \u001b[0;32mIn[3], line 1\u001b[0m\n\u001b[0;32m----> 1\u001b[0m \u001b[43mreduce\u001b[49m (\u001b[38;5;28;01mlambda\u001b[39;00m x,y:x\u001b[38;5;241m+\u001b[39my,l)\n",
      "\u001b[0;31mNameError\u001b[0m: name 'reduce' is not defined"
     ]
    }
   ],
   "source": [
    "reduce (lambda x,y:x+y,l)"
   ]
  },
  {
   "cell_type": "code",
   "execution_count": 4,
   "id": "6deb251c-4eed-429d-8cce-4c317b176448",
   "metadata": {},
   "outputs": [
    {
     "ename": "NameError",
     "evalue": "name 'reduce' is not defined",
     "output_type": "error",
     "traceback": [
      "\u001b[0;31m---------------------------------------------------------------------------\u001b[0m",
      "\u001b[0;31mNameError\u001b[0m                                 Traceback (most recent call last)",
      "Cell \u001b[0;32mIn[4], line 1\u001b[0m\n\u001b[0;32m----> 1\u001b[0m \u001b[43mreduce\u001b[49m(\u001b[38;5;28;01mlambda\u001b[39;00m x,y,z: x\u001b[38;5;241m+\u001b[39my\u001b[38;5;241m+\u001b[39mz,l) \u001b[38;5;66;03m#three parameter is not suitable ,you can only pass two parameter in reduce function can only be passed\u001b[39;00m\n",
      "\u001b[0;31mNameError\u001b[0m: name 'reduce' is not defined"
     ]
    }
   ],
   "source": [
    "reduce(lambda x,y,z: x+y+z,l) #three parameter is not suitable ,you can only pass two parameter in reduce function can only be passed"
   ]
  },
  {
   "cell_type": "code",
   "execution_count": 5,
   "id": "a0fee716-06e1-4bd0-a15b-5c62a43bee30",
   "metadata": {},
   "outputs": [
    {
     "ename": "NameError",
     "evalue": "name 'reduce' is not defined",
     "output_type": "error",
     "traceback": [
      "\u001b[0;31m---------------------------------------------------------------------------\u001b[0m",
      "\u001b[0;31mNameError\u001b[0m                                 Traceback (most recent call last)",
      "Cell \u001b[0;32mIn[5], line 1\u001b[0m\n\u001b[0;32m----> 1\u001b[0m \u001b[43mreduce\u001b[49m (\u001b[38;5;28;01mlambda\u001b[39;00m x,y:x\u001b[38;5;241m+\u001b[39my,[\u001b[38;5;241m1\u001b[39m]) \u001b[38;5;66;03m#exceptional case\u001b[39;00m\n",
      "\u001b[0;31mNameError\u001b[0m: name 'reduce' is not defined"
     ]
    }
   ],
   "source": [
    "reduce (lambda x,y:x+y,[1]) #exceptional case"
   ]
  },
  {
   "cell_type": "code",
   "execution_count": 62,
   "id": "51ec4bed-8803-4bce-be1f-0544905e9a56",
   "metadata": {},
   "outputs": [
    {
     "data": {
      "text/plain": [
       "39916800"
      ]
     },
     "execution_count": 62,
     "metadata": {},
     "output_type": "execute_result"
    }
   ],
   "source": [
    "reduce (lambda x,y:x*y,l)"
   ]
  },
  {
   "cell_type": "code",
   "execution_count": 1,
   "id": "a7d71caa-a36d-41d0-ab11-85a03db5b36c",
   "metadata": {},
   "outputs": [
    {
     "ename": "NameError",
     "evalue": "name 'reduce' is not defined",
     "output_type": "error",
     "traceback": [
      "\u001b[0;31m---------------------------------------------------------------------------\u001b[0m",
      "\u001b[0;31mNameError\u001b[0m                                 Traceback (most recent call last)",
      "Cell \u001b[0;32mIn[1], line 1\u001b[0m\n\u001b[0;32m----> 1\u001b[0m \u001b[43mreduce\u001b[49m (\u001b[38;5;28;01mlambda\u001b[39;00m x,y:x \u001b[38;5;28;01mif\u001b[39;00m x\u001b[38;5;241m>\u001b[39my \u001b[38;5;28;01melse\u001b[39;00m y,l) \u001b[38;5;66;03m#finding out higherst among the numbers\u001b[39;00m\n",
      "\u001b[0;31mNameError\u001b[0m: name 'reduce' is not defined"
     ]
    }
   ],
   "source": [
    "reduce (lambda x,y:x if x>y else y,l) #finding out higherst among the numbers"
   ]
  },
  {
   "cell_type": "code",
   "execution_count": 65,
   "id": "c0927128-deea-4611-877b-3e6e0161db54",
   "metadata": {},
   "outputs": [
    {
     "ename": "TypeError",
     "evalue": "<lambda>() missing 1 required positional argument: 'y'",
     "output_type": "error",
     "traceback": [
      "\u001b[0;31m---------------------------------------------------------------------------\u001b[0m",
      "\u001b[0;31mTypeError\u001b[0m                                 Traceback (most recent call last)",
      "Cell \u001b[0;32mIn[65], line 1\u001b[0m\n\u001b[0;32m----> 1\u001b[0m \u001b[38;5;28;43mlist\u001b[39;49m\u001b[43m(\u001b[49m\u001b[38;5;28;43mmap\u001b[39;49m\u001b[43m(\u001b[49m\u001b[38;5;28;43;01mlambda\u001b[39;49;00m\u001b[43m \u001b[49m\u001b[43mx\u001b[49m\u001b[43m,\u001b[49m\u001b[43my\u001b[49m\u001b[43m \u001b[49m\u001b[43m:\u001b[49m\u001b[43mx\u001b[49m\u001b[43m \u001b[49m\u001b[38;5;28;43;01mif\u001b[39;49;00m\u001b[43m \u001b[49m\u001b[43mx\u001b[49m\u001b[38;5;241;43m>\u001b[39;49m\u001b[43my\u001b[49m\u001b[43m \u001b[49m\u001b[38;5;28;43;01melse\u001b[39;49;00m\u001b[43m \u001b[49m\u001b[43my\u001b[49m\u001b[43m,\u001b[49m\u001b[43ml\u001b[49m\u001b[43m)\u001b[49m\u001b[43m)\u001b[49m\n",
      "\u001b[0;31mTypeError\u001b[0m: <lambda>() missing 1 required positional argument: 'y'"
     ]
    }
   ],
   "source": [
    "list(map(lambda x,y :x if x>y else y,l)) #????????"
   ]
  },
  {
   "cell_type": "raw",
   "id": "fabebd80-9979-40dc-998b-469ee5e4daf5",
   "metadata": {},
   "source": [
    "\n",
    "\n",
    "\n",
    "FILTER FUNCTION \n",
    "\n",
    "#filterning the data \n",
    "\n",
    "\n"
   ]
  },
  {
   "cell_type": "code",
   "execution_count": 6,
   "id": "175f1a53-7ebc-49ed-a06d-68c455dc053a",
   "metadata": {},
   "outputs": [
    {
     "data": {
      "text/plain": [
       "[1, 2, 3, 4, 5, 6, 7, 8, 9, 10, 11]"
      ]
     },
     "execution_count": 6,
     "metadata": {},
     "output_type": "execute_result"
    }
   ],
   "source": [
    "l"
   ]
  },
  {
   "cell_type": "code",
   "execution_count": 7,
   "id": "3f24b501-dfe8-4907-a672-ca32607e3c76",
   "metadata": {},
   "outputs": [
    {
     "data": {
      "text/plain": [
       "[2, 4, 6, 8, 10]"
      ]
     },
     "execution_count": 7,
     "metadata": {},
     "output_type": "execute_result"
    }
   ],
   "source": [
    "list(filter(lambda x:x%2==0,l)) #getting even number"
   ]
  },
  {
   "cell_type": "code",
   "execution_count": 71,
   "id": "da670058-7a80-49c0-98a0-3a5458268772",
   "metadata": {},
   "outputs": [
    {
     "data": {
      "text/plain": [
       "[1, 3, 5, 7, 9, 11]"
      ]
     },
     "execution_count": 71,
     "metadata": {},
     "output_type": "execute_result"
    }
   ],
   "source": [
    "list(filter(lambda x:x%2 !=0,l)) #getting odd number"
   ]
  },
  {
   "cell_type": "code",
   "execution_count": 75,
   "id": "3f4a8917-7724-4e4a-bfd6-b8798adcca0b",
   "metadata": {},
   "outputs": [],
   "source": [
    "l2=[2,-4,-9,56,45,-89,33,-56.78]"
   ]
  },
  {
   "cell_type": "code",
   "execution_count": 76,
   "id": "bdb20dcb-4190-4bf2-9c63-9fecc711fa8f",
   "metadata": {},
   "outputs": [
    {
     "data": {
      "text/plain": [
       "[-4, -9, -89, -56.78]"
      ]
     },
     "execution_count": 76,
     "metadata": {},
     "output_type": "execute_result"
    }
   ],
   "source": [
    "list(filter(lambda x:x<0,l2)) #getting negative number"
   ]
  },
  {
   "cell_type": "code",
   "execution_count": 77,
   "id": "d13b92fc-47ce-4650-a658-6c87198fe57b",
   "metadata": {},
   "outputs": [],
   "source": [
    "l3=[\"dev\",\"devesh\",\"anurag\",\"mishra\",\"nirmala\",\"khushi\",\"minal\"]"
   ]
  },
  {
   "cell_type": "code",
   "execution_count": 82,
   "id": "35cc2b1d-83ff-4654-bbf9-ac44d7ab60b6",
   "metadata": {},
   "outputs": [
    {
     "data": {
      "text/plain": [
       "['dev', 'minal']"
      ]
     },
     "execution_count": 82,
     "metadata": {},
     "output_type": "execute_result"
    }
   ],
   "source": [
    "list(filter(lambda x:len(x)<6,l3))"
   ]
  },
  {
   "cell_type": "code",
   "execution_count": null,
   "id": "ad9b8e65-d45c-4267-85f8-d8875e1e8cb2",
   "metadata": {},
   "outputs": [],
   "source": []
  }
 ],
 "metadata": {
  "kernelspec": {
   "display_name": "Python 3 (ipykernel)",
   "language": "python",
   "name": "python3"
  },
  "language_info": {
   "codemirror_mode": {
    "name": "ipython",
    "version": 3
   },
   "file_extension": ".py",
   "mimetype": "text/x-python",
   "name": "python",
   "nbconvert_exporter": "python",
   "pygments_lexer": "ipython3",
   "version": "3.10.8"
  }
 },
 "nbformat": 4,
 "nbformat_minor": 5
}
