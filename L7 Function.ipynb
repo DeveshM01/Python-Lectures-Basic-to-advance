{
 "cells": [
  {
   "cell_type": "markdown",
   "id": "80e0b13b-73a5-49d3-900e-49fb10f239fb",
   "metadata": {},
   "source": [
    "#FUNCTION"
   ]
  },
  {
   "cell_type": "code",
   "execution_count": 4,
   "id": "9d6b68a6-f44e-4112-802a-0f3ba39c8273",
   "metadata": {},
   "outputs": [],
   "source": [
    "#Making of function\n",
    "def test1():\n",
    "    print(\"this is my first function\")\n",
    "    "
   ]
  },
  {
   "cell_type": "code",
   "execution_count": 1,
   "id": "3f4bb3c5-4272-4fb8-9275-bc367f88c2dc",
   "metadata": {},
   "outputs": [],
   "source": [
    "#in print we have to use () but return function we didnt have to use any paranthesis"
   ]
  },
  {
   "cell_type": "code",
   "execution_count": 5,
   "id": "24098d32-e7b3-4538-9ef6-b33f3ad68eda",
   "metadata": {},
   "outputs": [
    {
     "name": "stdout",
     "output_type": "stream",
     "text": [
      "this is my first function\n"
     ]
    }
   ],
   "source": [
    "test1()"
   ]
  },
  {
   "cell_type": "code",
   "execution_count": 6,
   "id": "c841c830-5a8f-4038-a426-ea2b64fa1717",
   "metadata": {},
   "outputs": [
    {
     "name": "stdout",
     "output_type": "stream",
     "text": [
      "this is my first function\n"
     ]
    },
    {
     "ename": "TypeError",
     "evalue": "unsupported operand type(s) for +: 'NoneType' and 'str'",
     "output_type": "error",
     "traceback": [
      "\u001b[0;31m---------------------------------------------------------------------------\u001b[0m",
      "\u001b[0;31mTypeError\u001b[0m                                 Traceback (most recent call last)",
      "Cell \u001b[0;32mIn[6], line 1\u001b[0m\n\u001b[0;32m----> 1\u001b[0m \u001b[43mtest1\u001b[49m\u001b[43m(\u001b[49m\u001b[43m)\u001b[49m\u001b[38;5;241;43m+\u001b[39;49m\u001b[38;5;124;43m\"\u001b[39;49m\u001b[38;5;124;43mdev\u001b[39;49m\u001b[38;5;124;43m\"\u001b[39;49m\n",
      "\u001b[0;31mTypeError\u001b[0m: unsupported operand type(s) for +: 'NoneType' and 'str'"
     ]
    }
   ],
   "source": [
    "test1()+\"dev\""
   ]
  },
  {
   "cell_type": "code",
   "execution_count": 7,
   "id": "21ca2cb9-af1a-478c-8f1e-9dfcdf379353",
   "metadata": {},
   "outputs": [],
   "source": [
    "def test2():\n",
    "    return\"this is my first return fuction 5\""
   ]
  },
  {
   "cell_type": "code",
   "execution_count": 8,
   "id": "67c36ec5-5b50-4500-8a45-6e27caf4e529",
   "metadata": {},
   "outputs": [
    {
     "data": {
      "text/plain": [
       "'this is my first return fuction 5'"
      ]
     },
     "execution_count": 8,
     "metadata": {},
     "output_type": "execute_result"
    }
   ],
   "source": [
    "test2()"
   ]
  },
  {
   "cell_type": "code",
   "execution_count": 9,
   "id": "4f41d9e2-6153-4767-ae7a-b1839ef959f5",
   "metadata": {},
   "outputs": [],
   "source": [
    "#print function does not allow to print different datatypes together\n",
    "#while return function allows you to print different datatypes together."
   ]
  },
  {
   "cell_type": "code",
   "execution_count": 10,
   "id": "345b07b9-1980-4461-bd4e-019cee94b6bc",
   "metadata": {},
   "outputs": [
    {
     "data": {
      "text/plain": [
       "'this is my first return fuction 5dev'"
      ]
     },
     "execution_count": 10,
     "metadata": {},
     "output_type": "execute_result"
    }
   ],
   "source": [
    "test2()+\"dev\""
   ]
  },
  {
   "cell_type": "code",
   "execution_count": 11,
   "id": "9188128a-9120-4784-805d-6bf483f914ae",
   "metadata": {},
   "outputs": [],
   "source": [
    "#multiple datatypes can be recorded in return function\n",
    "def test3():\n",
    "    return \"devesh ji\",23,345.56,[2,34,56,78]"
   ]
  },
  {
   "cell_type": "code",
   "execution_count": 12,
   "id": "838f5cb4-bc82-4589-9c3a-3a9ba42b62cd",
   "metadata": {},
   "outputs": [
    {
     "data": {
      "text/plain": [
       "('devesh ji', 23, 345.56, [2, 34, 56, 78])"
      ]
     },
     "execution_count": 12,
     "metadata": {},
     "output_type": "execute_result"
    }
   ],
   "source": [
    "test3()"
   ]
  },
  {
   "cell_type": "code",
   "execution_count": 13,
   "id": "be73a4cd-6cc1-4e68-a2c1-8fcb738b42e0",
   "metadata": {},
   "outputs": [],
   "source": [
    "a,b,c,d=test3()"
   ]
  },
  {
   "cell_type": "code",
   "execution_count": 14,
   "id": "e8af94d9-3c67-4112-bd86-ed4be6ce3c90",
   "metadata": {},
   "outputs": [
    {
     "data": {
      "text/plain": [
       "'devesh ji'"
      ]
     },
     "execution_count": 14,
     "metadata": {},
     "output_type": "execute_result"
    }
   ],
   "source": [
    "a"
   ]
  },
  {
   "cell_type": "code",
   "execution_count": 15,
   "id": "060f78e9-b836-4e59-86ce-f9740f5386ca",
   "metadata": {},
   "outputs": [
    {
     "data": {
      "text/plain": [
       "23"
      ]
     },
     "execution_count": 15,
     "metadata": {},
     "output_type": "execute_result"
    }
   ],
   "source": [
    "b"
   ]
  },
  {
   "cell_type": "code",
   "execution_count": 16,
   "id": "a9c7ac58-e09a-4134-9de3-5819c029d529",
   "metadata": {},
   "outputs": [
    {
     "data": {
      "text/plain": [
       "345.56"
      ]
     },
     "execution_count": 16,
     "metadata": {},
     "output_type": "execute_result"
    }
   ],
   "source": [
    "c"
   ]
  },
  {
   "cell_type": "code",
   "execution_count": 17,
   "id": "ff19a0e6-faf6-4726-b077-369f29e412fe",
   "metadata": {},
   "outputs": [
    {
     "data": {
      "text/plain": [
       "[2, 34, 56, 78]"
      ]
     },
     "execution_count": 17,
     "metadata": {},
     "output_type": "execute_result"
    }
   ],
   "source": [
    "d"
   ]
  },
  {
   "cell_type": "code",
   "execution_count": 19,
   "id": "c5554387-5955-4ca7-b25f-672d8a48a947",
   "metadata": {},
   "outputs": [],
   "source": [
    "a=1\n",
    "b=2\n",
    "#or \n",
    "a,b=1,2"
   ]
  },
  {
   "cell_type": "code",
   "execution_count": 20,
   "id": "cf63b87f-14de-4491-8dd1-78d861b1b1ae",
   "metadata": {},
   "outputs": [],
   "source": [
    "def test4():\n",
    "    a=5+6/7\n",
    "    return a"
   ]
  },
  {
   "cell_type": "code",
   "execution_count": 22,
   "id": "9c226dba-305d-4ed7-ba42-f1e877ac02e1",
   "metadata": {},
   "outputs": [
    {
     "data": {
      "text/plain": [
       "5.857142857142857"
      ]
     },
     "execution_count": 22,
     "metadata": {},
     "output_type": "execute_result"
    }
   ],
   "source": [
    "test4()"
   ]
  },
  {
   "cell_type": "code",
   "execution_count": 1,
   "id": "7a77c2ec-eb68-4bcb-8512-9495e25c75dc",
   "metadata": {},
   "outputs": [],
   "source": [
    "\n",
    "def test5(a,b,c): #either we can give values or we can give values afterward.\n",
    "    \n",
    "    d=a+b/c\n",
    "  \n",
    "    return d\n",
    "    "
   ]
  },
  {
   "cell_type": "code",
   "execution_count": 2,
   "id": "0d207acf-5af4-47b8-bbe2-0317ba1d3abb",
   "metadata": {},
   "outputs": [
    {
     "data": {
      "text/plain": [
       "12.607142857142858"
      ]
     },
     "execution_count": 2,
     "metadata": {},
     "output_type": "execute_result"
    }
   ],
   "source": [
    "test5(a=12,b=34,c=56) #we have make object and give required values."
   ]
  },
  {
   "cell_type": "code",
   "execution_count": 49,
   "id": "edc643fc-31d6-4ee5-8d58-5f8fadc49685",
   "metadata": {},
   "outputs": [],
   "source": [
    "def test6(a,b,c):\n",
    "    return a+b+c"
   ]
  },
  {
   "cell_type": "code",
   "execution_count": 53,
   "id": "c081a692-b5e1-4ec2-b80a-2e0f13e593c3",
   "metadata": {},
   "outputs": [
    {
     "data": {
      "text/plain": [
       "12"
      ]
     },
     "execution_count": 53,
     "metadata": {},
     "output_type": "execute_result"
    }
   ],
   "source": [
    "test6(3,4,5)"
   ]
  },
  {
   "cell_type": "code",
   "execution_count": 55,
   "id": "4d114851-ae30-4d8a-a4b5-8285d778d9f9",
   "metadata": {},
   "outputs": [
    {
     "data": {
      "text/plain": [
       "'devmishrakite'"
      ]
     },
     "execution_count": 55,
     "metadata": {},
     "output_type": "execute_result"
    }
   ],
   "source": [
    "test6(\"dev\",\"mishra\",'kite')"
   ]
  },
  {
   "cell_type": "code",
   "execution_count": 52,
   "id": "89599371-7ead-4459-9937-185d781dfbc1",
   "metadata": {},
   "outputs": [
    {
     "ename": "TypeError",
     "evalue": "can only concatenate str (not \"list\") to str",
     "output_type": "error",
     "traceback": [
      "\u001b[0;31m---------------------------------------------------------------------------\u001b[0m",
      "\u001b[0;31mTypeError\u001b[0m                                 Traceback (most recent call last)",
      "Cell \u001b[0;32mIn[52], line 1\u001b[0m\n\u001b[0;32m----> 1\u001b[0m \u001b[43mtest6\u001b[49m\u001b[43m(\u001b[49m\u001b[38;5;124;43m\"\u001b[39;49m\u001b[38;5;124;43mdev\u001b[39;49m\u001b[38;5;124;43m\"\u001b[39;49m\u001b[43m,\u001b[49m\u001b[43m[\u001b[49m\u001b[38;5;241;43m5\u001b[39;49m\u001b[43m,\u001b[49m\u001b[38;5;241;43m56\u001b[39;49m\u001b[43m,\u001b[49m\u001b[38;5;241;43m78\u001b[39;49m\u001b[43m]\u001b[49m\u001b[43m,\u001b[49m\u001b[38;5;124;43m\"\u001b[39;49m\u001b[38;5;124;43mgolu\u001b[39;49m\u001b[38;5;124;43m\"\u001b[39;49m\u001b[43m)\u001b[49m\n",
      "Cell \u001b[0;32mIn[49], line 2\u001b[0m, in \u001b[0;36mtest6\u001b[0;34m(a, b, c)\u001b[0m\n\u001b[1;32m      1\u001b[0m \u001b[38;5;28;01mdef\u001b[39;00m \u001b[38;5;21mtest6\u001b[39m(a,b,c):\n\u001b[0;32m----> 2\u001b[0m     \u001b[38;5;28;01mreturn\u001b[39;00m \u001b[43ma\u001b[49m\u001b[38;5;241;43m+\u001b[39;49m\u001b[43mb\u001b[49m\u001b[38;5;241m+\u001b[39mc\n",
      "\u001b[0;31mTypeError\u001b[0m: can only concatenate str (not \"list\") to str"
     ]
    }
   ],
   "source": [
    "test6(\"dev\",[5,56,78],\"golu\")"
   ]
  },
  {
   "cell_type": "code",
   "execution_count": 56,
   "id": "7351737d-8247-4745-88b0-38d4103980a8",
   "metadata": {},
   "outputs": [],
   "source": [
    "l=[[1,2,34,5,6,78,89],\"devesh\",\"kumar\",\"mishra\",1,2,3,45,6,7,89,98]"
   ]
  },
  {
   "cell_type": "code",
   "execution_count": 59,
   "id": "f632854f-93c9-4dc7-b19f-2cbe0e6ca768",
   "metadata": {},
   "outputs": [],
   "source": [
    "#with the help of loop\n",
    "l1=[]\n",
    "for i in l:\n",
    "    if type (i)==int or type(i)==float:\n",
    "        l1.append(i)"
   ]
  },
  {
   "cell_type": "code",
   "execution_count": 60,
   "id": "e2900eb6-6fe5-4073-9b3b-5c3f5bf90e9b",
   "metadata": {},
   "outputs": [
    {
     "data": {
      "text/plain": [
       "[1, 2, 3, 45, 6, 7, 89, 98]"
      ]
     },
     "execution_count": 60,
     "metadata": {},
     "output_type": "execute_result"
    }
   ],
   "source": [
    "l1"
   ]
  },
  {
   "cell_type": "code",
   "execution_count": 61,
   "id": "1734eddc-3f22-446e-8e65-8a58ab0f2bd8",
   "metadata": {},
   "outputs": [],
   "source": [
    "#with the help of function\n",
    "def test7(l):\n",
    "    l1=[]\n",
    "    for i in l:\n",
    "        if type (i)==int or type(i)==float:\n",
    "            l1.append(i)\n",
    "    return l1 "
   ]
  },
  {
   "cell_type": "code",
   "execution_count": 63,
   "id": "f7eb1073-b25c-46d0-9ecf-2145f1f246da",
   "metadata": {},
   "outputs": [
    {
     "data": {
      "text/plain": [
       "[1, 2, 3, 45, 6, 7, 89, 98]"
      ]
     },
     "execution_count": 63,
     "metadata": {},
     "output_type": "execute_result"
    }
   ],
   "source": [
    "test7(l)"
   ]
  },
  {
   "cell_type": "code",
   "execution_count": 69,
   "id": "77dc107c-d6c7-4397-9bb8-70c85f2efc3b",
   "metadata": {},
   "outputs": [],
   "source": [
    "def test8(a):\n",
    "    l=[]\n",
    "    for i in a:\n",
    "        if type(i)==list:\n",
    "            for j in i:\n",
    "                l.append(j)\n",
    "        else:\n",
    "            if type (i)==int or type(i)==float:\n",
    "                l.append(i)\n",
    "    return (l)           "
   ]
  },
  {
   "cell_type": "code",
   "execution_count": 70,
   "id": "28b83049-2725-4d13-b766-c54744531ffe",
   "metadata": {},
   "outputs": [
    {
     "data": {
      "text/plain": [
       "[1, 2, 34, 5, 6, 78, 89, 1, 2, 3, 45, 6, 7, 89, 98]"
      ]
     },
     "execution_count": 70,
     "metadata": {},
     "output_type": "execute_result"
    }
   ],
   "source": [
    "test8(l)"
   ]
  },
  {
   "cell_type": "code",
   "execution_count": 72,
   "id": "f849bb5a-0d05-4316-90d8-8953d36d792b",
   "metadata": {},
   "outputs": [
    {
     "data": {
      "text/plain": [
       "[[1, 2, 34, 5, 6, 78, 89],\n",
       " 'devesh',\n",
       " 'kumar',\n",
       " 'mishra',\n",
       " 1,\n",
       " 2,\n",
       " 3,\n",
       " 45,\n",
       " 6,\n",
       " 7,\n",
       " 89,\n",
       " 98]"
      ]
     },
     "execution_count": 72,
     "metadata": {},
     "output_type": "execute_result"
    }
   ],
   "source": [
    "l\n"
   ]
  },
  {
   "cell_type": "code",
   "execution_count": 75,
   "id": "740a1980-34b0-44ac-b730-6022c066c466",
   "metadata": {},
   "outputs": [],
   "source": [
    "def test9(a):\n",
    "    '''this is my function to extract num data from list'''#doc string adding\n",
    "    l=[]\n",
    "    for i in a:\n",
    "        if type(i)==list:\n",
    "            for j in i:\n",
    "                l.append(j)\n",
    "        else:\n",
    "            if type (i)==int or type(i)==float:\n",
    "                l.append(i)\n",
    "    return (l)           "
   ]
  },
  {
   "cell_type": "code",
   "execution_count": 6,
   "id": "841803aa-a157-4329-ac89-f6d72f86f6cd",
   "metadata": {},
   "outputs": [],
   "source": [
    "#how to multiple arguments in the function\n",
    "# with *args(args is not fixed keyword we can use any data ) function we can pass unlimted arguments in function\n",
    "# *(steric is the main function which helps in passing the element) main \n",
    "def test10(*args):\n",
    "    return args"
   ]
  },
  {
   "cell_type": "code",
   "execution_count": 2,
   "id": "158fc50d-aed1-4b59-ab9a-9cb9b760880f",
   "metadata": {},
   "outputs": [
    {
     "data": {
      "text/plain": [
       "()"
      ]
     },
     "execution_count": 2,
     "metadata": {},
     "output_type": "execute_result"
    }
   ],
   "source": [
    "test10()"
   ]
  },
  {
   "cell_type": "code",
   "execution_count": 3,
   "id": "a65ee3e4-563c-4be5-9dea-5e11a3cd25ca",
   "metadata": {},
   "outputs": [
    {
     "data": {
      "text/plain": [
       "tuple"
      ]
     },
     "execution_count": 3,
     "metadata": {},
     "output_type": "execute_result"
    }
   ],
   "source": [
    "type(test10())"
   ]
  },
  {
   "cell_type": "code",
   "execution_count": 4,
   "id": "75e7a887-4c1a-4c1b-8ccf-44111224b965",
   "metadata": {},
   "outputs": [
    {
     "data": {
      "text/plain": [
       "(1, 2, 34, 56, 'dev', 'mishraji', [23, 45, 67])"
      ]
     },
     "execution_count": 4,
     "metadata": {},
     "output_type": "execute_result"
    }
   ],
   "source": [
    "test10(1,2,34,56,\"dev\",\"mishraji\",[23,45,67])"
   ]
  },
  {
   "cell_type": "code",
   "execution_count": 80,
   "id": "2aff5af9-e98f-4739-bfcf-621dcfad1504",
   "metadata": {},
   "outputs": [],
   "source": [
    "def test11(*dev):\n",
    "    return dev"
   ]
  },
  {
   "cell_type": "code",
   "execution_count": 81,
   "id": "f7e60a00-e5be-4f7d-81f8-936b9f163752",
   "metadata": {},
   "outputs": [
    {
     "data": {
      "text/plain": [
       "(1, 2, 34, 56, 'dev', 'mishraji', [23, 45, 67])"
      ]
     },
     "execution_count": 81,
     "metadata": {},
     "output_type": "execute_result"
    }
   ],
   "source": [
    "test11(1,2,34,56,\"dev\",\"mishraji\",[23,45,67])"
   ]
  },
  {
   "cell_type": "code",
   "execution_count": 82,
   "id": "ada3da71-6fde-4dfb-9ba5-3083dc53dddb",
   "metadata": {},
   "outputs": [],
   "source": [
    "def test12(*args,a):\n",
    "    return args ,a"
   ]
  },
  {
   "cell_type": "code",
   "execution_count": 83,
   "id": "bd963bcb-b76f-447e-a666-cde914bd6b6b",
   "metadata": {},
   "outputs": [
    {
     "data": {
      "text/plain": [
       "(('dev', 'mishra'), 34)"
      ]
     },
     "execution_count": 83,
     "metadata": {},
     "output_type": "execute_result"
    }
   ],
   "source": [
    "test12('dev','mishra',a=34)"
   ]
  },
  {
   "cell_type": "code",
   "execution_count": 84,
   "id": "4da68b4d-5e18-42f6-8072-897ba0ba1ff6",
   "metadata": {},
   "outputs": [],
   "source": [
    "#result is in the form odf tuple "
   ]
  },
  {
   "cell_type": "code",
   "execution_count": 88,
   "id": "9867bdf4-cf15-41ae-a6a4-f8e84c8c1ed8",
   "metadata": {},
   "outputs": [],
   "source": [
    "def test13(a,b,c=10,d=34,e=670):\n",
    "    return a,b,c,d,e"
   ]
  },
  {
   "cell_type": "code",
   "execution_count": 91,
   "id": "bee0c402-f275-4ab5-bb87-1d1486d09882",
   "metadata": {},
   "outputs": [
    {
     "data": {
      "text/plain": [
       "(45, 89, 11, 34, 670)"
      ]
     },
     "execution_count": 91,
     "metadata": {},
     "output_type": "execute_result"
    }
   ],
   "source": [
    "#default value of c can be overwrite\n",
    "test13(45,89,c=11)"
   ]
  },
  {
   "cell_type": "code",
   "execution_count": 8,
   "id": "bebe322e-58fd-4b1a-8b6e-93e53c334ccc",
   "metadata": {},
   "outputs": [],
   "source": [
    "#double steric** for dictionary key value pair\n",
    "def test15(**kwargs):\n",
    "    return kwargs"
   ]
  },
  {
   "cell_type": "code",
   "execution_count": 9,
   "id": "5af1bc4a-c755-4c2d-a57f-e34388b4e6bc",
   "metadata": {},
   "outputs": [
    {
     "data": {
      "text/plain": [
       "dict"
      ]
     },
     "execution_count": 9,
     "metadata": {},
     "output_type": "execute_result"
    }
   ],
   "source": [
    "type(test15())"
   ]
  },
  {
   "cell_type": "code",
   "execution_count": 10,
   "id": "ac76e025-1452-4c5a-aa19-4d67e3ba7fbc",
   "metadata": {},
   "outputs": [
    {
     "data": {
      "text/plain": [
       "{}"
      ]
     },
     "execution_count": 10,
     "metadata": {},
     "output_type": "execute_result"
    }
   ],
   "source": [
    "test15()"
   ]
  },
  {
   "cell_type": "code",
   "execution_count": 11,
   "id": "3c211453-56e5-4738-9351-dfaa035fa4bd",
   "metadata": {},
   "outputs": [
    {
     "data": {
      "text/plain": [
       "{'a': [1, 2, 3, 4], 'b': 'dev', 'c': 45.87}"
      ]
     },
     "execution_count": 11,
     "metadata": {},
     "output_type": "execute_result"
    }
   ],
   "source": [
    "test15(a=[1,2,3,4],b=\"dev\",c=45.87)# data will be entered in key value form"
   ]
  },
  {
   "cell_type": "code",
   "execution_count": null,
   "id": "4f0c0b34-36bd-4525-88b1-88332bd09159",
   "metadata": {},
   "outputs": [],
   "source": []
  }
 ],
 "metadata": {
  "kernelspec": {
   "display_name": "Python 3 (ipykernel)",
   "language": "python",
   "name": "python3"
  },
  "language_info": {
   "codemirror_mode": {
    "name": "ipython",
    "version": 3
   },
   "file_extension": ".py",
   "mimetype": "text/x-python",
   "name": "python",
   "nbconvert_exporter": "python",
   "pygments_lexer": "ipython3",
   "version": "3.10.8"
  }
 },
 "nbformat": 4,
 "nbformat_minor": 5
}
