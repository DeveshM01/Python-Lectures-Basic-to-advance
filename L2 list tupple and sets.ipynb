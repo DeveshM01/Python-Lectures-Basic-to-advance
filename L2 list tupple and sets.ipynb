{
 "cells": [
  {
   "cell_type": "code",
   "execution_count": 3,
   "id": "f7846fdf-c61d-4e31-9583-d4f677de5d23",
   "metadata": {},
   "outputs": [],
   "source": [
    "#how list variable is used.\n",
    "#List can contain all type of variables/elements\n",
    "k=[4,45.46,\"dev\",True,4+7j,77.87]"
   ]
  },
  {
   "cell_type": "code",
   "execution_count": 4,
   "id": "196b9d64-b2bf-4185-aa61-892e98dde8ac",
   "metadata": {},
   "outputs": [
    {
     "data": {
      "text/plain": [
       "'dev'"
      ]
     },
     "execution_count": 4,
     "metadata": {},
     "output_type": "execute_result"
    }
   ],
   "source": [
    "#calling specific element of list.\n",
    "k[2]"
   ]
  },
  {
   "cell_type": "code",
   "execution_count": 5,
   "id": "e7118094-7b8c-4b4b-a649-c7f51ed3f3c4",
   "metadata": {},
   "outputs": [
    {
     "data": {
      "text/plain": [
       "[4, 'dev', (4+7j)]"
      ]
     },
     "execution_count": 5,
     "metadata": {},
     "output_type": "execute_result"
    }
   ],
   "source": [
    "#for calling even place no.\n",
    "k[::2]"
   ]
  },
  {
   "cell_type": "code",
   "execution_count": 6,
   "id": "3a2687ad-f63d-4b34-b906-2616bff4dc09",
   "metadata": {},
   "outputs": [
    {
     "data": {
      "text/plain": [
       "[77.87, (4+7j), True, 'dev', 45.46, 4]"
      ]
     },
     "execution_count": 6,
     "metadata": {},
     "output_type": "execute_result"
    }
   ],
   "source": [
    "#for reverse of thee string.\n",
    "k[::-1]"
   ]
  },
  {
   "cell_type": "code",
   "execution_count": 7,
   "id": "114bc65a-0fee-411e-81a4-3b3b84899dbd",
   "metadata": {},
   "outputs": [],
   "source": [
    "p=\"devesh\""
   ]
  },
  {
   "cell_type": "code",
   "execution_count": 8,
   "id": "f572072d-5bf5-4569-b53c-24c12bd3f68b",
   "metadata": {},
   "outputs": [
    {
     "ename": "TypeError",
     "evalue": "can only concatenate str (not \"list\") to str",
     "output_type": "error",
     "traceback": [
      "\u001b[0;31m---------------------------------------------------------------------------\u001b[0m",
      "\u001b[0;31mTypeError\u001b[0m                                 Traceback (most recent call last)",
      "Cell \u001b[0;32mIn[8], line 2\u001b[0m\n\u001b[1;32m      1\u001b[0m \u001b[38;5;66;03m#cant work because both are diffferent datatypes.\u001b[39;00m\n\u001b[0;32m----> 2\u001b[0m \u001b[43mp\u001b[49m\u001b[38;5;241;43m+\u001b[39;49m\u001b[43mk\u001b[49m\n",
      "\u001b[0;31mTypeError\u001b[0m: can only concatenate str (not \"list\") to str"
     ]
    }
   ],
   "source": [
    "#cant work because both are diffferent datatypes.\n",
    "p+k"
   ]
  },
  {
   "cell_type": "code",
   "execution_count": 9,
   "id": "ea8a8a96-992f-43f4-89e8-28122ba88fa8",
   "metadata": {},
   "outputs": [
    {
     "data": {
      "text/plain": [
       "\"devesh[4, 45.46, 'dev', True, (4+7j), 77.87]\""
      ]
     },
     "execution_count": 9,
     "metadata": {},
     "output_type": "execute_result"
    }
   ],
   "source": [
    "#This type of function is called type casting\n",
    "p+str(k)"
   ]
  },
  {
   "cell_type": "code",
   "execution_count": 10,
   "id": "38e83948-f3fb-4b25-95bf-c0d58b9dc41b",
   "metadata": {},
   "outputs": [
    {
     "data": {
      "text/plain": [
       "[4, 45.46, 'dev', True, (4+7j), 77.87]"
      ]
     },
     "execution_count": 10,
     "metadata": {},
     "output_type": "execute_result"
    }
   ],
   "source": [
    "list(k)"
   ]
  },
  {
   "cell_type": "code",
   "execution_count": 11,
   "id": "cfc87e65-2770-44f1-aea5-c9794a2b5bd8",
   "metadata": {},
   "outputs": [
    {
     "data": {
      "text/plain": [
       "['d', 'e', 'v', 'e', 's', 'h']"
      ]
     },
     "execution_count": 11,
     "metadata": {},
     "output_type": "execute_result"
    }
   ],
   "source": [
    "#brekes the data types into different types\n",
    "list(p)"
   ]
  },
  {
   "cell_type": "code",
   "execution_count": 12,
   "id": "f3965112-abf8-426a-b856-da82b564b6b8",
   "metadata": {},
   "outputs": [
    {
     "data": {
      "text/plain": [
       "['d', 'e', 'v', 'e', 's', 'h', 4, 45.46, 'dev', True, (4+7j), 77.87]"
      ]
     },
     "execution_count": 12,
     "metadata": {},
     "output_type": "execute_result"
    }
   ],
   "source": [
    "# if we want to add two different datatypes together.\n",
    "list(p) + k"
   ]
  },
  {
   "cell_type": "code",
   "execution_count": 13,
   "id": "e22154aa-ebc1-4517-a078-f201521448df",
   "metadata": {},
   "outputs": [
    {
     "data": {
      "text/plain": [
       "[4, 45.46, 'dev', True, (4+7j), 77.87]"
      ]
     },
     "execution_count": 13,
     "metadata": {},
     "output_type": "execute_result"
    }
   ],
   "source": [
    "k"
   ]
  },
  {
   "cell_type": "code",
   "execution_count": 14,
   "id": "e32e1251-4011-412b-b408-e9b8f8fa797c",
   "metadata": {},
   "outputs": [
    {
     "data": {
      "text/plain": [
       "'dev'"
      ]
     },
     "execution_count": 14,
     "metadata": {},
     "output_type": "execute_result"
    }
   ],
   "source": [
    "#taking out 'de' from dev string\n",
    "k[2]"
   ]
  },
  {
   "cell_type": "code",
   "execution_count": 15,
   "id": "f48f61be-c2dc-498e-b77d-4556e9abc71b",
   "metadata": {},
   "outputs": [
    {
     "data": {
      "text/plain": [
       "'de'"
      ]
     },
     "execution_count": 15,
     "metadata": {},
     "output_type": "execute_result"
    }
   ],
   "source": [
    "#taking out 'de' from dev string. \n",
    "k[2][0:2]"
   ]
  },
  {
   "cell_type": "code",
   "execution_count": 16,
   "id": "b0f57cea-bd45-4864-9981-8252f9c7fef2",
   "metadata": {},
   "outputs": [
    {
     "data": {
      "text/plain": [
       "True"
      ]
     },
     "execution_count": 16,
     "metadata": {},
     "output_type": "execute_result"
    }
   ],
   "source": [
    "k[3]"
   ]
  },
  {
   "cell_type": "code",
   "execution_count": 17,
   "id": "ad656ad8-38d3-43d4-bd24-9766566c02d2",
   "metadata": {},
   "outputs": [
    {
     "data": {
      "text/plain": [
       "'Tr'"
      ]
     },
     "execution_count": 17,
     "metadata": {},
     "output_type": "execute_result"
    }
   ],
   "source": [
    "#boolean can only be called if it is converted it into string\n",
    "#firstly convert it into string then call for 'tr'  \n",
    "\n",
    "str(k[3])[0:2]"
   ]
  },
  {
   "cell_type": "code",
   "execution_count": 57,
   "id": "b265d808-29fb-4287-9dda-6b4561aa64ab",
   "metadata": {},
   "outputs": [],
   "source": [
    "#Note:- list can only concatenate with list not with other datatypes."
   ]
  },
  {
   "cell_type": "code",
   "execution_count": 19,
   "id": "abf0f975-a59b-4681-bc30-830d7b44df35",
   "metadata": {},
   "outputs": [
    {
     "data": {
      "text/plain": [
       "[4, 45.46, 'dev', True, (4+7j), 77.87]"
      ]
     },
     "execution_count": 19,
     "metadata": {},
     "output_type": "execute_result"
    }
   ],
   "source": [
    "k"
   ]
  },
  {
   "cell_type": "code",
   "execution_count": 20,
   "id": "3c447d47-d18a-46dd-b4aa-627c51d45c5a",
   "metadata": {},
   "outputs": [],
   "source": [
    "k1=[4,5,8,9]"
   ]
  },
  {
   "cell_type": "code",
   "execution_count": 21,
   "id": "e7bd4d93-7ba5-4d61-b982-d9f3fe1ac2f1",
   "metadata": {},
   "outputs": [
    {
     "data": {
      "text/plain": [
       "[4, 45.46, 'dev', True, (4+7j), 77.87, 4, 5, 8, 9]"
      ]
     },
     "execution_count": 21,
     "metadata": {},
     "output_type": "execute_result"
    }
   ],
   "source": [
    "#list k and k1 can be concatenated\n",
    "k+k1"
   ]
  },
  {
   "cell_type": "code",
   "execution_count": 22,
   "id": "2debd552-9dc4-40d7-b792-7ed16879d88c",
   "metadata": {},
   "outputs": [
    {
     "data": {
      "text/plain": [
       "[4, 5, 8, 9]"
      ]
     },
     "execution_count": 22,
     "metadata": {},
     "output_type": "execute_result"
    }
   ],
   "source": [
    "k1"
   ]
  },
  {
   "cell_type": "code",
   "execution_count": 23,
   "id": "6a9bbe4c-afb2-48be-b55f-ad8840dcba9d",
   "metadata": {},
   "outputs": [
    {
     "data": {
      "text/plain": [
       "[4, 5, 8, 9, 4, 5, 8, 9, 4, 5, 8, 9]"
      ]
     },
     "execution_count": 23,
     "metadata": {},
     "output_type": "execute_result"
    }
   ],
   "source": [
    "#k1 elements are multiplied by 3.\n",
    "k1*3"
   ]
  },
  {
   "cell_type": "code",
   "execution_count": 24,
   "id": "ddccd5c9-99c9-46f3-818c-f9e555c6edd2",
   "metadata": {},
   "outputs": [
    {
     "data": {
      "text/plain": [
       "[4, 45.46, 'dev', True, (4+7j), 77.87]"
      ]
     },
     "execution_count": 24,
     "metadata": {},
     "output_type": "execute_result"
    }
   ],
   "source": [
    "k\n"
   ]
  },
  {
   "cell_type": "code",
   "execution_count": 25,
   "id": "c58f9706-6fbb-4328-9ca7-6178f08ae50f",
   "metadata": {},
   "outputs": [
    {
     "data": {
      "text/plain": [
       "6"
      ]
     },
     "execution_count": 25,
     "metadata": {},
     "output_type": "execute_result"
    }
   ],
   "source": [
    "#len function is used to find no.of elements in the list\n",
    "len(k)"
   ]
  },
  {
   "cell_type": "code",
   "execution_count": 26,
   "id": "58d5d97b-dec6-427e-947f-b24f72a11126",
   "metadata": {},
   "outputs": [
    {
     "data": {
      "text/plain": [
       "[4, 45.46, 'dev', True, (4+7j), 77.87]"
      ]
     },
     "execution_count": 26,
     "metadata": {},
     "output_type": "execute_result"
    }
   ],
   "source": [
    "k"
   ]
  },
  {
   "cell_type": "code",
   "execution_count": 27,
   "id": "4e10af58-ade9-4cc3-b2df-aa9b07f97f37",
   "metadata": {},
   "outputs": [],
   "source": [
    "#for addition of two different variables using append function\n",
    "#addition of two different list\n",
    "k.append(p)"
   ]
  },
  {
   "cell_type": "code",
   "execution_count": 28,
   "id": "77dce849-a8ee-4f6b-9ec5-52741353d2d8",
   "metadata": {},
   "outputs": [
    {
     "data": {
      "text/plain": [
       "[4, 45.46, 'dev', True, (4+7j), 77.87, 'devesh']"
      ]
     },
     "execution_count": 28,
     "metadata": {},
     "output_type": "execute_result"
    }
   ],
   "source": [
    "k\n"
   ]
  },
  {
   "cell_type": "code",
   "execution_count": 29,
   "id": "5fb37999-20aa-4089-81e3-f5d9040e7c7f",
   "metadata": {},
   "outputs": [],
   "source": [
    "k.append(k1)"
   ]
  },
  {
   "cell_type": "code",
   "execution_count": 30,
   "id": "2026358d-4c5b-4a08-a2f8-007e74e4b07a",
   "metadata": {},
   "outputs": [
    {
     "data": {
      "text/plain": [
       "[4, 45.46, 'dev', True, (4+7j), 77.87, 'devesh', [4, 5, 8, 9]]"
      ]
     },
     "execution_count": 30,
     "metadata": {},
     "output_type": "execute_result"
    }
   ],
   "source": [
    "k"
   ]
  },
  {
   "cell_type": "code",
   "execution_count": 31,
   "id": "4d8bc7df-9a7d-4530-8c89-89c8601dffd7",
   "metadata": {},
   "outputs": [
    {
     "data": {
      "text/plain": [
       "[4, 5, 8, 9]"
      ]
     },
     "execution_count": 31,
     "metadata": {},
     "output_type": "execute_result"
    }
   ],
   "source": [
    "k[-1]"
   ]
  },
  {
   "cell_type": "code",
   "execution_count": 32,
   "id": "da4b1050-1bfd-41b4-8cdf-429afb11ac0d",
   "metadata": {},
   "outputs": [
    {
     "data": {
      "text/plain": [
       "8"
      ]
     },
     "execution_count": 32,
     "metadata": {},
     "output_type": "execute_result"
    }
   ],
   "source": [
    "#calling 8 fron list after using append function.\n",
    "k[-1][-2]"
   ]
  },
  {
   "cell_type": "code",
   "execution_count": 33,
   "id": "26d87fea-ef00-4df0-81ca-6a420b4c1878",
   "metadata": {},
   "outputs": [
    {
     "data": {
      "text/plain": [
       "[4, 45.46, 'dev', True, (4+7j), 77.87, 'devesh', [4, 5, 8, 9]]"
      ]
     },
     "execution_count": 33,
     "metadata": {},
     "output_type": "execute_result"
    }
   ],
   "source": [
    "k"
   ]
  },
  {
   "cell_type": "code",
   "execution_count": 34,
   "id": "353714a7-95c5-486d-957c-7903d478b6bb",
   "metadata": {},
   "outputs": [],
   "source": [
    "#k.extend(4)"
   ]
  },
  {
   "cell_type": "code",
   "execution_count": 35,
   "id": "4c714777-deea-4375-977a-54897015338c",
   "metadata": {},
   "outputs": [],
   "source": [
    "#extend function is used extend the data,string data cant not be extended\n",
    "#k.extend(\"devesh\")\n",
    "#Extend function only works at where data contains data."
   ]
  },
  {
   "cell_type": "code",
   "execution_count": 36,
   "id": "7c4724b2-6d33-4bab-8101-e600e85813d2",
   "metadata": {},
   "outputs": [
    {
     "data": {
      "text/plain": [
       "[4, 45.46, 'dev', True, (4+7j), 77.87, 'devesh', [4, 5, 8, 9]]"
      ]
     },
     "execution_count": 36,
     "metadata": {},
     "output_type": "execute_result"
    }
   ],
   "source": [
    "k"
   ]
  },
  {
   "cell_type": "code",
   "execution_count": 37,
   "id": "33c1f16a-56d4-47c9-9714-27527376cf82",
   "metadata": {},
   "outputs": [
    {
     "data": {
      "text/plain": [
       "[4, 5, 8, 9]"
      ]
     },
     "execution_count": 37,
     "metadata": {},
     "output_type": "execute_result"
    }
   ],
   "source": [
    "# NOTE-#append keeps the data as it is and displays\n",
    "#extend data extends the data.extend funs adds the data at last position.\n",
    "k1"
   ]
  },
  {
   "cell_type": "code",
   "execution_count": 38,
   "id": "c93418cc-c917-4c34-9ab7-63385a5c1087",
   "metadata": {},
   "outputs": [],
   "source": [
    "#insert function is used to insert data at any index \n",
    "k1.insert(3,\"dev\")"
   ]
  },
  {
   "cell_type": "code",
   "execution_count": 39,
   "id": "d5fd84ed-1e08-4e79-9237-d40e0040139b",
   "metadata": {},
   "outputs": [
    {
     "data": {
      "text/plain": [
       "[4, 5, 8, 'dev', 9]"
      ]
     },
     "execution_count": 39,
     "metadata": {},
     "output_type": "execute_result"
    }
   ],
   "source": [
    "#inserts the 'dev' at 3rd index.\n",
    "k1"
   ]
  },
  {
   "cell_type": "markdown",
   "id": "720aa7f4-4c61-436d-8567-3ed8018cbba2",
   "metadata": {
    "tags": []
   },
   "source": [
    "# k1.insert(2,k)"
   ]
  },
  {
   "cell_type": "code",
   "execution_count": 40,
   "id": "b40e9463-273b-47b4-bb39-374405dda244",
   "metadata": {},
   "outputs": [
    {
     "data": {
      "text/plain": [
       "[4, 5, 8, 'dev', 9]"
      ]
     },
     "execution_count": 40,
     "metadata": {},
     "output_type": "execute_result"
    }
   ],
   "source": [
    "k1"
   ]
  },
  {
   "cell_type": "code",
   "execution_count": 41,
   "id": "15439a6b-14f8-4e3e-bac2-4ded9627844c",
   "metadata": {},
   "outputs": [],
   "source": [
    "k1.insert(-1,5)"
   ]
  },
  {
   "cell_type": "code",
   "execution_count": 42,
   "id": "1ed6ee34-061b-4ba8-b2a0-8da8c3f3432a",
   "metadata": {},
   "outputs": [
    {
     "data": {
      "text/plain": [
       "[4, 5, 8, 'dev', 5, 9]"
      ]
     },
     "execution_count": 42,
     "metadata": {},
     "output_type": "execute_result"
    }
   ],
   "source": [
    "#inserts 5 at -1 position.\n",
    "k1"
   ]
  },
  {
   "cell_type": "code",
   "execution_count": 43,
   "id": "e894b15c-7033-45da-9b8e-865cf5d4e194",
   "metadata": {},
   "outputs": [],
   "source": [
    "#New List\n",
    "q=[45,48,456,45.89,True,4+9j,\"devesh\",-23]"
   ]
  },
  {
   "cell_type": "code",
   "execution_count": 44,
   "id": "0cfd0474-363c-4c4d-a158-3b16fd43c835",
   "metadata": {},
   "outputs": [
    {
     "data": {
      "text/plain": [
       "-23"
      ]
     },
     "execution_count": 44,
     "metadata": {},
     "output_type": "execute_result"
    }
   ],
   "source": [
    "#pop function is used to remove the last index at -1\n",
    "q.pop()"
   ]
  },
  {
   "cell_type": "code",
   "execution_count": 45,
   "id": "2b0898fb-c9c7-43f8-9543-4d8033ea6023",
   "metadata": {},
   "outputs": [
    {
     "data": {
      "text/plain": [
       "'devesh'"
      ]
     },
     "execution_count": 45,
     "metadata": {},
     "output_type": "execute_result"
    }
   ],
   "source": [
    "q.pop()"
   ]
  },
  {
   "cell_type": "code",
   "execution_count": 46,
   "id": "59bfd958-b2f8-4cdc-8f62-7336e6bd7114",
   "metadata": {},
   "outputs": [
    {
     "data": {
      "text/plain": [
       "[45, 48, 456, 45.89, True, (4+9j)]"
      ]
     },
     "execution_count": 46,
     "metadata": {},
     "output_type": "execute_result"
    }
   ],
   "source": [
    "q"
   ]
  },
  {
   "cell_type": "code",
   "execution_count": 47,
   "id": "a39326cf-4e86-4263-b919-f0da195b29ab",
   "metadata": {},
   "outputs": [
    {
     "data": {
      "text/plain": [
       "456"
      ]
     },
     "execution_count": 47,
     "metadata": {},
     "output_type": "execute_result"
    }
   ],
   "source": [
    "#removinf specific items from list using pop function\n",
    "q.pop(2)"
   ]
  },
  {
   "cell_type": "code",
   "execution_count": 48,
   "id": "2c54f34d-1442-4238-8ecb-b5b6eec4753b",
   "metadata": {},
   "outputs": [
    {
     "data": {
      "text/plain": [
       "[45, 48, 45.89, True, (4+9j)]"
      ]
     },
     "execution_count": 48,
     "metadata": {},
     "output_type": "execute_result"
    }
   ],
   "source": [
    "#456 is removed using pop function\n",
    "q"
   ]
  },
  {
   "cell_type": "code",
   "execution_count": 49,
   "id": "bf102e16-2b42-4c08-8131-a1217e1dc986",
   "metadata": {},
   "outputs": [
    {
     "ename": "ValueError",
     "evalue": "list.remove(x): x not in list",
     "output_type": "error",
     "traceback": [
      "\u001b[0;31m---------------------------------------------------------------------------\u001b[0m",
      "\u001b[0;31mValueError\u001b[0m                                Traceback (most recent call last)",
      "Cell \u001b[0;32mIn[49], line 2\u001b[0m\n\u001b[1;32m      1\u001b[0m \u001b[38;5;66;03m#remove function is used to remove elemets at different index.\u001b[39;00m\n\u001b[0;32m----> 2\u001b[0m \u001b[43mq\u001b[49m\u001b[38;5;241;43m.\u001b[39;49m\u001b[43mremove\u001b[49m\u001b[43m(\u001b[49m\u001b[38;5;241;43m78\u001b[39;49m\u001b[43m)\u001b[49m\n",
      "\u001b[0;31mValueError\u001b[0m: list.remove(x): x not in list"
     ]
    }
   ],
   "source": [
    "#remove function is used to remove elemets at different index.\n",
    "q.remove(78)"
   ]
  },
  {
   "cell_type": "code",
   "execution_count": 50,
   "id": "dbb28518-b0c7-46e4-9d19-48dc9752fc47",
   "metadata": {},
   "outputs": [],
   "source": [
    "q.remove(48)"
   ]
  },
  {
   "cell_type": "code",
   "execution_count": 51,
   "id": "e3ab7f7b-0701-4acc-b623-a7fc3c399e49",
   "metadata": {},
   "outputs": [
    {
     "data": {
      "text/plain": [
       "[45, 45.89, True, (4+9j)]"
      ]
     },
     "execution_count": 51,
     "metadata": {},
     "output_type": "execute_result"
    }
   ],
   "source": [
    "q"
   ]
  },
  {
   "cell_type": "code",
   "execution_count": 52,
   "id": "6ae7c0a9-5ec5-403d-a897-3c5ff64b169d",
   "metadata": {},
   "outputs": [],
   "source": [
    "#New List\n",
    "w=[24,447,True,[4,6,9,0],4+57j,\"devesh\"]"
   ]
  },
  {
   "cell_type": "code",
   "execution_count": 53,
   "id": "e8ebba25-9878-446e-841f-f7ccfeeda246",
   "metadata": {},
   "outputs": [
    {
     "data": {
      "text/plain": [
       "[24, 447, True, [4, 6, 9, 0], (4+57j), 'devesh']"
      ]
     },
     "execution_count": 53,
     "metadata": {},
     "output_type": "execute_result"
    }
   ],
   "source": [
    "w"
   ]
  },
  {
   "cell_type": "code",
   "execution_count": 54,
   "id": "db748f02-7c5b-46c2-b748-2dec47fb2e49",
   "metadata": {},
   "outputs": [],
   "source": [
    "# for removing specific elemets from the list.\n",
    "w[3].remove(9)"
   ]
  },
  {
   "cell_type": "code",
   "execution_count": 55,
   "id": "d92ce63d-190f-4415-842d-5d5af5f939ed",
   "metadata": {},
   "outputs": [
    {
     "data": {
      "text/plain": [
       "[24, 447, True, [4, 6, 0], (4+57j), 'devesh']"
      ]
     },
     "execution_count": 55,
     "metadata": {},
     "output_type": "execute_result"
    }
   ],
   "source": [
    "w"
   ]
  },
  {
   "cell_type": "code",
   "execution_count": 56,
   "id": "0a02fe31-b570-4a09-b4c5-99abf969f04b",
   "metadata": {},
   "outputs": [
    {
     "ename": "TypeError",
     "evalue": "list.remove() takes exactly one argument (2 given)",
     "output_type": "error",
     "traceback": [
      "\u001b[0;31m---------------------------------------------------------------------------\u001b[0m",
      "\u001b[0;31mTypeError\u001b[0m                                 Traceback (most recent call last)",
      "Cell \u001b[0;32mIn[56], line 2\u001b[0m\n\u001b[1;32m      1\u001b[0m \u001b[38;5;66;03m#one time only one element can only be removed.\u001b[39;00m\n\u001b[0;32m----> 2\u001b[0m \u001b[43mw\u001b[49m\u001b[38;5;241;43m.\u001b[39;49m\u001b[43mremove\u001b[49m\u001b[43m(\u001b[49m\u001b[38;5;241;43m24\u001b[39;49m\u001b[43m,\u001b[49m\u001b[38;5;241;43m447\u001b[39;49m\u001b[43m)\u001b[49m\n",
      "\u001b[0;31mTypeError\u001b[0m: list.remove() takes exactly one argument (2 given)"
     ]
    }
   ],
   "source": [
    "#one time only one element can only be removed.\n",
    "w.remove(24,447)"
   ]
  },
  {
   "cell_type": "code",
   "execution_count": 85,
   "id": "417d04ca-239a-4e78-9a71-91c86b4e055c",
   "metadata": {},
   "outputs": [],
   "source": [
    "# it is used for permanent reverse\n",
    "w.reverse()"
   ]
  },
  {
   "cell_type": "code",
   "execution_count": 86,
   "id": "cd584bf8-3def-4b3f-bbda-24098f7113e8",
   "metadata": {},
   "outputs": [
    {
     "data": {
      "text/plain": [
       "['devesh', (4+57j), [4, 6, 0], True, 447, 24]"
      ]
     },
     "execution_count": 86,
     "metadata": {},
     "output_type": "execute_result"
    }
   ],
   "source": [
    "w"
   ]
  },
  {
   "cell_type": "code",
   "execution_count": 87,
   "id": "7e53a6a3-e941-439b-8d0c-0959aa0d759e",
   "metadata": {},
   "outputs": [
    {
     "data": {
      "text/plain": [
       "[24, 447, True, [4, 6, 0], (4+57j), 'devesh']"
      ]
     },
     "execution_count": 87,
     "metadata": {},
     "output_type": "execute_result"
    }
   ],
   "source": [
    "#temperory reverse\n",
    "w[::-1]"
   ]
  },
  {
   "cell_type": "code",
   "execution_count": 88,
   "id": "539bfe87-dd8c-4828-b065-8eed16e5d849",
   "metadata": {},
   "outputs": [],
   "source": [
    "w.reverse()"
   ]
  },
  {
   "cell_type": "code",
   "execution_count": 89,
   "id": "c123487d-05aa-4339-8e93-3512976d38db",
   "metadata": {},
   "outputs": [
    {
     "data": {
      "text/plain": [
       "[24, 447, True, [4, 6, 0], (4+57j), 'devesh']"
      ]
     },
     "execution_count": 89,
     "metadata": {},
     "output_type": "execute_result"
    }
   ],
   "source": [
    "#original form\n",
    "w"
   ]
  },
  {
   "cell_type": "code",
   "execution_count": 90,
   "id": "63167faa-69e0-431f-b5aa-a5f5e1d581f3",
   "metadata": {},
   "outputs": [],
   "source": [
    "#New List\n",
    "e=[2,4,3,9,6,4,0,8,7]"
   ]
  },
  {
   "cell_type": "code",
   "execution_count": 91,
   "id": "0ee6a052-9e28-4c55-92f7-41d59593d45a",
   "metadata": {},
   "outputs": [],
   "source": [
    "#sort is used to arrange the elements in arranging order.\n",
    "e.sort()"
   ]
  },
  {
   "cell_type": "code",
   "execution_count": 92,
   "id": "137d97f2-b627-4d4e-bd60-da1b3553aaf8",
   "metadata": {},
   "outputs": [
    {
     "data": {
      "text/plain": [
       "[0, 2, 3, 4, 4, 6, 7, 8, 9]"
      ]
     },
     "execution_count": 92,
     "metadata": {},
     "output_type": "execute_result"
    }
   ],
   "source": [
    "e"
   ]
  },
  {
   "cell_type": "code",
   "execution_count": 93,
   "id": "8c100390-e727-4634-87c2-5b01fd8f3ff3",
   "metadata": {},
   "outputs": [
    {
     "ename": "TypeError",
     "evalue": "sort() takes no positional arguments",
     "output_type": "error",
     "traceback": [
      "\u001b[0;31m---------------------------------------------------------------------------\u001b[0m",
      "\u001b[0;31mTypeError\u001b[0m                                 Traceback (most recent call last)",
      "Cell \u001b[0;32mIn[93], line 1\u001b[0m\n\u001b[0;32m----> 1\u001b[0m \u001b[43me\u001b[49m\u001b[38;5;241;43m.\u001b[39;49m\u001b[43msort\u001b[49m\u001b[43m(\u001b[49m\u001b[38;5;241;43m-\u001b[39;49m\u001b[38;5;241;43m1\u001b[39;49m\u001b[43m)\u001b[49m\n",
      "\u001b[0;31mTypeError\u001b[0m: sort() takes no positional arguments"
     ]
    }
   ],
   "source": [
    "e.sort("
   ]
  },
  {
   "cell_type": "code",
   "execution_count": 94,
   "id": "4b0c3ca9-991e-4282-b48e-bc01d75a32e3",
   "metadata": {},
   "outputs": [],
   "source": [
    "t=[\"devesh\",\"zebra\",\"kite\",\"butter\"]"
   ]
  },
  {
   "cell_type": "code",
   "execution_count": 95,
   "id": "aa136f1f-13f9-49b2-b5ec-428bf6013941",
   "metadata": {},
   "outputs": [],
   "source": [
    "# sort in alphabetical order\n",
    "t.sort()"
   ]
  },
  {
   "cell_type": "code",
   "execution_count": 96,
   "id": "20ac5365-e0fe-4286-b206-d78662af4434",
   "metadata": {},
   "outputs": [
    {
     "data": {
      "text/plain": [
       "['butter', 'devesh', 'kite', 'zebra']"
      ]
     },
     "execution_count": 96,
     "metadata": {},
     "output_type": "execute_result"
    }
   ],
   "source": [
    "t"
   ]
  },
  {
   "cell_type": "code",
   "execution_count": 97,
   "id": "0c3d6ba3-9ce9-459a-a366-746923f5d118",
   "metadata": {},
   "outputs": [],
   "source": [
    "#reverse\n",
    "t.sort(reverse=True)"
   ]
  },
  {
   "cell_type": "code",
   "execution_count": 98,
   "id": "d92ceadb-13df-45ae-aa4c-c2e5e1de8fd0",
   "metadata": {},
   "outputs": [
    {
     "data": {
      "text/plain": [
       "['zebra', 'kite', 'devesh', 'butter']"
      ]
     },
     "execution_count": 98,
     "metadata": {},
     "output_type": "execute_result"
    }
   ],
   "source": [
    "t"
   ]
  },
  {
   "cell_type": "code",
   "execution_count": 99,
   "id": "a4dc27ad-f6b8-4221-bb11-ec29f5957e99",
   "metadata": {},
   "outputs": [
    {
     "data": {
      "text/plain": [
       "1"
      ]
     },
     "execution_count": 99,
     "metadata": {},
     "output_type": "execute_result"
    }
   ],
   "source": [
    "# is used get info of the index\n",
    "t.index(\"kite\")"
   ]
  },
  {
   "cell_type": "code",
   "execution_count": 100,
   "id": "16c88e52-deae-405f-9cdb-bef2042bedcc",
   "metadata": {},
   "outputs": [
    {
     "data": {
      "text/plain": [
       "1"
      ]
     },
     "execution_count": 100,
     "metadata": {},
     "output_type": "execute_result"
    }
   ],
   "source": [
    "# no. of times kite apperars in list\n",
    "t.count(\"kite\")"
   ]
  },
  {
   "cell_type": "code",
   "execution_count": 2,
   "id": "c28a6d90-ad6e-41b9-84ae-7e45853bdeaf",
   "metadata": {},
   "outputs": [],
   "source": [
    "o=\"mishra\""
   ]
  },
  {
   "cell_type": "code",
   "execution_count": 3,
   "id": "77a49add-7421-42bd-a574-d5910de6840b",
   "metadata": {},
   "outputs": [],
   "source": [
    "p=[2,4,5,67]"
   ]
  },
  {
   "cell_type": "code",
   "execution_count": 4,
   "id": "e2c13290-5085-48ca-9360-24eef1014579",
   "metadata": {},
   "outputs": [
    {
     "data": {
      "text/plain": [
       "'m'"
      ]
     },
     "execution_count": 4,
     "metadata": {},
     "output_type": "execute_result"
    }
   ],
   "source": [
    "o[0]"
   ]
  },
  {
   "cell_type": "code",
   "execution_count": 5,
   "id": "ce0f59bb-b3b2-4545-a74a-ae2fdfddefde",
   "metadata": {},
   "outputs": [
    {
     "data": {
      "text/plain": [
       "'m'"
      ]
     },
     "execution_count": 5,
     "metadata": {},
     "output_type": "execute_result"
    }
   ],
   "source": [
    "o[0]"
   ]
  },
  {
   "cell_type": "code",
   "execution_count": 6,
   "id": "f028ac2b-3a95-438d-b99d-b555353727f4",
   "metadata": {},
   "outputs": [
    {
     "ename": "TypeError",
     "evalue": "'str' object does not support item assignment",
     "output_type": "error",
     "traceback": [
      "\u001b[0;31m---------------------------------------------------------------------------\u001b[0m",
      "\u001b[0;31mTypeError\u001b[0m                                 Traceback (most recent call last)",
      "Cell \u001b[0;32mIn[6], line 1\u001b[0m\n\u001b[0;32m----> 1\u001b[0m \u001b[43mo\u001b[49m\u001b[43m[\u001b[49m\u001b[38;5;241;43m0\u001b[39;49m\u001b[43m]\u001b[49m\u001b[38;5;241m=\u001b[39m\u001b[38;5;124m'\u001b[39m\u001b[38;5;124ma\u001b[39m\u001b[38;5;124m'\u001b[39m\n",
      "\u001b[0;31mTypeError\u001b[0m: 'str' object does not support item assignment"
     ]
    }
   ],
   "source": [
    "o[0]='a'"
   ]
  },
  {
   "cell_type": "code",
   "execution_count": 7,
   "id": "d5ba6862-b102-4b89-b17f-e4903908b61b",
   "metadata": {},
   "outputs": [
    {
     "data": {
      "text/plain": [
       "67"
      ]
     },
     "execution_count": 7,
     "metadata": {},
     "output_type": "execute_result"
    }
   ],
   "source": [
    "p[3]"
   ]
  },
  {
   "cell_type": "code",
   "execution_count": 22,
   "id": "8a0dbf1d-83ea-4620-8e45-952d9da88cc5",
   "metadata": {
    "tags": []
   },
   "outputs": [],
   "source": [
    "#is used to replace \n",
    "p[3]='30'"
   ]
  },
  {
   "cell_type": "code",
   "execution_count": 9,
   "id": "c46f9fca-4f2b-42ea-b792-aa4044778e90",
   "metadata": {},
   "outputs": [
    {
     "data": {
      "text/plain": [
       "[2, 4, 5, '30']"
      ]
     },
     "execution_count": 9,
     "metadata": {},
     "output_type": "execute_result"
    }
   ],
   "source": [
    "p"
   ]
  },
  {
   "cell_type": "code",
   "execution_count": 20,
   "id": "cc6bc130-3000-41ed-8e99-60735a964425",
   "metadata": {},
   "outputs": [],
   "source": [
    "#Mutability is used to replace elements from index \n",
    "#strings are inmutetable \n",
    "#while no.are muteable."
   ]
  },
  {
   "cell_type": "code",
   "execution_count": 21,
   "id": "ccc6f217-3943-439e-87df-78a351705fd8",
   "metadata": {},
   "outputs": [
    {
     "data": {
      "text/plain": [
       "'mishra'"
      ]
     },
     "execution_count": 21,
     "metadata": {},
     "output_type": "execute_result"
    }
   ],
   "source": [
    "o"
   ]
  },
  {
   "cell_type": "code",
   "execution_count": 14,
   "id": "8c01918f-b3f8-43d1-992e-17b55f87fe09",
   "metadata": {},
   "outputs": [
    {
     "data": {
      "text/plain": [
       "'zishra'"
      ]
     },
     "execution_count": 14,
     "metadata": {},
     "output_type": "execute_result"
    }
   ],
   "source": [
    "#temprorary replacement\n",
    "o.replace('m','z')"
   ]
  },
  {
   "cell_type": "code",
   "execution_count": 15,
   "id": "c1ae0aaa-81e6-46d2-af58-64d3bd00d699",
   "metadata": {},
   "outputs": [
    {
     "data": {
      "text/plain": [
       "'mishra'"
      ]
     },
     "execution_count": 15,
     "metadata": {},
     "output_type": "execute_result"
    }
   ],
   "source": [
    "o"
   ]
  },
  {
   "cell_type": "code",
   "execution_count": 16,
   "id": "1c93c8be-473a-483c-912a-c11e052a7fa4",
   "metadata": {},
   "outputs": [],
   "source": [
    "# Tuples Datatypes(Almost kind of List)\n",
    "# is used to store datatypes in ()"
   ]
  },
  {
   "cell_type": "code",
   "execution_count": 1,
   "id": "d15ab558-b248-4fd6-9f83-e5902b5ea753",
   "metadata": {},
   "outputs": [],
   "source": [
    "f=(2,46,86,\"true\",4+67j,False,[3,5,6])"
   ]
  },
  {
   "cell_type": "code",
   "execution_count": 2,
   "id": "c901b7d6-dd05-422c-8e0c-e209c5816027",
   "metadata": {},
   "outputs": [
    {
     "data": {
      "text/plain": [
       "tuple"
      ]
     },
     "execution_count": 2,
     "metadata": {},
     "output_type": "execute_result"
    }
   ],
   "source": [
    "type(f)"
   ]
  },
  {
   "cell_type": "code",
   "execution_count": 3,
   "id": "f019f865-68c1-45ab-b174-2f051bdc77a4",
   "metadata": {},
   "outputs": [
    {
     "data": {
      "text/plain": [
       "(2, 46, 86, 'true', (4+67j), False, [3, 5, 6])"
      ]
     },
     "execution_count": 3,
     "metadata": {},
     "output_type": "execute_result"
    }
   ],
   "source": [
    "#Everything is almost same list and string\n",
    "f"
   ]
  },
  {
   "cell_type": "code",
   "execution_count": 5,
   "id": "9a8cf2e2-45f8-4398-acae-4fdfe7250bf9",
   "metadata": {},
   "outputs": [
    {
     "ename": "TypeError",
     "evalue": "'tuple' object does not support item assignment",
     "output_type": "error",
     "traceback": [
      "\u001b[0;31m---------------------------------------------------------------------------\u001b[0m",
      "\u001b[0;31mTypeError\u001b[0m                                 Traceback (most recent call last)",
      "Cell \u001b[0;32mIn[5], line 2\u001b[0m\n\u001b[1;32m      1\u001b[0m \u001b[38;5;66;03m# tuples are imutetable\u001b[39;00m\n\u001b[0;32m----> 2\u001b[0m \u001b[43mf\u001b[49m\u001b[43m[\u001b[49m\u001b[38;5;241;43m0\u001b[39;49m\u001b[43m]\u001b[49m\u001b[38;5;241m=\u001b[39m\u001b[38;5;241m2530\u001b[39m\n",
      "\u001b[0;31mTypeError\u001b[0m: 'tuple' object does not support item assignment"
     ]
    }
   ],
   "source": [
    "# tuples are imutetable\n",
    "f[0]=2530"
   ]
  },
  {
   "cell_type": "code",
   "execution_count": 80,
   "id": "64981cff-b75d-43e7-b5ba-116d3a07986b",
   "metadata": {},
   "outputs": [
    {
     "data": {
      "text/plain": [
       "([3, 5, 6], False, (4+67j), 'true', 86, 46, 2)"
      ]
     },
     "execution_count": 80,
     "metadata": {},
     "output_type": "execute_result"
    }
   ],
   "source": [
    "f[::-1]"
   ]
  },
  {
   "cell_type": "code",
   "execution_count": 81,
   "id": "2d320f8b-b2a4-4a5c-a26d-8723eb29dea1",
   "metadata": {},
   "outputs": [
    {
     "data": {
      "text/plain": [
       "1"
      ]
     },
     "execution_count": 81,
     "metadata": {},
     "output_type": "execute_result"
    }
   ],
   "source": [
    "f.count(86)"
   ]
  },
  {
   "cell_type": "code",
   "execution_count": 30,
   "id": "05512981-c691-4018-9bfa-025151ae2c97",
   "metadata": {},
   "outputs": [],
   "source": [
    "#Sets Datatypes\n",
    "# {} this brackets are used\n"
   ]
  },
  {
   "cell_type": "code",
   "execution_count": 31,
   "id": "a192e2ad-1af9-4962-ae11-90c079105a9d",
   "metadata": {},
   "outputs": [],
   "source": [
    "g={4,6,8,9,98}"
   ]
  },
  {
   "cell_type": "code",
   "execution_count": 32,
   "id": "7730023c-5cd6-411a-8b02-a3e04c5cfdc7",
   "metadata": {},
   "outputs": [
    {
     "data": {
      "text/plain": [
       "set"
      ]
     },
     "execution_count": 32,
     "metadata": {},
     "output_type": "execute_result"
    }
   ],
   "source": [
    "#sets brackets contains elements it will show set\n",
    "type(g)"
   ]
  },
  {
   "cell_type": "code",
   "execution_count": 33,
   "id": "042f2814-b06e-4201-a387-20a517083fbc",
   "metadata": {},
   "outputs": [],
   "source": [
    "j={}"
   ]
  },
  {
   "cell_type": "code",
   "execution_count": 34,
   "id": "32b2d5a4-9707-4f52-af65-09438e952f8c",
   "metadata": {},
   "outputs": [
    {
     "data": {
      "text/plain": [
       "dict"
      ]
     },
     "execution_count": 34,
     "metadata": {},
     "output_type": "execute_result"
    }
   ],
   "source": [
    "#when it is blank it will show dictionary\n",
    "type(j)"
   ]
  },
  {
   "cell_type": "code",
   "execution_count": 82,
   "id": "9d99b978-9ca9-40f9-9b16-63c4f48a78e5",
   "metadata": {},
   "outputs": [
    {
     "ename": "TypeError",
     "evalue": "unhashable type: 'list'",
     "output_type": "error",
     "traceback": [
      "\u001b[0;31m---------------------------------------------------------------------------\u001b[0m",
      "\u001b[0;31mTypeError\u001b[0m                                 Traceback (most recent call last)",
      "Cell \u001b[0;32mIn[82], line 2\u001b[0m\n\u001b[1;32m      1\u001b[0m \u001b[38;5;66;03m# set datatype can only contain imuteable elements\u001b[39;00m\n\u001b[0;32m----> 2\u001b[0m l\u001b[38;5;241m=\u001b[39m{\u001b[38;5;241m2\u001b[39m,\u001b[38;5;241m46\u001b[39m,\u001b[38;5;241m86\u001b[39m,\u001b[38;5;124m\"\u001b[39m\u001b[38;5;124mtrue\u001b[39m\u001b[38;5;124m\"\u001b[39m,\u001b[38;5;241m4\u001b[39m\u001b[38;5;241m+\u001b[39m\u001b[38;5;241m67\u001b[39mj,\u001b[38;5;28;01mFalse\u001b[39;00m,[\u001b[38;5;241m3\u001b[39m,\u001b[38;5;241m5\u001b[39m,\u001b[38;5;241m6\u001b[39m]}\n\u001b[1;32m      3\u001b[0m \u001b[38;5;66;03m#showing error because it contain list and list is muteable\u001b[39;00m\n",
      "\u001b[0;31mTypeError\u001b[0m: unhashable type: 'list'"
     ]
    }
   ],
   "source": [
    "# set datatype can only contain imuteable elements\n",
    "l={2,46,86,\"true\",4+67j,False,[3,5,6]}\n",
    "#showing error because it contain list and list is muteable"
   ]
  },
  {
   "cell_type": "code",
   "execution_count": 39,
   "id": "5cba3134-5399-4b7e-9503-d07314446573",
   "metadata": {},
   "outputs": [],
   "source": [
    "# all the elements are imuteable\n",
    "x={2,46,86,\"true\",4+67j,False}"
   ]
  },
  {
   "cell_type": "code",
   "execution_count": 40,
   "id": "d6f1c4f1-0cd3-4999-962b-847851e33ae5",
   "metadata": {},
   "outputs": [
    {
     "data": {
      "text/plain": [
       "{(4+67j), 2, 46, 86, False, 'true'}"
      ]
     },
     "execution_count": 40,
     "metadata": {},
     "output_type": "execute_result"
    }
   ],
   "source": [
    "x"
   ]
  },
  {
   "cell_type": "code",
   "execution_count": 46,
   "id": "8546eae4-b2bb-48d0-960a-4f6606001397",
   "metadata": {},
   "outputs": [],
   "source": [
    "v={2,4,56,56,56,3,2,1,3,4,1,4,4,56,2,5,5,7,\"dev\",\"Dev\"}"
   ]
  },
  {
   "cell_type": "code",
   "execution_count": 50,
   "id": "50d08531-f5f0-4c9a-89a5-a89bb62afd75",
   "metadata": {},
   "outputs": [
    {
     "data": {
      "text/plain": [
       "{1, 2, 3, 4, 5, 56, 7, 'Dev', 'dev'}"
      ]
     },
     "execution_count": 50,
     "metadata": {},
     "output_type": "execute_result"
    }
   ],
   "source": [
    "#sets helps in showing unique elements\n",
    "# Python is a case senstive language\n",
    "# SETS are used to remove duplicate elements.\n",
    "#SET also arrange the data in asending order.\n",
    "v"
   ]
  },
  {
   "cell_type": "code",
   "execution_count": 51,
   "id": "4f28f0bd-a905-491b-a7c5-0e3d7ae9b49d",
   "metadata": {},
   "outputs": [
    {
     "data": {
      "text/plain": [
       "{1, 2, 3, 4, 5, 56, 7, 'Dev', 'dev'}"
      ]
     },
     "execution_count": 51,
     "metadata": {},
     "output_type": "execute_result"
    }
   ],
   "source": [
    "#direct function of set\n",
    "set(v)"
   ]
  },
  {
   "cell_type": "code",
   "execution_count": 52,
   "id": "dfd86ac6-a697-48b9-bd2a-4b929782e57c",
   "metadata": {},
   "outputs": [],
   "source": [
    "b={43,5,678,97,567,45,67,89,\"dev\",\"DEV\"}"
   ]
  },
  {
   "cell_type": "code",
   "execution_count": 55,
   "id": "e033e3d5-5af5-46c3-bb1f-193643fc31aa",
   "metadata": {},
   "outputs": [
    {
     "data": {
      "text/plain": [
       "{43, 45, 5, 567, 67, 678, 89, 97, 'DEV', 'dev'}"
      ]
     },
     "execution_count": 55,
     "metadata": {},
     "output_type": "execute_result"
    }
   ],
   "source": [
    "#SET does not arrange the data.\n",
    "set(b)"
   ]
  },
  {
   "cell_type": "code",
   "execution_count": 56,
   "id": "740ddc8b-2c00-42a4-bb21-c3137564a35c",
   "metadata": {},
   "outputs": [],
   "source": [
    "#SET is diiferent from list string and aothers"
   ]
  },
  {
   "cell_type": "code",
   "execution_count": 58,
   "id": "5523f98f-cd42-4c6a-95df-f720455230aa",
   "metadata": {},
   "outputs": [],
   "source": [
    "b.add(69)"
   ]
  },
  {
   "cell_type": "code",
   "execution_count": 59,
   "id": "f242fda6-6750-4b3b-979c-7101442d09a9",
   "metadata": {},
   "outputs": [
    {
     "data": {
      "text/plain": [
       "{43, 45, 5, 567, 67, 678, 69, 89, 97, 'DEV', 'dev'}"
      ]
     },
     "execution_count": 59,
     "metadata": {},
     "output_type": "execute_result"
    }
   ],
   "source": [
    "b"
   ]
  },
  {
   "cell_type": "code",
   "execution_count": 60,
   "id": "d080faff-c0e5-48bf-8417-81b282ffa23f",
   "metadata": {},
   "outputs": [],
   "source": [
    "#index concept is not used in sets\n",
    "#hassing concept is used"
   ]
  },
  {
   "cell_type": "code",
   "execution_count": null,
   "id": "2064f466-df5f-487f-a4ec-594288a31195",
   "metadata": {},
   "outputs": [],
   "source": []
  }
 ],
 "metadata": {
  "kernelspec": {
   "display_name": "Python 3 (ipykernel)",
   "language": "python",
   "name": "python3"
  },
  "language_info": {
   "codemirror_mode": {
    "name": "ipython",
    "version": 3
   },
   "file_extension": ".py",
   "mimetype": "text/x-python",
   "name": "python",
   "nbconvert_exporter": "python",
   "pygments_lexer": "ipython3",
   "version": "3.10.8"
  }
 },
 "nbformat": 4,
 "nbformat_minor": 5
}
