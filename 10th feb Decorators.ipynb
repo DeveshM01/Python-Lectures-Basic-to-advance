{
 "cells": [
  {
   "cell_type": "raw",
   "id": "31fa5540-8e1b-48c2-bc8f-438c4c3a70d5",
   "metadata": {},
   "source": [
    "Decorators"
   ]
  },
  {
   "cell_type": "raw",
   "id": "626810cf-b237-4968-a62d-c0d07d5fa0d0",
   "metadata": {},
   "source": [
    "Decorator are predefined function which can be used easily by priorily"
   ]
  },
  {
   "cell_type": "code",
   "execution_count": 1,
   "id": "09a5f924-393c-4233-8b87-f2d47edbf3d6",
   "metadata": {},
   "outputs": [],
   "source": [
    "def test():\n",
    "    print(\"this is my start of function to test\")\n",
    "    print(\"this is my new function to test\")\n",
    "    print(\"this is my function to test\")\n",
    "    print(7+9)\n",
    "    print(\"this is my end function to test\")"
   ]
  },
  {
   "cell_type": "code",
   "execution_count": 2,
   "id": "3c2a17dd-9a93-473c-8213-88782a4eab0f",
   "metadata": {},
   "outputs": [
    {
     "name": "stdout",
     "output_type": "stream",
     "text": [
      "this is my start of function to test\n",
      "this is my new function to test\n",
      "this is my function to test\n",
      "16\n",
      "this is my end function to test\n"
     ]
    }
   ],
   "source": [
    "test()"
   ]
  },
  {
   "cell_type": "code",
   "execution_count": 3,
   "id": "40706739-04c2-41eb-be65-68cf9aef3c5e",
   "metadata": {},
   "outputs": [],
   "source": [
    "#Decoration of function is used to use many functions together"
   ]
  },
  {
   "cell_type": "code",
   "execution_count": 4,
   "id": "9d33c099-b489-4f59-9061-453e91e8fb5c",
   "metadata": {},
   "outputs": [],
   "source": [
    "def deco(func):\n",
    "    def inner_dec():\n",
    "        print(\"this is my start of function to test\")\n",
    "        func()\n",
    "        print(\"this is my end function to test\")\n",
    "    return inner_dec"
   ]
  },
  {
   "cell_type": "code",
   "execution_count": 5,
   "id": "19b4c45e-962f-421b-93f3-8644cc53cc67",
   "metadata": {},
   "outputs": [],
   "source": [
    "def test1():\n",
    "    print(7+88)"
   ]
  },
  {
   "cell_type": "code",
   "execution_count": 6,
   "id": "60eac6b2-e117-4b9a-8ff5-ae75921dc650",
   "metadata": {},
   "outputs": [
    {
     "name": "stdout",
     "output_type": "stream",
     "text": [
      "95\n"
     ]
    }
   ],
   "source": [
    "test1()"
   ]
  },
  {
   "cell_type": "code",
   "execution_count": 7,
   "id": "4e8b5518-de62-4829-a4d8-4185f610f9fd",
   "metadata": {},
   "outputs": [],
   "source": [
    "@deco\n",
    "def test1():\n",
    "    print(7+88)"
   ]
  },
  {
   "cell_type": "code",
   "execution_count": 8,
   "id": "5aea6402-e084-48a5-a478-c233cb6ad393",
   "metadata": {},
   "outputs": [
    {
     "name": "stdout",
     "output_type": "stream",
     "text": [
      "this is my start of function to test\n",
      "95\n",
      "this is my end function to test\n"
     ]
    }
   ],
   "source": [
    "test1()"
   ]
  },
  {
   "cell_type": "code",
   "execution_count": 12,
   "id": "396f1670-62d5-432f-b6e1-99e28c4c39b4",
   "metadata": {},
   "outputs": [],
   "source": [
    "#time taken to execute the function "
   ]
  },
  {
   "cell_type": "code",
   "execution_count": 3,
   "id": "768ff6ab-e9e2-4f90-be5d-b7f645a8536f",
   "metadata": {},
   "outputs": [],
   "source": [
    "import time \n",
    "def timer_test(func):\n",
    "    def timer_test_inner():\n",
    "        start=time.time()\n",
    "        func()\n",
    "        end=time.time()\n",
    "        print(end-start)\n",
    "    return timer_test_inner   "
   ]
  },
  {
   "cell_type": "code",
   "execution_count": 4,
   "id": "630d9f7c-cb12-4ed7-a31a-e4db39717bbc",
   "metadata": {},
   "outputs": [],
   "source": [
    "def test2():\n",
    "    print(45+78)"
   ]
  },
  {
   "cell_type": "code",
   "execution_count": 5,
   "id": "eb5ae296-249f-4504-aa7d-227590827bc2",
   "metadata": {},
   "outputs": [
    {
     "name": "stdout",
     "output_type": "stream",
     "text": [
      "123\n"
     ]
    }
   ],
   "source": [
    "test2()"
   ]
  },
  {
   "cell_type": "code",
   "execution_count": 6,
   "id": "177d39ea-b970-4d6a-a1a0-4076343661fd",
   "metadata": {},
   "outputs": [],
   "source": [
    "@timer_test\n",
    "def test2():\n",
    "    print(45+78)"
   ]
  },
  {
   "cell_type": "code",
   "execution_count": 7,
   "id": "7be1e956-3f71-4a1c-8044-e27f28185eea",
   "metadata": {},
   "outputs": [
    {
     "name": "stdout",
     "output_type": "stream",
     "text": [
      "123\n",
      "4.506111145019531e-05\n"
     ]
    }
   ],
   "source": [
    "test2()"
   ]
  },
  {
   "cell_type": "code",
   "execution_count": 8,
   "id": "d262ce2b-591a-41cf-b47d-11701166a12c",
   "metadata": {},
   "outputs": [],
   "source": [
    "@timer_test\n",
    "def test():\n",
    "    for i in range(1000000000):\n",
    "        pass"
   ]
  },
  {
   "cell_type": "code",
   "execution_count": 9,
   "id": "c907d361-83d5-4c05-ab89-8b3b476cfda9",
   "metadata": {},
   "outputs": [
    {
     "name": "stdout",
     "output_type": "stream",
     "text": [
      "21.77000617980957\n"
     ]
    }
   ],
   "source": [
    "test()"
   ]
  },
  {
   "cell_type": "code",
   "execution_count": 2,
   "id": "3d440581-29b3-4878-9206-4c490a201657",
   "metadata": {},
   "outputs": [],
   "source": [
    "#Decorators are used to decorate the functions and use multiline functions together"
   ]
  },
  {
   "cell_type": "raw",
   "id": "3668fc33-a897-4b46-9cb4-9769157e9717",
   "metadata": {},
   "source": [
    "\n",
    "\n",
    "\n",
    "\n",
    "Class Method\n",
    "\n",
    "\n",
    "\n",
    "\n"
   ]
  },
  {
   "cell_type": "code",
   "execution_count": 6,
   "id": "3f7a4215-5616-4291-a86a-7ddf67fc2d27",
   "metadata": {},
   "outputs": [],
   "source": [
    "class pwskills:\n",
    "    \n",
    "    def __init__(self,name,email):\n",
    "        \n",
    "        self.name=name\n",
    "        self.email=email\n",
    "        \n",
    "    def student_details(self):\n",
    "        \n",
    "        print(self.name,self.email)"
   ]
  },
  {
   "cell_type": "code",
   "execution_count": 11,
   "id": "8cf6e452-8533-4da6-8255-42500e1b57d6",
   "metadata": {},
   "outputs": [],
   "source": [
    "pw=pwskills(\"devesh\",\"mishra.devessh787@gamil.com\")"
   ]
  },
  {
   "cell_type": "code",
   "execution_count": 12,
   "id": "83b4dd6d-985c-4784-8a33-a395cc5adf7b",
   "metadata": {},
   "outputs": [
    {
     "data": {
      "text/plain": [
       "'devesh'"
      ]
     },
     "execution_count": 12,
     "metadata": {},
     "output_type": "execute_result"
    }
   ],
   "source": [
    "pw.name"
   ]
  },
  {
   "cell_type": "code",
   "execution_count": 13,
   "id": "a0e25b10-8851-45c8-a554-f7f882bb4722",
   "metadata": {},
   "outputs": [
    {
     "data": {
      "text/plain": [
       "'mishra.devessh787@gamil.com'"
      ]
     },
     "execution_count": 13,
     "metadata": {},
     "output_type": "execute_result"
    }
   ],
   "source": [
    "pw.email"
   ]
  },
  {
   "cell_type": "code",
   "execution_count": 15,
   "id": "bf75356a-e751-4e18-8371-7b822357193d",
   "metadata": {},
   "outputs": [
    {
     "name": "stdout",
     "output_type": "stream",
     "text": [
      "devesh mishra.devessh787@gamil.com\n"
     ]
    }
   ],
   "source": [
    "pw.student_details()"
   ]
  },
  {
   "cell_type": "code",
   "execution_count": 16,
   "id": "8a7de5f1-5993-4927-8685-8b44601c85db",
   "metadata": {},
   "outputs": [],
   "source": [
    "#overloading of function "
   ]
  },
  {
   "cell_type": "code",
   "execution_count": 11,
   "id": "4da2155c-e700-4091-9bff-f7697a7a4b06",
   "metadata": {},
   "outputs": [],
   "source": [
    "class pwskills1:\n",
    "    \n",
    "    def __init__(self,name,email):\n",
    "        \n",
    "        self.name=name\n",
    "        self.email=email\n",
    "        \n",
    "    @classmethod    \n",
    "    def details(cls,name,email): #class method is also used to pass the data without making obeject\n",
    "        return cls(name,email)\n",
    "        \n",
    "    def student_details(self):\n",
    "        \n",
    "        print(self.name,self.email)"
   ]
  },
  {
   "cell_type": "code",
   "execution_count": 12,
   "id": "1045178c-a857-4bd7-9e42-855af6701551",
   "metadata": {},
   "outputs": [
    {
     "data": {
      "text/plain": [
       "<__main__.pwskills1 at 0x7fbd8031c880>"
      ]
     },
     "execution_count": 12,
     "metadata": {},
     "output_type": "execute_result"
    }
   ],
   "source": [
    "pwskills1.details(\"shaym\",\"shyam89@gmail.com\")\n",
    "#in this we overloaded the previous data with current data \n",
    "#class method overloaded the init function and class method is used to pass the data without makling object."
   ]
  },
  {
   "cell_type": "code",
   "execution_count": 13,
   "id": "3ab746a8-f1da-4b68-a717-895922da5dc6",
   "metadata": {},
   "outputs": [
    {
     "ename": "NameError",
     "evalue": "name 'pw1' is not defined",
     "output_type": "error",
     "traceback": [
      "\u001b[0;31m---------------------------------------------------------------------------\u001b[0m",
      "\u001b[0;31mNameError\u001b[0m                                 Traceback (most recent call last)",
      "Cell \u001b[0;32mIn[13], line 1\u001b[0m\n\u001b[0;32m----> 1\u001b[0m \u001b[43mpw1\u001b[49m\u001b[38;5;241m.\u001b[39mname\n",
      "\u001b[0;31mNameError\u001b[0m: name 'pw1' is not defined"
     ]
    }
   ],
   "source": [
    "pw1.name"
   ]
  },
  {
   "cell_type": "code",
   "execution_count": 31,
   "id": "1c4893a1-f6ed-487f-ae6c-18b50991e52a",
   "metadata": {},
   "outputs": [
    {
     "name": "stdout",
     "output_type": "stream",
     "text": [
      "shaym shyam89@gmail.com\n"
     ]
    }
   ],
   "source": [
    "pw1.student_details()"
   ]
  },
  {
   "cell_type": "code",
   "execution_count": 43,
   "id": "14172920-4038-4908-b35f-ad46c4ca1538",
   "metadata": {},
   "outputs": [],
   "source": [
    "class pwskills2:\n",
    "    \n",
    "    mobile_no=9026236171 #called as class variable \n",
    "    \n",
    "    def __init__(self,name,email):\n",
    "        \n",
    "        self.name=name\n",
    "        self.email=email\n",
    "        \n",
    "    @classmethod     \n",
    "    def change_number(cls,mobile):\n",
    "        pwskills2.mobile_no=mobile\n",
    "        \n",
    "    @classmethod    \n",
    "    def details(cls,name,email): #class method is also used to pass the data without making obeject\n",
    "        return cls(name,email)\n",
    "        \n",
    "    def student_details(self):\n",
    "        print(self.name,self.email,pwskills2.mobile_no)"
   ]
  },
  {
   "cell_type": "code",
   "execution_count": 44,
   "id": "66d451ca-9123-4c59-b317-e803a43c18e1",
   "metadata": {},
   "outputs": [
    {
     "data": {
      "text/plain": [
       "9026236171"
      ]
     },
     "execution_count": 44,
     "metadata": {},
     "output_type": "execute_result"
    }
   ],
   "source": [
    "pwskills2.mobile_no"
   ]
  },
  {
   "cell_type": "code",
   "execution_count": 45,
   "id": "370af249-e6a0-4e2d-8324-a2806256f771",
   "metadata": {},
   "outputs": [],
   "source": [
    "pwskills2.change_number(9336312378)\n",
    "#class method is used to change or modify the data"
   ]
  },
  {
   "cell_type": "code",
   "execution_count": 46,
   "id": "6b664358-8f70-4b4d-aa56-55d416419600",
   "metadata": {},
   "outputs": [
    {
     "data": {
      "text/plain": [
       "9336312378"
      ]
     },
     "execution_count": 46,
     "metadata": {},
     "output_type": "execute_result"
    }
   ],
   "source": [
    "pwskills2.mobile_no"
   ]
  },
  {
   "cell_type": "code",
   "execution_count": 49,
   "id": "2c757fb2-743a-4703-b836-c50766c1f379",
   "metadata": {},
   "outputs": [],
   "source": [
    "pw_obj=pwskills2(\"dev\",\"dev@gmail.com\")\n",
    "#we can recall by making object and recalling the data "
   ]
  },
  {
   "cell_type": "code",
   "execution_count": 50,
   "id": "52e22fca-4d29-4dc5-a7fd-56ba149b4065",
   "metadata": {},
   "outputs": [
    {
     "name": "stdout",
     "output_type": "stream",
     "text": [
      "dev dev@gmail.com 9336312378\n"
     ]
    }
   ],
   "source": [
    "pw_obj.student_details()"
   ]
  },
  {
   "cell_type": "code",
   "execution_count": 51,
   "id": "c771c867-c8c5-452c-937a-883c338d6a4d",
   "metadata": {},
   "outputs": [],
   "source": [
    "pw=pwskills2.details(\"anurag\",\"anurag.mishra@gmail.com\")"
   ]
  },
  {
   "cell_type": "code",
   "execution_count": 52,
   "id": "acab0638-575e-4cfc-82fb-d819fd89b1fb",
   "metadata": {},
   "outputs": [
    {
     "name": "stdout",
     "output_type": "stream",
     "text": [
      "anurag anurag.mishra@gmail.com 9336312378\n"
     ]
    }
   ],
   "source": [
    "pw.student_details()"
   ]
  },
  {
   "cell_type": "code",
   "execution_count": 53,
   "id": "b02dc2e7-e03d-4d6f-938b-8a0571554107",
   "metadata": {},
   "outputs": [],
   "source": [
    "class pwskills3:\n",
    "    \n",
    "    mobile_no=9026236171 #called as class variable \n",
    "    \n",
    "    def __init__(self,name,email):\n",
    "        \n",
    "        self.name=name\n",
    "        self.email=email\n",
    "        \n",
    "    @classmethod     \n",
    "    def change_number(cls,mobile):\n",
    "        pwskills2.mobile_no=mobile\n",
    "        \n",
    "    @classmethod    \n",
    "    def details(cls,name,email): #class method is also used to pass the data without making obeject\n",
    "        return cls(name,email)\n",
    "        \n",
    "    def student_details(self):\n",
    "        print(self.name,self.email,pwskills2.mobile_no)"
   ]
  },
  {
   "cell_type": "code",
   "execution_count": 55,
   "id": "c2cd5b7b-c06b-426b-aec1-6cc34136c745",
   "metadata": {},
   "outputs": [],
   "source": [
    "# how to add external function in the main function \n",
    "def course_details(cls,course_name):\n",
    "    print(\"course name is\",course_name)"
   ]
  },
  {
   "cell_type": "code",
   "execution_count": 56,
   "id": "db17555e-8bd6-4985-87e2-afb9fb235b33",
   "metadata": {},
   "outputs": [],
   "source": [
    "pwskills3.course_details=classmethod(course_details)"
   ]
  },
  {
   "cell_type": "code",
   "execution_count": 59,
   "id": "c6171411-214c-459a-8c34-94596b0081ec",
   "metadata": {},
   "outputs": [
    {
     "name": "stdout",
     "output_type": "stream",
     "text": [
      "course name is data science masters\n"
     ]
    }
   ],
   "source": [
    "pwskills3.course_details(\"data science masters\")"
   ]
  },
  {
   "cell_type": "code",
   "execution_count": 74,
   "id": "348a198d-88d8-49b5-8597-0e326fa97389",
   "metadata": {},
   "outputs": [],
   "source": [
    "def mentor(cls,list_of_mentor):\n",
    "    print(list_of_mentor)"
   ]
  },
  {
   "cell_type": "code",
   "execution_count": 75,
   "id": "8c5e4350-7647-421f-8078-731ecc2ec329",
   "metadata": {},
   "outputs": [],
   "source": [
    "pwskills3.mentor=classmethod(mentor) #classmethod is a inbuilt function"
   ]
  },
  {
   "cell_type": "code",
   "execution_count": 77,
   "id": "e5434989-3083-4d88-8898-4f8f91c29e36",
   "metadata": {},
   "outputs": [
    {
     "name": "stdout",
     "output_type": "stream",
     "text": [
      "['dev', 'amurag']\n"
     ]
    }
   ],
   "source": [
    "pwskills3.mentor([\"dev\",\"amurag\"]) "
   ]
  },
  {
   "cell_type": "code",
   "execution_count": 78,
   "id": "1fb015e7-6809-4049-8628-48f81c0991d9",
   "metadata": {},
   "outputs": [],
   "source": [
    "#mentor is a external function is now asssociate with exsiting classes using classmethod"
   ]
  },
  {
   "cell_type": "code",
   "execution_count": 105,
   "id": "63e4c97e-0fbd-4025-8003-9b961cc54aad",
   "metadata": {},
   "outputs": [],
   "source": [
    "class pwskills4:\n",
    "    \n",
    "    mobile_no=9026236171 #called as class variable \n",
    "    \n",
    "    def __init__(self,name,email):\n",
    "        \n",
    "        self.name=name\n",
    "        self.email=email\n",
    "        \n",
    "    @classmethod     \n",
    "    def change_number(cls,mobile):\n",
    "        pwskills2.mobile_no=mobile\n",
    "        \n",
    "    @classmethod    \n",
    "    def details(cls,name,email): #class method is also used to pass the data without making obeject\n",
    "        return cls(name,email)\n",
    "        \n",
    "    def student_details(self):\n",
    "        print(self.name,self.email,pwskills2.mobile_no)"
   ]
  },
  {
   "cell_type": "code",
   "execution_count": 106,
   "id": "bb604117-9974-4a1a-b7e0-abbba1360f0e",
   "metadata": {},
   "outputs": [],
   "source": [
    "#how delete or deactivate the following function"
   ]
  },
  {
   "cell_type": "code",
   "execution_count": 107,
   "id": "a284300a-a7d4-477d-9c24-e59f361a5d0e",
   "metadata": {},
   "outputs": [],
   "source": [
    "del pwskills4.change_number"
   ]
  },
  {
   "cell_type": "code",
   "execution_count": 108,
   "id": "08d43796-c69b-43ca-a2e0-87c65ddc6681",
   "metadata": {},
   "outputs": [
    {
     "ename": "AttributeError",
     "evalue": "type object 'pwskills4' has no attribute 'change_number'",
     "output_type": "error",
     "traceback": [
      "\u001b[0;31m---------------------------------------------------------------------------\u001b[0m",
      "\u001b[0;31mAttributeError\u001b[0m                            Traceback (most recent call last)",
      "Cell \u001b[0;32mIn[108], line 1\u001b[0m\n\u001b[0;32m----> 1\u001b[0m \u001b[43mpwskills4\u001b[49m\u001b[38;5;241;43m.\u001b[39;49m\u001b[43mchange_number\u001b[49m \u001b[38;5;66;03m#DELETED\u001b[39;00m\n",
      "\u001b[0;31mAttributeError\u001b[0m: type object 'pwskills4' has no attribute 'change_number'"
     ]
    }
   ],
   "source": [
    "pwskills4.change_number #DELETED"
   ]
  },
  {
   "cell_type": "code",
   "execution_count": 109,
   "id": "93e6cc91-2390-495a-8f8b-6f4b392e9b8d",
   "metadata": {},
   "outputs": [],
   "source": [
    "delattr (pwskills4,\"details\" ) #Another method for deleting function"
   ]
  },
  {
   "cell_type": "code",
   "execution_count": 110,
   "id": "2929b969-0178-49e7-afe8-493aed050507",
   "metadata": {},
   "outputs": [],
   "source": [
    "delattr(pwskills4,\"student_details\") #non classmethod function also can be deleted"
   ]
  },
  {
   "cell_type": "code",
   "execution_count": 111,
   "id": "a8a119f8-bbd9-4dd8-9001-c68c4afdc43c",
   "metadata": {},
   "outputs": [],
   "source": [
    "delattr(pwskills4,\"mobile_no\")"
   ]
  },
  {
   "cell_type": "raw",
   "id": "fbfeb7be-923a-4ccc-9c1e-2eacd09e2783",
   "metadata": {},
   "source": [
    "#\n",
    "#\n",
    "##\n",
    "##\n",
    "Static Method\n",
    "##"
   ]
  },
  {
   "cell_type": "code",
   "execution_count": 115,
   "id": "2e289a42-9a2d-4069-bcac-bf3b5776e089",
   "metadata": {},
   "outputs": [],
   "source": [
    "class pwskills:\n",
    "    def student_details(self,name,mail_id,number):\n",
    "        print(name,mail_id,number)"
   ]
  },
  {
   "cell_type": "code",
   "execution_count": 116,
   "id": "3f025028-2492-4516-bb75-d6da986b599b",
   "metadata": {},
   "outputs": [],
   "source": [
    "pw=pwskills()"
   ]
  },
  {
   "cell_type": "code",
   "execution_count": 117,
   "id": "a455503e-a910-4a6d-9829-5fff59355780",
   "metadata": {},
   "outputs": [
    {
     "name": "stdout",
     "output_type": "stream",
     "text": [
      "dev dev45@gmail.com 9026236171\n"
     ]
    }
   ],
   "source": [
    "pw.student_details(\"dev\",\"dev45@gmail.com\",\"9026236171\")"
   ]
  },
  {
   "cell_type": "code",
   "execution_count": 138,
   "id": "45e5b6be-0526-4fa0-bc1b-9d212a7cbd8c",
   "metadata": {},
   "outputs": [],
   "source": [
    "class pwskills1:\n",
    "    def student_details(self,name,mail_id,number):\n",
    "        print(name,mail_id,number)\n",
    "        \n",
    "    @staticmethod\n",
    "    def mentor_class(list_mentor):\n",
    "        print(list_mentor)\n",
    "        \n",
    "    def mentor(self,mentor_list):\n",
    "        print(mentor_list)"
   ]
  },
  {
   "cell_type": "code",
   "execution_count": 139,
   "id": "3e04f874-ba60-4d6c-a99a-22d273dfd214",
   "metadata": {},
   "outputs": [
    {
     "name": "stdout",
     "output_type": "stream",
     "text": [
      "['dev', 'anurag']\n"
     ]
    }
   ],
   "source": [
    "pwskills1.mentor_class([\"dev\",\"anurag\"])"
   ]
  },
  {
   "cell_type": "code",
   "execution_count": 140,
   "id": "19a74802-692a-4c0d-b9a5-78913a902774",
   "metadata": {},
   "outputs": [],
   "source": [
    "stu1=pwskills1()"
   ]
  },
  {
   "cell_type": "code",
   "execution_count": 141,
   "id": "b3f7ec0a-90c6-47a2-9355-ee984f85c81f",
   "metadata": {},
   "outputs": [],
   "source": [
    "stu2=pwskills1()"
   ]
  },
  {
   "cell_type": "code",
   "execution_count": 142,
   "id": "042dafeb-bc35-44fa-a759-1ace76db4682",
   "metadata": {},
   "outputs": [],
   "source": [
    "stu3=pwskills1()"
   ]
  },
  {
   "cell_type": "code",
   "execution_count": 144,
   "id": "40c27264-125c-4dcd-8d7a-2b187e561b8f",
   "metadata": {},
   "outputs": [
    {
     "name": "stdout",
     "output_type": "stream",
     "text": [
      "['dev', 'anurag']\n"
     ]
    }
   ],
   "source": [
    "stu1.mentor([\"dev\",\"anurag\"])"
   ]
  },
  {
   "cell_type": "markdown",
   "id": "da743abb-daf2-4ff4-a8cd-68448670e032",
   "metadata": {},
   "source": [
    "Static Method"
   ]
  },
  {
   "cell_type": "code",
   "execution_count": 145,
   "id": "e9470159-f256-45fc-8d70-7cbe9b137074",
   "metadata": {},
   "outputs": [],
   "source": [
    "#Static menthod is used where we have to use the data repeatedly and it helps in low memory consumption"
   ]
  },
  {
   "cell_type": "code",
   "execution_count": 29,
   "id": "5164223e-e171-4e5c-bf71-839b1e1d20bf",
   "metadata": {},
   "outputs": [],
   "source": [
    "class pwskills5:\n",
    "    def student_details(self,name,mail_id,number):\n",
    "        print(name,mail_id,number)\n",
    "    @staticmethod\n",
    "    def mentor_mail(mail_id_mentor):\n",
    "        print(mail_id_mentor)\n",
    "    \n",
    "        \n",
    "    @staticmethod\n",
    "    def mentor_class(list_mentor):\n",
    "        pwskills5.mentor_mail([\"dev45@gmail.com\",\"anurag45@gmail.com\"]) #calling staticmethod inside the stataic method\n",
    "        print(list_mentor)\n",
    "        \n",
    "    @classmethod\n",
    "    def class_name(cls):\n",
    "        cls.mentor_class([\"dev\",\"anurag\"])# calling staticmethod inside the classmethod\n",
    "        \n",
    "    def mentor(self,mentor_list):\n",
    "        print(mentor_list)\n",
    "        self.mentor_class([\"dev\",\"anurag\"])"
   ]
  },
  {
   "cell_type": "code",
   "execution_count": 30,
   "id": "825144c3-9f71-4816-a777-49967e95664b",
   "metadata": {},
   "outputs": [
    {
     "name": "stdout",
     "output_type": "stream",
     "text": [
      "['dev45@gmail.com', 'anurag45@gmail.com']\n",
      "['dev', 'anurag']\n"
     ]
    }
   ],
   "source": [
    "pwskills5.class_name() #if you want call classmethod inside the static method"
   ]
  },
  {
   "cell_type": "code",
   "execution_count": 31,
   "id": "ff0ab3da-c119-45ec-97fb-a9221c78c6c1",
   "metadata": {},
   "outputs": [
    {
     "name": "stdout",
     "output_type": "stream",
     "text": [
      "['dev45@gmail.com', 'anurag45@gmail.com']\n",
      "['dev', 'anurag']\n"
     ]
    }
   ],
   "source": [
    "pwskills5.mentor_class([\"dev\",\"anurag\"])"
   ]
  },
  {
   "cell_type": "raw",
   "id": "f3cd9a29-d283-47af-9df3-8ab97d08480c",
   "metadata": {},
   "source": [
    "Static function is a utility function \n",
    "static function is genrally used where we have to do repitiive task eg, database conectivity,file storage,"
   ]
  },
  {
   "cell_type": "raw",
   "id": "8e7595d6-f5e2-4f05-bda1-3082bc5b075a",
   "metadata": {},
   "source": [
    "#Solve Again\n",
    "#interview question about staticmethod and classmethod "
   ]
  },
  {
   "cell_type": "markdown",
   "id": "699790e8-9882-4333-af1f-8b1c04e29056",
   "metadata": {},
   "source": [
    "#\n",
    "#\n",
    "#\n",
    "#\n",
    "#\n",
    "Special(Magic/Dunder)Methods\n",
    "#\n",
    "#\n",
    "#\n",
    "#"
   ]
  },
  {
   "cell_type": "code",
   "execution_count": 177,
   "id": "2872e6c7-33db-40ef-8b66-977e28842545",
   "metadata": {},
   "outputs": [
    {
     "data": {
      "text/plain": [
       "['__abs__',\n",
       " '__add__',\n",
       " '__and__',\n",
       " '__bool__',\n",
       " '__ceil__',\n",
       " '__class__',\n",
       " '__delattr__',\n",
       " '__dir__',\n",
       " '__divmod__',\n",
       " '__doc__',\n",
       " '__eq__',\n",
       " '__float__',\n",
       " '__floor__',\n",
       " '__floordiv__',\n",
       " '__format__',\n",
       " '__ge__',\n",
       " '__getattribute__',\n",
       " '__getnewargs__',\n",
       " '__gt__',\n",
       " '__hash__',\n",
       " '__index__',\n",
       " '__init__',\n",
       " '__init_subclass__',\n",
       " '__int__',\n",
       " '__invert__',\n",
       " '__le__',\n",
       " '__lshift__',\n",
       " '__lt__',\n",
       " '__mod__',\n",
       " '__mul__',\n",
       " '__ne__',\n",
       " '__neg__',\n",
       " '__new__',\n",
       " '__or__',\n",
       " '__pos__',\n",
       " '__pow__',\n",
       " '__radd__',\n",
       " '__rand__',\n",
       " '__rdivmod__',\n",
       " '__reduce__',\n",
       " '__reduce_ex__',\n",
       " '__repr__',\n",
       " '__rfloordiv__',\n",
       " '__rlshift__',\n",
       " '__rmod__',\n",
       " '__rmul__',\n",
       " '__ror__',\n",
       " '__round__',\n",
       " '__rpow__',\n",
       " '__rrshift__',\n",
       " '__rshift__',\n",
       " '__rsub__',\n",
       " '__rtruediv__',\n",
       " '__rxor__',\n",
       " '__setattr__',\n",
       " '__sizeof__',\n",
       " '__str__',\n",
       " '__sub__',\n",
       " '__subclasshook__',\n",
       " '__truediv__',\n",
       " '__trunc__',\n",
       " '__xor__',\n",
       " 'as_integer_ratio',\n",
       " 'bit_count',\n",
       " 'bit_length',\n",
       " 'conjugate',\n",
       " 'denominator',\n",
       " 'from_bytes',\n",
       " 'imag',\n",
       " 'numerator',\n",
       " 'real',\n",
       " 'to_bytes']"
      ]
     },
     "execution_count": 177,
     "metadata": {},
     "output_type": "execute_result"
    }
   ],
   "source": [
    "dir(int)"
   ]
  },
  {
   "cell_type": "code",
   "execution_count": 178,
   "id": "35bfcafe-bd6e-416b-8961-3dddc44de4bc",
   "metadata": {},
   "outputs": [
    {
     "data": {
      "text/plain": [
       "['__add__',\n",
       " '__class__',\n",
       " '__contains__',\n",
       " '__delattr__',\n",
       " '__dir__',\n",
       " '__doc__',\n",
       " '__eq__',\n",
       " '__format__',\n",
       " '__ge__',\n",
       " '__getattribute__',\n",
       " '__getitem__',\n",
       " '__getnewargs__',\n",
       " '__gt__',\n",
       " '__hash__',\n",
       " '__init__',\n",
       " '__init_subclass__',\n",
       " '__iter__',\n",
       " '__le__',\n",
       " '__len__',\n",
       " '__lt__',\n",
       " '__mod__',\n",
       " '__mul__',\n",
       " '__ne__',\n",
       " '__new__',\n",
       " '__reduce__',\n",
       " '__reduce_ex__',\n",
       " '__repr__',\n",
       " '__rmod__',\n",
       " '__rmul__',\n",
       " '__setattr__',\n",
       " '__sizeof__',\n",
       " '__str__',\n",
       " '__subclasshook__',\n",
       " 'capitalize',\n",
       " 'casefold',\n",
       " 'center',\n",
       " 'count',\n",
       " 'encode',\n",
       " 'endswith',\n",
       " 'expandtabs',\n",
       " 'find',\n",
       " 'format',\n",
       " 'format_map',\n",
       " 'index',\n",
       " 'isalnum',\n",
       " 'isalpha',\n",
       " 'isascii',\n",
       " 'isdecimal',\n",
       " 'isdigit',\n",
       " 'isidentifier',\n",
       " 'islower',\n",
       " 'isnumeric',\n",
       " 'isprintable',\n",
       " 'isspace',\n",
       " 'istitle',\n",
       " 'isupper',\n",
       " 'join',\n",
       " 'ljust',\n",
       " 'lower',\n",
       " 'lstrip',\n",
       " 'maketrans',\n",
       " 'partition',\n",
       " 'removeprefix',\n",
       " 'removesuffix',\n",
       " 'replace',\n",
       " 'rfind',\n",
       " 'rindex',\n",
       " 'rjust',\n",
       " 'rpartition',\n",
       " 'rsplit',\n",
       " 'rstrip',\n",
       " 'split',\n",
       " 'splitlines',\n",
       " 'startswith',\n",
       " 'strip',\n",
       " 'swapcase',\n",
       " 'title',\n",
       " 'translate',\n",
       " 'upper',\n",
       " 'zfill']"
      ]
     },
     "execution_count": 178,
     "metadata": {},
     "output_type": "execute_result"
    }
   ],
   "source": [
    "dir(str)"
   ]
  },
  {
   "cell_type": "code",
   "execution_count": 179,
   "id": "b1ba9c39-1742-4cff-b1ac-33eaa32650ca",
   "metadata": {},
   "outputs": [],
   "source": [
    "a=100"
   ]
  },
  {
   "cell_type": "code",
   "execution_count": 180,
   "id": "f763bf8f-0f7f-492d-82a5-61bb2ec77736",
   "metadata": {},
   "outputs": [
    {
     "data": {
      "text/plain": [
       "105"
      ]
     },
     "execution_count": 180,
     "metadata": {},
     "output_type": "execute_result"
    }
   ],
   "source": [
    "a+5"
   ]
  },
  {
   "cell_type": "code",
   "execution_count": 183,
   "id": "e5aaa786-d75c-4ace-9e2f-1ec740e98564",
   "metadata": {},
   "outputs": [
    {
     "data": {
      "text/plain": [
       "105"
      ]
     },
     "execution_count": 183,
     "metadata": {},
     "output_type": "execute_result"
    }
   ],
   "source": [
    "a.__add__(5) #calling dunder(double underscore) function "
   ]
  },
  {
   "cell_type": "code",
   "execution_count": 199,
   "id": "b124f331-68b2-4d0f-884f-cd081c156a9c",
   "metadata": {},
   "outputs": [],
   "source": [
    "#specail function or dunder function didnot directely called"
   ]
  },
  {
   "cell_type": "code",
   "execution_count": 200,
   "id": "1d729524-5b3a-4976-82a9-766557c85a6c",
   "metadata": {},
   "outputs": [],
   "source": [
    "class pwskills:\n",
    "    def __new__(cls):\n",
    "        print(\"this is my new\")\n",
    "    def __init__(self):\n",
    "        print(\"this is my init\")\n",
    "        self.mobile_number=9026236171"
   ]
  },
  {
   "cell_type": "code",
   "execution_count": 201,
   "id": "f7f9abf0-4201-41f6-9b8b-115f97d31539",
   "metadata": {},
   "outputs": [
    {
     "name": "stdout",
     "output_type": "stream",
     "text": [
      "this is my new\n"
     ]
    }
   ],
   "source": [
    "pw=pwskills()"
   ]
  },
  {
   "cell_type": "code",
   "execution_count": 202,
   "id": "8dc49832-6ee5-48f4-9939-1ec750ced90c",
   "metadata": {},
   "outputs": [
    {
     "ename": "AttributeError",
     "evalue": "'NoneType' object has no attribute 'mobile_number'",
     "output_type": "error",
     "traceback": [
      "\u001b[0;31m---------------------------------------------------------------------------\u001b[0m",
      "\u001b[0;31mAttributeError\u001b[0m                            Traceback (most recent call last)",
      "Cell \u001b[0;32mIn[202], line 1\u001b[0m\n\u001b[0;32m----> 1\u001b[0m \u001b[43mpw\u001b[49m\u001b[38;5;241;43m.\u001b[39;49m\u001b[43mmobile_number\u001b[49m\n",
      "\u001b[0;31mAttributeError\u001b[0m: 'NoneType' object has no attribute 'mobile_number'"
     ]
    }
   ],
   "source": [
    "pw.mobile_number"
   ]
  },
  {
   "cell_type": "code",
   "execution_count": 207,
   "id": "fd6ed78c-a34a-471e-9f92-960d9d311f84",
   "metadata": {},
   "outputs": [],
   "source": [
    "class pwskills1:\n",
    "    \n",
    "    def __init__(self):\n",
    "    \n",
    "        self.mobile_number=9026236171\n",
    "        \n",
    "    def __str__(self):\n",
    "        return\"this is my magic call for str\""
   ]
  },
  {
   "cell_type": "code",
   "execution_count": 208,
   "id": "3cedc8ef-9208-4744-befc-7a64bcf42d51",
   "metadata": {},
   "outputs": [],
   "source": [
    "pw1=pwskills1()"
   ]
  },
  {
   "cell_type": "code",
   "execution_count": 209,
   "id": "d7d4cc5e-b66c-4da4-9d83-cef22679aacc",
   "metadata": {},
   "outputs": [
    {
     "data": {
      "text/plain": [
       "<__main__.pwskills1 at 0x7f2c9b13e590>"
      ]
     },
     "execution_count": 209,
     "metadata": {},
     "output_type": "execute_result"
    }
   ],
   "source": [
    "pw1"
   ]
  },
  {
   "cell_type": "code",
   "execution_count": 210,
   "id": "9aa7a83c-2623-40a1-bbb9-c446552ca301",
   "metadata": {},
   "outputs": [
    {
     "name": "stdout",
     "output_type": "stream",
     "text": [
      "this is my magic call for str\n"
     ]
    }
   ],
   "source": [
    "print(pw1)"
   ]
  },
  {
   "cell_type": "raw",
   "id": "db602fd2-75a5-45ef-9a41-703c5ed809c3",
   "metadata": {},
   "source": [
    "\n",
    "\n",
    "\n",
    "Property Decorators-Getters,setters and deletes"
   ]
  },
  {
   "cell_type": "code",
   "execution_count": 228,
   "id": "2de9d291-c5b9-43be-bb71-dfdeea00a744",
   "metadata": {},
   "outputs": [],
   "source": [
    "class pwskills:\n",
    "    def __init__(self,course_price,course_name):\n",
    "        self.__cousre_price=course_price\n",
    "        self.course_name=course_name"
   ]
  },
  {
   "cell_type": "code",
   "execution_count": 229,
   "id": "4400cde8-a131-41c3-a34d-d46d33aca2d3",
   "metadata": {},
   "outputs": [],
   "source": [
    "pw=pwskills(3500,\"data science masters\")"
   ]
  },
  {
   "cell_type": "code",
   "execution_count": 230,
   "id": "b5c33c44-54d8-4ab2-a336-a5c136fee0c1",
   "metadata": {},
   "outputs": [
    {
     "ename": "AttributeError",
     "evalue": "'pwskills' object has no attribute '_pwskills___course_price'",
     "output_type": "error",
     "traceback": [
      "\u001b[0;31m---------------------------------------------------------------------------\u001b[0m",
      "\u001b[0;31mAttributeError\u001b[0m                            Traceback (most recent call last)",
      "Cell \u001b[0;32mIn[230], line 1\u001b[0m\n\u001b[0;32m----> 1\u001b[0m \u001b[43mpw\u001b[49m\u001b[38;5;241;43m.\u001b[39;49m\u001b[43m_pwskills___course_price\u001b[49m\n",
      "\u001b[0;31mAttributeError\u001b[0m: 'pwskills' object has no attribute '_pwskills___course_price'"
     ]
    }
   ],
   "source": [
    "pw._pwskills___course_price"
   ]
  },
  {
   "cell_type": "code",
   "execution_count": null,
   "id": "f1e59f90-2725-495e-a2f5-0dba6eeb8eb2",
   "metadata": {},
   "outputs": [],
   "source": []
  },
  {
   "cell_type": "code",
   "execution_count": null,
   "id": "da365cc0-28e6-4a8b-ac8f-df28f42fa0f1",
   "metadata": {},
   "outputs": [],
   "source": []
  }
 ],
 "metadata": {
  "kernelspec": {
   "display_name": "Python 3 (ipykernel)",
   "language": "python",
   "name": "python3"
  },
  "language_info": {
   "codemirror_mode": {
    "name": "ipython",
    "version": 3
   },
   "file_extension": ".py",
   "mimetype": "text/x-python",
   "name": "python",
   "nbconvert_exporter": "python",
   "pygments_lexer": "ipython3",
   "version": "3.10.8"
  }
 },
 "nbformat": 4,
 "nbformat_minor": 5
}
