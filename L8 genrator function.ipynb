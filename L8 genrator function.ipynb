{
 "cells": [
  {
   "cell_type": "markdown",
   "id": "63892fff-7125-4a08-8c4f-443d7a264946",
   "metadata": {},
   "source": [
    "#GENRATOR FUNCTION"
   ]
  },
  {
   "cell_type": "code",
   "execution_count": 5,
   "id": "14394689-4781-44ba-b50e-e76bc2195886",
   "metadata": {},
   "outputs": [],
   "source": [
    "#genrator function is a special type of function\n",
    "#genrator func give outcome one by one not all together"
   ]
  },
  {
   "cell_type": "code",
   "execution_count": 6,
   "id": "7b70b5a1-0dfc-4540-90eb-59da67416808",
   "metadata": {},
   "outputs": [
    {
     "data": {
      "text/plain": [
       "range(0, 10)"
      ]
     },
     "execution_count": 6,
     "metadata": {},
     "output_type": "execute_result"
    }
   ],
   "source": [
    "range(10)"
   ]
  },
  {
   "cell_type": "code",
   "execution_count": 7,
   "id": "698c5539-2b36-4048-8193-d499a94dc408",
   "metadata": {},
   "outputs": [
    {
     "name": "stdout",
     "output_type": "stream",
     "text": [
      "0\n",
      "1\n",
      "2\n",
      "3\n",
      "4\n",
      "5\n",
      "6\n",
      "7\n",
      "8\n",
      "9\n"
     ]
    }
   ],
   "source": [
    "for i in range(10):\n",
    "    print( i)"
   ]
  },
  {
   "cell_type": "code",
   "execution_count": 8,
   "id": "84879070-8b33-46a7-97f9-805e6a6b11ac",
   "metadata": {},
   "outputs": [],
   "source": [
    "#yield function is used as genrator function\n",
    "def test_fabi(n):\n",
    "    a,b=0,1\n",
    "    for i in range(n):\n",
    "        yield a #yield function is used as return function and used in genrator function\n",
    "        a,b=b,a+b\n",
    "    "
   ]
  },
  {
   "cell_type": "code",
   "execution_count": 9,
   "id": "62807895-9ffd-4412-9d09-b725672cadcf",
   "metadata": {},
   "outputs": [
    {
     "data": {
      "text/plain": [
       "<generator object test_fabi at 0x7ff9cc3f9620>"
      ]
     },
     "execution_count": 9,
     "metadata": {},
     "output_type": "execute_result"
    }
   ],
   "source": [
    "test_fabi(10)"
   ]
  },
  {
   "cell_type": "code",
   "execution_count": 10,
   "id": "efcf1458-2f49-4b7d-b84d-5ec448c43632",
   "metadata": {},
   "outputs": [
    {
     "name": "stdout",
     "output_type": "stream",
     "text": [
      "0\n",
      "1\n",
      "1\n",
      "2\n",
      "3\n",
      "5\n",
      "8\n",
      "13\n",
      "21\n",
      "34\n"
     ]
    }
   ],
   "source": [
    "for i in test_fabi(10):\n",
    "    print(i)"
   ]
  },
  {
   "cell_type": "code",
   "execution_count": 11,
   "id": "4cef1992-be3e-47ca-aaeb-48eb6f972d7d",
   "metadata": {},
   "outputs": [],
   "source": [
    "#with help of while loop\n",
    "def test_fibi1():\n",
    "    a,b=0,1\n",
    "    while True: #True represents the correctness of the function\n",
    "        yield a #yield function is used return function\n",
    "        a,b=b,a+b\n",
    "    "
   ]
  },
  {
   "cell_type": "code",
   "execution_count": 12,
   "id": "39dca8f9-4a12-4abd-8c7b-0df668436fbd",
   "metadata": {},
   "outputs": [],
   "source": [
    "fib=test_fibi1()\n",
    "    "
   ]
  },
  {
   "cell_type": "code",
   "execution_count": 13,
   "id": "f927e273-8e19-441a-a552-e615dc6f6b59",
   "metadata": {},
   "outputs": [
    {
     "name": "stdout",
     "output_type": "stream",
     "text": [
      "0\n",
      "1\n",
      "1\n",
      "2\n",
      "3\n",
      "5\n",
      "8\n",
      "13\n",
      "21\n",
      "34\n"
     ]
    }
   ],
   "source": [
    "for i in range(10):\n",
    "    print(next(fib)) # NEXT function is used to iterate data one by one \n",
    "    "
   ]
  },
  {
   "cell_type": "code",
   "execution_count": 14,
   "id": "a3533997-d565-4c7d-bee4-c5453351d651",
   "metadata": {},
   "outputs": [],
   "source": [
    "a=\"devesh\""
   ]
  },
  {
   "cell_type": "code",
   "execution_count": 15,
   "id": "b4d66b72-8a61-420c-b2a6-50429a7b5ead",
   "metadata": {},
   "outputs": [
    {
     "name": "stdout",
     "output_type": "stream",
     "text": [
      "d\n",
      "e\n",
      "v\n",
      "e\n",
      "s\n",
      "h\n"
     ]
    }
   ],
   "source": [
    "for i in a:\n",
    "    print(i)"
   ]
  },
  {
   "cell_type": "code",
   "execution_count": 16,
   "id": "53e7ecd6-376f-4a9f-92f9-2c94ca471db9",
   "metadata": {},
   "outputs": [
    {
     "data": {
      "text/plain": [
       "'devesh'"
      ]
     },
     "execution_count": 16,
     "metadata": {},
     "output_type": "execute_result"
    }
   ],
   "source": [
    "a"
   ]
  },
  {
   "cell_type": "code",
   "execution_count": 17,
   "id": "2440e697-2032-4be6-bee0-15472bbba569",
   "metadata": {},
   "outputs": [
    {
     "ename": "TypeError",
     "evalue": "'str' object is not an iterator",
     "output_type": "error",
     "traceback": [
      "\u001b[0;31m---------------------------------------------------------------------------\u001b[0m",
      "\u001b[0;31mTypeError\u001b[0m                                 Traceback (most recent call last)",
      "Cell \u001b[0;32mIn[17], line 1\u001b[0m\n\u001b[0;32m----> 1\u001b[0m \u001b[38;5;28;43mnext\u001b[39;49m\u001b[43m(\u001b[49m\u001b[43ma\u001b[49m\u001b[43m)\u001b[49m  \u001b[38;5;66;03m#'str' object is not an iterator\u001b[39;00m\n",
      "\u001b[0;31mTypeError\u001b[0m: 'str' object is not an iterator"
     ]
    }
   ],
   "source": [
    "next(a)  #'str' object is not an iterator"
   ]
  },
  {
   "cell_type": "code",
   "execution_count": 18,
   "id": "0dc32f16-d1b4-4065-9971-2f6713a228ee",
   "metadata": {},
   "outputs": [],
   "source": [
    "#String function is iterable but it is not a itrerator\n",
    "#those which iterable that only can be iterated and can not iterrate itnerger complex no. etc\n",
    "a1=iter(a)\n",
    "#iter function is used to convert it into iterator"
   ]
  },
  {
   "cell_type": "code",
   "execution_count": 19,
   "id": "6185a6fc-4fee-4a7b-bdb6-ec0332e7763f",
   "metadata": {},
   "outputs": [
    {
     "data": {
      "text/plain": [
       "'d'"
      ]
     },
     "execution_count": 19,
     "metadata": {},
     "output_type": "execute_result"
    }
   ],
   "source": [
    "next(a1)"
   ]
  },
  {
   "cell_type": "code",
   "execution_count": 25,
   "id": "b1207f58-b3f3-4e7a-adc7-8dae48e10af4",
   "metadata": {},
   "outputs": [
    {
     "data": {
      "text/plain": [
       "str_iterator"
      ]
     },
     "execution_count": 25,
     "metadata": {},
     "output_type": "execute_result"
    }
   ],
   "source": [
    "type(a1) #type of iter function"
   ]
  },
  {
   "cell_type": "code",
   "execution_count": 26,
   "id": "60aef0c7-163d-46a5-b68e-5a84394c21a5",
   "metadata": {},
   "outputs": [
    {
     "data": {
      "text/plain": [
       "'v'"
      ]
     },
     "execution_count": 26,
     "metadata": {},
     "output_type": "execute_result"
    }
   ],
   "source": [
    "next(a1)"
   ]
  },
  {
   "cell_type": "code",
   "execution_count": 27,
   "id": "6bc111cb-bce4-4463-b55e-76d68f2bf669",
   "metadata": {},
   "outputs": [
    {
     "ename": "TypeError",
     "evalue": "'int' object is not an iterator",
     "output_type": "error",
     "traceback": [
      "\u001b[0;31m---------------------------------------------------------------------------\u001b[0m",
      "\u001b[0;31mTypeError\u001b[0m                                 Traceback (most recent call last)",
      "Cell \u001b[0;32mIn[27], line 1\u001b[0m\n\u001b[0;32m----> 1\u001b[0m \u001b[38;5;28;43mnext\u001b[39;49m\u001b[43m(\u001b[49m\u001b[38;5;241;43m45\u001b[39;49m\u001b[43m)\u001b[49m\n",
      "\u001b[0;31mTypeError\u001b[0m: 'int' object is not an iterator"
     ]
    }
   ],
   "source": [
    "next(45)"
   ]
  },
  {
   "cell_type": "code",
   "execution_count": 28,
   "id": "dd37314a-4987-4103-8b8b-452b3a93b268",
   "metadata": {},
   "outputs": [],
   "source": [
    "def count_test(n):\n",
    "    count=1\n",
    "    while count < n:\n",
    "        yield count\n",
    "        count =count+1"
   ]
  },
  {
   "cell_type": "code",
   "execution_count": 30,
   "id": "d08de8ae-da90-48e2-8039-7c7fb0cbd9c9",
   "metadata": {},
   "outputs": [],
   "source": [
    "c=count_test(7) #obhect of thee function"
   ]
  },
  {
   "cell_type": "code",
   "execution_count": 31,
   "id": "c5b84424-c328-4ebc-bd29-23fbca791ce8",
   "metadata": {},
   "outputs": [
    {
     "name": "stdout",
     "output_type": "stream",
     "text": [
      "1\n",
      "2\n",
      "3\n",
      "4\n",
      "5\n",
      "6\n"
     ]
    }
   ],
   "source": [
    "for i in c:\n",
    "    print(i)"
   ]
  },
  {
   "cell_type": "code",
   "execution_count": 32,
   "id": "a4386cb9-bd11-4c5e-a5b6-c3038cec1b85",
   "metadata": {},
   "outputs": [
    {
     "data": {
      "text/plain": [
       "generator"
      ]
     },
     "execution_count": 32,
     "metadata": {},
     "output_type": "execute_result"
    }
   ],
   "source": [
    "type(c)"
   ]
  },
  {
   "cell_type": "code",
   "execution_count": 33,
   "id": "7af4f411-23d3-486d-89bd-aa25d5517cf3",
   "metadata": {},
   "outputs": [],
   "source": [
    "#YIELD AND RETURN function are almost same they both are different in ony giving output of data"
   ]
  },
  {
   "cell_type": "code",
   "execution_count": null,
   "id": "ce3244ed-4e72-4413-8d78-cf0c7353dc63",
   "metadata": {},
   "outputs": [],
   "source": []
  }
 ],
 "metadata": {
  "kernelspec": {
   "display_name": "Python 3 (ipykernel)",
   "language": "python",
   "name": "python3"
  },
  "language_info": {
   "codemirror_mode": {
    "name": "ipython",
    "version": 3
   },
   "file_extension": ".py",
   "mimetype": "text/x-python",
   "name": "python",
   "nbconvert_exporter": "python",
   "pygments_lexer": "ipython3",
   "version": "3.10.8"
  }
 },
 "nbformat": 4,
 "nbformat_minor": 5
}
