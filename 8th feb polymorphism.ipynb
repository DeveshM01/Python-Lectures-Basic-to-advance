{
 "cells": [
  {
   "cell_type": "markdown",
   "id": "ecf006b0-3c55-4069-92a8-9388c04e960c",
   "metadata": {},
   "source": [
    "Polymorphism"
   ]
  },
  {
   "cell_type": "code",
   "execution_count": 1,
   "id": "5186cff1-79b6-4444-bba7-7ae6152783f2",
   "metadata": {},
   "outputs": [],
   "source": [
    "#single entity having multiple bhehaviour"
   ]
  },
  {
   "cell_type": "code",
   "execution_count": 2,
   "id": "e1b78996-4ea7-4692-b6da-c49561ba3298",
   "metadata": {},
   "outputs": [],
   "source": [
    "def test(a,b):\n",
    "    return a+b"
   ]
  },
  {
   "cell_type": "code",
   "execution_count": 3,
   "id": "17857b49-3e2c-43e8-b3cf-1bb4c606af91",
   "metadata": {},
   "outputs": [
    {
     "data": {
      "text/plain": [
       "7"
      ]
     },
     "execution_count": 3,
     "metadata": {},
     "output_type": "execute_result"
    }
   ],
   "source": [
    "test(3,4)"
   ]
  },
  {
   "cell_type": "code",
   "execution_count": 6,
   "id": "ff93c63c-d305-44f2-ac04-d62f318e60e2",
   "metadata": {},
   "outputs": [
    {
     "data": {
      "text/plain": [
       "'devmishra'"
      ]
     },
     "execution_count": 6,
     "metadata": {},
     "output_type": "execute_result"
    }
   ],
   "source": [
    "#not addition concatented the string\n",
    "#same function different output it is called polymorphism\n",
    "test(\"dev\",\"mishra\")"
   ]
  },
  {
   "cell_type": "code",
   "execution_count": 7,
   "id": "b03febc6-fd02-4b97-9d0b-420b69db8e8f",
   "metadata": {},
   "outputs": [
    {
     "data": {
      "text/plain": [
       "[1, 2, 3, 4, 3, 4, 5, 6]"
      ]
     },
     "execution_count": 7,
     "metadata": {},
     "output_type": "execute_result"
    }
   ],
   "source": [
    "test([1,2,3,4],[3,4,5,6])"
   ]
  },
  {
   "cell_type": "code",
   "execution_count": 15,
   "id": "c24d9d95-2593-4a67-9384-43eae1f9ec52",
   "metadata": {},
   "outputs": [],
   "source": [
    "class data_science1:\n",
    "    \n",
    "    def syllabus(self):\n",
    "        print(\"this is my syllabus for data science masters\")"
   ]
  },
  {
   "cell_type": "code",
   "execution_count": 16,
   "id": "d4c438a1-7b22-4f79-92f4-1b3a9dc4a486",
   "metadata": {},
   "outputs": [],
   "source": [
    "class web_dev1:\n",
    "    \n",
    "    def syllabus(self):\n",
    "        print(\"this is my syllabus for web dev\")"
   ]
  },
  {
   "cell_type": "code",
   "execution_count": 17,
   "id": "18d00bab-33f6-4059-9a95-0b477f2dc063",
   "metadata": {},
   "outputs": [],
   "source": [
    "#calling differet syllabus with the help of single function\n",
    "#syllabus are present in different class\n",
    "def class_parcer(class_obj):\n",
    "    for i in class_obj:\n",
    "        i.syllabus()"
   ]
  },
  {
   "cell_type": "code",
   "execution_count": 18,
   "id": "a955e66b-5c54-4d62-b26f-09917dd27d42",
   "metadata": {},
   "outputs": [],
   "source": [
    "#objects\n",
    "data_science =data_science1()"
   ]
  },
  {
   "cell_type": "code",
   "execution_count": 24,
   "id": "8060137b-cd1c-444f-9550-0c7ecfeda7ce",
   "metadata": {},
   "outputs": [],
   "source": [
    "#objects\n",
    "web_dev=web_dev1()"
   ]
  },
  {
   "cell_type": "code",
   "execution_count": 25,
   "id": "e358ea10-8b53-491e-a636-cd84d7b2941e",
   "metadata": {},
   "outputs": [],
   "source": [
    "class_obj=[data_science,web_dev]"
   ]
  },
  {
   "cell_type": "code",
   "execution_count": 26,
   "id": "5c5e05ae-8afe-47ec-b19a-8618c802a124",
   "metadata": {},
   "outputs": [
    {
     "name": "stdout",
     "output_type": "stream",
     "text": [
      "this is my syllabus for data science masters\n",
      "this is my syllabus for web dev\n"
     ]
    }
   ],
   "source": [
    "class_parcer(class_obj)"
   ]
  },
  {
   "cell_type": "markdown",
   "id": "6b3a7d87-087b-431f-b7e5-f86e01dc177b",
   "metadata": {
    "tags": []
   },
   "source": [
    "#\n",
    "#\n",
    "Encapsulation\n",
    "#\n",
    "#"
   ]
  },
  {
   "cell_type": "code",
   "execution_count": 58,
   "id": "9b14fc25-41f8-47ab-b343-3829e44e5cb1",
   "metadata": {},
   "outputs": [],
   "source": [
    "#Encapsulation helps in protecting our data from modification from other people\n",
    "class test():\n",
    "    def __init__(self,a,b):\n",
    "        self.a=a\n",
    "        self.b=b"
   ]
  },
  {
   "cell_type": "code",
   "execution_count": 59,
   "id": "8c976171-91dd-4449-9993-b5befcebfad1",
   "metadata": {},
   "outputs": [],
   "source": [
    "t=test(45,63)"
   ]
  },
  {
   "cell_type": "code",
   "execution_count": 63,
   "id": "2f097ed8-8c65-4560-8dab-71c096b5ee1a",
   "metadata": {},
   "outputs": [],
   "source": [
    "t.a=4586 #data has being modified"
   ]
  },
  {
   "cell_type": "code",
   "execution_count": 61,
   "id": "c790d046-6943-4865-b43d-b69b71d57354",
   "metadata": {},
   "outputs": [
    {
     "data": {
      "text/plain": [
       "4586"
      ]
     },
     "execution_count": 61,
     "metadata": {},
     "output_type": "execute_result"
    }
   ],
   "source": [
    "t.a"
   ]
  },
  {
   "cell_type": "code",
   "execution_count": 27,
   "id": "667cb6b7-56de-4a33-ae36-b7b10ce3ceaf",
   "metadata": {},
   "outputs": [],
   "source": [
    "#new "
   ]
  },
  {
   "cell_type": "code",
   "execution_count": 1,
   "id": "4a170aa6-3e8e-4647-91a0-39deb793471d",
   "metadata": {},
   "outputs": [],
   "source": [
    "class car:\n",
    "    def __init__(self,year,make,model,speed):\n",
    "        self.__year=year\n",
    "        self.__make=make\n",
    "        self.__model=model\n",
    "        self.__speed=speed\n",
    "#double underscore is used to encapsulate or to protect data from modification \n",
    "    def set_speed(self,speed):\n",
    "        self.__speed=0 if speed < 0 else speed\n",
    "        \n",
    "    def get_speed(self):\n",
    "        return self.__speed"
   ]
  },
  {
   "cell_type": "code",
   "execution_count": 2,
   "id": "c8719f87-96d6-4809-8ec5-6efc548a74ff",
   "metadata": {},
   "outputs": [],
   "source": [
    "d=car(2022,\"bmw\",\"m5\",125)"
   ]
  },
  {
   "cell_type": "code",
   "execution_count": 3,
   "id": "eb3598a0-29ab-46da-9ad6-4c9ec8591938",
   "metadata": {},
   "outputs": [
    {
     "data": {
      "text/plain": [
       "2022"
      ]
     },
     "execution_count": 3,
     "metadata": {},
     "output_type": "execute_result"
    }
   ],
   "source": [
    "d._car__year"
   ]
  },
  {
   "cell_type": "code",
   "execution_count": 4,
   "id": "5a0ac06a-7aa9-499f-bfc4-24aa2da98943",
   "metadata": {},
   "outputs": [],
   "source": [
    "d.set_speed(-23)"
   ]
  },
  {
   "cell_type": "code",
   "execution_count": 6,
   "id": "5a819561-1cf6-4b69-add0-8a1a9865ba1b",
   "metadata": {},
   "outputs": [
    {
     "data": {
      "text/plain": [
       "0"
      ]
     },
     "execution_count": 6,
     "metadata": {},
     "output_type": "execute_result"
    }
   ],
   "source": [
    "d.get_speed()"
   ]
  },
  {
   "cell_type": "code",
   "execution_count": 7,
   "id": "cd771cb8-7ff4-4ff5-bad8-3e0c7aafface",
   "metadata": {},
   "outputs": [],
   "source": [
    "d.set_speed(167)"
   ]
  },
  {
   "cell_type": "code",
   "execution_count": 8,
   "id": "f2b4ea6f-9624-493c-a7d0-e73dbd23a0fc",
   "metadata": {},
   "outputs": [
    {
     "data": {
      "text/plain": [
       "167"
      ]
     },
     "execution_count": 8,
     "metadata": {},
     "output_type": "execute_result"
    }
   ],
   "source": [
    "d.get_speed()"
   ]
  },
  {
   "cell_type": "code",
   "execution_count": 9,
   "id": "ef562842-2e55-4681-89eb-e35d307b02a5",
   "metadata": {},
   "outputs": [],
   "source": [
    "#new"
   ]
  },
  {
   "cell_type": "code",
   "execution_count": 64,
   "id": "972d06af-a20f-4e5f-87b6-d6506b7c662a",
   "metadata": {},
   "outputs": [],
   "source": [
    "class bank_account:\n",
    "    def __init__(self,balance):\n",
    "        self.__balance=balance\n",
    "        \n",
    "    def deposit(self,amount):\n",
    "        self.__balance=self.__balance+ amount\n",
    "    def withdrwal(self,amount):\n",
    "        if self.__balance>=amount:\n",
    "            self.__balance=self.__balance-amount\n",
    "            return True\n",
    "        else:\n",
    "            return False\n",
    "    def get_balance(self):\n",
    "        return self.__balance"
   ]
  },
  {
   "cell_type": "code",
   "execution_count": 65,
   "id": "32000c43-9724-4e48-8fe3-a486826e9222",
   "metadata": {},
   "outputs": [],
   "source": [
    "dev=bank_account(2000)"
   ]
  },
  {
   "cell_type": "code",
   "execution_count": 66,
   "id": "6498de6b-24db-4141-ad1e-256e406ab7ee",
   "metadata": {},
   "outputs": [
    {
     "data": {
      "text/plain": [
       "2000"
      ]
     },
     "execution_count": 66,
     "metadata": {},
     "output_type": "execute_result"
    }
   ],
   "source": [
    "dev.get_balance()"
   ]
  },
  {
   "cell_type": "code",
   "execution_count": 67,
   "id": "f4f2f190-8207-4442-8735-f4419461fd29",
   "metadata": {},
   "outputs": [],
   "source": [
    "dev.deposit(5000)"
   ]
  },
  {
   "cell_type": "code",
   "execution_count": 68,
   "id": "3c2a3a36-4668-452f-a4c2-df52831e5e31",
   "metadata": {},
   "outputs": [
    {
     "data": {
      "text/plain": [
       "7000"
      ]
     },
     "execution_count": 68,
     "metadata": {},
     "output_type": "execute_result"
    }
   ],
   "source": [
    "dev.get_balance()"
   ]
  },
  {
   "cell_type": "code",
   "execution_count": 69,
   "id": "b347abfa-61a3-4e29-87c5-552168d74620",
   "metadata": {},
   "outputs": [
    {
     "data": {
      "text/plain": [
       "True"
      ]
     },
     "execution_count": 69,
     "metadata": {},
     "output_type": "execute_result"
    }
   ],
   "source": [
    "dev.withdrwal(500)"
   ]
  },
  {
   "cell_type": "code",
   "execution_count": 70,
   "id": "62615362-726c-48d0-ac9d-e4c8b6432f58",
   "metadata": {},
   "outputs": [
    {
     "data": {
      "text/plain": [
       "6500"
      ]
     },
     "execution_count": 70,
     "metadata": {},
     "output_type": "execute_result"
    }
   ],
   "source": [
    "dev.get_balance()"
   ]
  },
  {
   "cell_type": "code",
   "execution_count": 74,
   "id": "c5f97c0c-6d59-4501-b92e-4d1bfa1eec1a",
   "metadata": {},
   "outputs": [],
   "source": [
    "dev.deposit(50000)"
   ]
  },
  {
   "cell_type": "markdown",
   "id": "b1ebf097-71ea-4956-a941-368eeb99f09f",
   "metadata": {},
   "source": [
    "#\n",
    "INHERITANCE"
   ]
  },
  {
   "cell_type": "code",
   "execution_count": 27,
   "id": "162c2702-d3d6-4ca1-be57-b078554e6652",
   "metadata": {},
   "outputs": [],
   "source": [
    "#method/function of different class is used in different class and reuse it\n"
   ]
  },
  {
   "cell_type": "code",
   "execution_count": 28,
   "id": "f2e51747-5050-4a8b-83e1-fb14b434dcf6",
   "metadata": {
    "tags": []
   },
   "outputs": [],
   "source": [
    "#parent class property inherited in child class\n",
    "class test:\n",
    "    def test_math(self):\n",
    "        return \"this is my first class\""
   ]
  },
  {
   "cell_type": "code",
   "execution_count": 29,
   "id": "c0f13b4b-08ca-44b1-98ce-2ca13873d252",
   "metadata": {},
   "outputs": [],
   "source": [
    "class child_test(test):\n",
    "    pass"
   ]
  },
  {
   "cell_type": "code",
   "execution_count": 31,
   "id": "30e37182-3aff-48cd-b12a-362e691b850f",
   "metadata": {},
   "outputs": [],
   "source": [
    "dev_obj=child_test()"
   ]
  },
  {
   "cell_type": "code",
   "execution_count": 32,
   "id": "84c40522-d792-46de-afd1-d01f32d5b4a6",
   "metadata": {},
   "outputs": [
    {
     "data": {
      "text/plain": [
       "'this is my first class'"
      ]
     },
     "execution_count": 32,
     "metadata": {},
     "output_type": "execute_result"
    }
   ],
   "source": [
    "dev_obj.test_math()"
   ]
  },
  {
   "cell_type": "markdown",
   "id": "238f62f3-f90a-462e-a32f-400ea66f82a0",
   "metadata": {},
   "source": [
    "#\n",
    "Multilevel inheritance"
   ]
  },
  {
   "cell_type": "raw",
   "id": "eadc4923-63ac-46c5-817f-f0913adedb90",
   "metadata": {},
   "source": [
    "There are 3 level class is given Class1,class2,class3\n",
    "\n",
    "Property of class 1 is inhertited to class 2 and in class3\n",
    "Property of class 2 is inhertited class 3"
   ]
  },
  {
   "cell_type": "code",
   "execution_count": 35,
   "id": "25b4719f-4237-4be6-85ef-9f24ef53263f",
   "metadata": {},
   "outputs": [],
   "source": [
    "class class1:\n",
    "    def test_class(self):\n",
    "        return\"this is a math from class1 \""
   ]
  },
  {
   "cell_type": "code",
   "execution_count": 36,
   "id": "0d748fec-6a15-4bbc-8b23-409dfa23742d",
   "metadata": {},
   "outputs": [],
   "source": [
    "class class2(class1):\n",
    "    def test_class2(self):\n",
    "        return\"this is a math from class 2\""
   ]
  },
  {
   "cell_type": "code",
   "execution_count": 37,
   "id": "10b623f1-149d-4187-b4c1-a08eb10cc8c2",
   "metadata": {},
   "outputs": [],
   "source": [
    "class class3(class2):\n",
    "    pass"
   ]
  },
  {
   "cell_type": "code",
   "execution_count": 38,
   "id": "4c03d0f0-929d-4f9d-b3cb-6cb26a680ad7",
   "metadata": {},
   "outputs": [],
   "source": [
    "obj_class3=class3()"
   ]
  },
  {
   "cell_type": "code",
   "execution_count": 39,
   "id": "3de96f90-e8c9-4b8d-8ff5-5bfe6a48e880",
   "metadata": {},
   "outputs": [
    {
     "data": {
      "text/plain": [
       "'this is a math from class 2'"
      ]
     },
     "execution_count": 39,
     "metadata": {},
     "output_type": "execute_result"
    }
   ],
   "source": [
    "obj_class3.test_class2()"
   ]
  },
  {
   "cell_type": "code",
   "execution_count": 42,
   "id": "f459a3c9-6083-40c0-abab-403750370c9d",
   "metadata": {},
   "outputs": [
    {
     "data": {
      "text/plain": [
       "'this is a math from class1 '"
      ]
     },
     "execution_count": 42,
     "metadata": {},
     "output_type": "execute_result"
    }
   ],
   "source": [
    "obj_class3.test_class()"
   ]
  },
  {
   "cell_type": "markdown",
   "id": "46f9d5df-d7f4-4ecb-b7a1-cfd175be7b68",
   "metadata": {},
   "source": [
    "#\n",
    "Multiple Inheritance"
   ]
  },
  {
   "cell_type": "raw",
   "id": "42a74d31-2ff3-4045-9ec3-7e21f3d66441",
   "metadata": {},
   "source": [
    "Property of class1 and class2 can be inhertited in class3 it is called multiple inhertance"
   ]
  },
  {
   "cell_type": "code",
   "execution_count": 57,
   "id": "8ad1c694-525a-425f-9339-7fcdb8dbb048",
   "metadata": {},
   "outputs": [],
   "source": [
    "class class1:\n",
    "    def test_class(self):\n",
    "        return\"this is class1\""
   ]
  },
  {
   "cell_type": "code",
   "execution_count": 58,
   "id": "769f9b8d-9a08-40e6-9930-df605d998724",
   "metadata": {},
   "outputs": [],
   "source": [
    "class class2:\n",
    "    def test_class2(self):\n",
    "        return\"this is class2\""
   ]
  },
  {
   "cell_type": "code",
   "execution_count": 59,
   "id": "539cda4a-0a80-4567-8fa5-ccb9c5a91d93",
   "metadata": {},
   "outputs": [],
   "source": [
    "class class3(class1,class2):\n",
    "    pass"
   ]
  },
  {
   "cell_type": "code",
   "execution_count": 60,
   "id": "dec47e91-943a-4c43-97f0-85a3b31ccfc0",
   "metadata": {},
   "outputs": [],
   "source": [
    "obj_class3=class3()"
   ]
  },
  {
   "cell_type": "code",
   "execution_count": 62,
   "id": "d1c2d5eb-3cc1-49c8-a8a0-1d022c7e07c6",
   "metadata": {},
   "outputs": [
    {
     "data": {
      "text/plain": [
       "'this is class1'"
      ]
     },
     "execution_count": 62,
     "metadata": {},
     "output_type": "execute_result"
    }
   ],
   "source": [
    "obj_class3.test_class()"
   ]
  },
  {
   "cell_type": "code",
   "execution_count": 63,
   "id": "dee798be-0423-4d2c-ae87-6d89f46af3ae",
   "metadata": {},
   "outputs": [
    {
     "data": {
      "text/plain": [
       "'this is class2'"
      ]
     },
     "execution_count": 63,
     "metadata": {},
     "output_type": "execute_result"
    }
   ],
   "source": [
    "obj_class3.test_class2()"
   ]
  },
  {
   "cell_type": "markdown",
   "id": "1e4ac353-1dd0-455b-8cc5-f81cdf05156b",
   "metadata": {},
   "source": [
    "#\n",
    "Abstraction"
   ]
  },
  {
   "cell_type": "code",
   "execution_count": 44,
   "id": "fa00eb85-11b4-4d8d-b608-825adc12dfd6",
   "metadata": {},
   "outputs": [],
   "source": [
    "#abstraction class is to create skelleton or blueprint of the code\n",
    "import abc\n",
    "class pwskills:\n",
    "    @abc.abstractmethod\n",
    "    def student_details(self):\n",
    "        pass\n",
    "    @abc.abstractmethod\n",
    "    def student_assigment(self):\n",
    "        pass\n",
    "    @abc.abstractmethod\n",
    "    def student_marks(self):\n",
    "        pass"
   ]
  },
  {
   "cell_type": "code",
   "execution_count": 45,
   "id": "274ae906-9fad-4b2d-ab42-b9440481a8c0",
   "metadata": {},
   "outputs": [],
   "source": [
    "class student_details(pwskills):\n",
    "    def student_details(self):\n",
    "        return\"this is method for taking student details\"\n",
    "    def student_assigment(self):\n",
    "        return\"this is a method for assing details for a particular student\""
   ]
  },
  {
   "cell_type": "code",
   "execution_count": 46,
   "id": "461f00ae-2ad3-4f09-82a8-15044f4b57d6",
   "metadata": {},
   "outputs": [],
   "source": [
    "class data_science_masters(pwskills):\n",
    "    def student_details(self):\n",
    "        return \"this will return a student detail for data science masters \"\n",
    "    def student_assigment(self):\n",
    "        return \"this will give you a student assignment detailed for data science masters\""
   ]
  },
  {
   "cell_type": "code",
   "execution_count": 47,
   "id": "62192d38-a8ef-4afd-977e-7bdeb867f38f",
   "metadata": {},
   "outputs": [
    {
     "data": {
      "text/plain": [
       "'this will return a student detail for data science masters '"
      ]
     },
     "execution_count": 47,
     "metadata": {},
     "output_type": "execute_result"
    }
   ],
   "source": [
    "dsm=data_science_masters()\n",
    "dsm.student_details()"
   ]
  },
  {
   "cell_type": "code",
   "execution_count": 48,
   "id": "59a2f910-d6f1-482e-b515-1a81711f9f65",
   "metadata": {},
   "outputs": [],
   "source": [
    "sd=student_details()"
   ]
  },
  {
   "cell_type": "code",
   "execution_count": 50,
   "id": "9635ddc8-f0c1-40d0-a347-5b8cbc582246",
   "metadata": {},
   "outputs": [
    {
     "data": {
      "text/plain": [
       "'this is a method for assing details for a particular student'"
      ]
     },
     "execution_count": 50,
     "metadata": {},
     "output_type": "execute_result"
    }
   ],
   "source": [
    "sd.student_assigment()"
   ]
  },
  {
   "cell_type": "code",
   "execution_count": null,
   "id": "1b7ec07f-882d-4d43-83da-5a9a555c54d5",
   "metadata": {},
   "outputs": [],
   "source": []
  }
 ],
 "metadata": {
  "kernelspec": {
   "display_name": "Python 3 (ipykernel)",
   "language": "python",
   "name": "python3"
  },
  "language_info": {
   "codemirror_mode": {
    "name": "ipython",
    "version": 3
   },
   "file_extension": ".py",
   "mimetype": "text/x-python",
   "name": "python",
   "nbconvert_exporter": "python",
   "pygments_lexer": "ipython3",
   "version": "3.10.8"
  }
 },
 "nbformat": 4,
 "nbformat_minor": 5
}
