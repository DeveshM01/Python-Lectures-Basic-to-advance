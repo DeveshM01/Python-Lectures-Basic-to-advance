{
 "cells": [
  {
   "cell_type": "code",
   "execution_count": 1,
   "id": "7d38a1a7-d5c7-4343-aabf-d4512bdb3ee2",
   "metadata": {},
   "outputs": [],
   "source": [
    "#Lecture 3\n",
    "#Dictionary,Condition and loops\n",
    "#{} brackets are used."
   ]
  },
  {
   "cell_type": "code",
   "execution_count": 1,
   "id": "c082e050-6c2e-4bd4-9fee-9da005dfcb65",
   "metadata": {},
   "outputs": [],
   "source": [
    "a={}"
   ]
  },
  {
   "cell_type": "code",
   "execution_count": 2,
   "id": "a92eb851-6eca-4b93-8cb9-1937e8a291aa",
   "metadata": {},
   "outputs": [
    {
     "data": {
      "text/plain": [
       "dict"
      ]
     },
     "execution_count": 2,
     "metadata": {},
     "output_type": "execute_result"
    }
   ],
   "source": [
    "type(a)"
   ]
  },
  {
   "cell_type": "code",
   "execution_count": 3,
   "id": "c4b21a79-5376-4c87-a0fd-026740e7e6e8",
   "metadata": {},
   "outputs": [],
   "source": [
    "# key and value pair\n",
    "#key should always be unique."
   ]
  },
  {
   "cell_type": "code",
   "execution_count": 4,
   "id": "ef342ebf-deb3-4aef-9413-6b48e8ccb001",
   "metadata": {},
   "outputs": [],
   "source": [
    "a1={'dev' : \"devesh\"}\n",
    "#dev=key\n",
    "#devesh=value"
   ]
  },
  {
   "cell_type": "code",
   "execution_count": 5,
   "id": "89c08cb1-1afd-4070-85f1-ec991cc98d56",
   "metadata": {},
   "outputs": [
    {
     "data": {
      "text/plain": [
       "{'dev': 'devesh'}"
      ]
     },
     "execution_count": 5,
     "metadata": {},
     "output_type": "execute_result"
    }
   ],
   "source": [
    "a1"
   ]
  },
  {
   "cell_type": "code",
   "execution_count": 7,
   "id": "57b4a56c-4065-478c-b36e-fbfc779d753f",
   "metadata": {},
   "outputs": [],
   "source": [
    "#example of key and value\n",
    "a2={\"name\":\"devesh\",\"email\":\"mishra.devsh131@gmail.com\",\"number\":9026236171}"
   ]
  },
  {
   "cell_type": "code",
   "execution_count": 8,
   "id": "41d41eda-d099-45ea-9583-84dc846cd25b",
   "metadata": {},
   "outputs": [
    {
     "data": {
      "text/plain": [
       "{'name': 'devesh', 'email': 'mishra.devsh131@gmail.com', 'number': 9026236171}"
      ]
     },
     "execution_count": 8,
     "metadata": {},
     "output_type": "execute_result"
    }
   ],
   "source": [
    "a2"
   ]
  },
  {
   "cell_type": "code",
   "execution_count": 11,
   "id": "83b4a878-67f7-41f1-8139-e522673503b9",
   "metadata": {},
   "outputs": [
    {
     "ename": "SyntaxError",
     "evalue": "invalid syntax (464819.py, line 1)",
     "output_type": "error",
     "traceback": [
      "\u001b[0;36m  Cell \u001b[0;32mIn[11], line 1\u001b[0;36m\u001b[0m\n\u001b[0;31m    a3={234:\"dev\",@dev:4545}\u001b[0m\n\u001b[0m                  ^\u001b[0m\n\u001b[0;31mSyntaxError\u001b[0m\u001b[0;31m:\u001b[0m invalid syntax\n"
     ]
    }
   ],
   "source": [
    "a3={234:\"dev\",@dev:4545}\n",
    "#special case chracter are not used."
   ]
  },
  {
   "cell_type": "code",
   "execution_count": 10,
   "id": "40d326ed-a771-4ff6-828f-d8b26ce6e20b",
   "metadata": {},
   "outputs": [
    {
     "data": {
      "text/plain": [
       "{234: 'dev'}"
      ]
     },
     "execution_count": 10,
     "metadata": {},
     "output_type": "execute_result"
    }
   ],
   "source": [
    "a3"
   ]
  },
  {
   "cell_type": "code",
   "execution_count": 5,
   "id": "cfeee1fa-6311-40d4-8cbe-bf9eef59a4be",
   "metadata": {},
   "outputs": [],
   "source": [
    "a4={2345:\"dev\",\"__kush\":9034,True:9036}\n",
    "#when special charachter are enclosed in comma it act as string."
   ]
  },
  {
   "cell_type": "code",
   "execution_count": 6,
   "id": "5c7ca06a-214f-457b-8abc-d9b6a858efac",
   "metadata": {},
   "outputs": [
    {
     "data": {
      "text/plain": [
       "{2345: 'dev', '__kush': 9034, True: 9036}"
      ]
     },
     "execution_count": 6,
     "metadata": {},
     "output_type": "execute_result"
    }
   ],
   "source": [
    "a4"
   ]
  },
  {
   "cell_type": "code",
   "execution_count": 7,
   "id": "581fe6b8-69e6-4c5e-818b-b08274675a55",
   "metadata": {},
   "outputs": [
    {
     "data": {
      "text/plain": [
       "{2345: 'dev', '__kush': 9034, True: 9036}"
      ]
     },
     "execution_count": 7,
     "metadata": {},
     "output_type": "execute_result"
    }
   ],
   "source": [
    "#index concept doesnt work here\n",
    "#key concept is used to retrive any data.\n",
    "a4"
   ]
  },
  {
   "cell_type": "code",
   "execution_count": 8,
   "id": "8aaaa059-6865-436a-98e3-df435ee43620",
   "metadata": {},
   "outputs": [
    {
     "data": {
      "text/plain": [
       "9036"
      ]
     },
     "execution_count": 8,
     "metadata": {},
     "output_type": "execute_result"
    }
   ],
   "source": [
    "a4[True]"
   ]
  },
  {
   "cell_type": "code",
   "execution_count": 9,
   "id": "207aa46f-1838-472b-a00e-94f251d115ab",
   "metadata": {},
   "outputs": [
    {
     "data": {
      "text/plain": [
       "9036"
      ]
     },
     "execution_count": 9,
     "metadata": {},
     "output_type": "execute_result"
    }
   ],
   "source": [
    "a4[1]"
   ]
  },
  {
   "cell_type": "code",
   "execution_count": 10,
   "id": "5df32fe4-4f6b-47f3-ae96-921df23848e5",
   "metadata": {},
   "outputs": [
    {
     "data": {
      "text/plain": [
       "{2345: 'dev', '__kush': 9034, True: 9036}"
      ]
     },
     "execution_count": 10,
     "metadata": {},
     "output_type": "execute_result"
    }
   ],
   "source": [
    "a4"
   ]
  },
  {
   "cell_type": "code",
   "execution_count": 29,
   "id": "3cb23a1f-0936-42be-a21c-984aceccbf58",
   "metadata": {},
   "outputs": [],
   "source": [
    "a5={'name':\"dev\",\"mail\":\"mishra.devesh131@gmail.com\",'name':\"mishra\"}"
   ]
  },
  {
   "cell_type": "code",
   "execution_count": 32,
   "id": "366724b6-007a-422d-9acc-df466e880588",
   "metadata": {},
   "outputs": [
    {
     "data": {
      "text/plain": [
       "{'name': 'mishra', 'mail': 'mishra.devesh131@gmail.com'}"
      ]
     },
     "execution_count": 32,
     "metadata": {},
     "output_type": "execute_result"
    }
   ],
   "source": [
    "a5"
   ]
  },
  {
   "cell_type": "code",
   "execution_count": 33,
   "id": "acf90f66-416a-4e84-a604-9990f5efb111",
   "metadata": {},
   "outputs": [
    {
     "data": {
      "text/plain": [
       "'mishra'"
      ]
     },
     "execution_count": 33,
     "metadata": {},
     "output_type": "execute_result"
    }
   ],
   "source": [
    "# key should always be unique otherwise it will overwrite with last value. \n",
    "a5['name']"
   ]
  },
  {
   "cell_type": "code",
   "execution_count": 48,
   "id": "438bad3c-55f1-4338-b694-2aad39484126",
   "metadata": {},
   "outputs": [],
   "source": [
    "a6={'dev company':\"dev.inc\",'naman company':[\"naman.inc\",\"khushi.inc\",\"rashi.inc\"]}"
   ]
  },
  {
   "cell_type": "code",
   "execution_count": 49,
   "id": "abf109bd-9f23-4e38-bb18-ec81a725b34c",
   "metadata": {},
   "outputs": [
    {
     "data": {
      "text/plain": [
       "{'dev company': 'dev.inc',\n",
       " 'naman company': ['naman.inc', 'khushi.inc', 'rashi.inc']}"
      ]
     },
     "execution_count": 49,
     "metadata": {},
     "output_type": "execute_result"
    }
   ],
   "source": [
    "a6"
   ]
  },
  {
   "cell_type": "code",
   "execution_count": 50,
   "id": "09e73736-cc8d-477e-9eb4-4265e2a905b2",
   "metadata": {},
   "outputs": [
    {
     "data": {
      "text/plain": [
       "['naman.inc', 'khushi.inc', 'rashi.inc']"
      ]
     },
     "execution_count": 50,
     "metadata": {},
     "output_type": "execute_result"
    }
   ],
   "source": [
    "a6['naman company']"
   ]
  },
  {
   "cell_type": "code",
   "execution_count": 51,
   "id": "a27852ff-0b44-498a-a004-356f9e0c58f4",
   "metadata": {},
   "outputs": [],
   "source": [
    "# key should be unique."
   ]
  },
  {
   "cell_type": "code",
   "execution_count": 72,
   "id": "3b2dac84-d855-43aa-a27e-7b7c4bfe4cae",
   "metadata": {},
   "outputs": [],
   "source": [
    "d1={\"numbers\":[11,22,33,44,55,66],\"assigment\":(1,2,3,4,5,6),\"launch_date\":(12,23,45,67,89,90)}"
   ]
  },
  {
   "cell_type": "code",
   "execution_count": 73,
   "id": "df8ee668-e1c8-4392-886f-631fa8f89b2d",
   "metadata": {},
   "outputs": [
    {
     "data": {
      "text/plain": [
       "{'numbers': [11, 22, 33, 44, 55, 66],\n",
       " 'assigment': (1, 2, 3, 4, 5, 6),\n",
       " 'launch_date': (12, 23, 45, 67, 89, 90)}"
      ]
     },
     "execution_count": 73,
     "metadata": {},
     "output_type": "execute_result"
    }
   ],
   "source": [
    "d1"
   ]
  },
  {
   "cell_type": "code",
   "execution_count": 74,
   "id": "66203692-994d-4a56-841a-c0919c6b4695",
   "metadata": {},
   "outputs": [],
   "source": [
    "#We can keep all type of variables in a dictionary."
   ]
  },
  {
   "cell_type": "code",
   "execution_count": 75,
   "id": "4c0eb3b9-2151-40a1-a3a6-c02efe36854c",
   "metadata": {},
   "outputs": [],
   "source": [
    "#to add elements in old key\n",
    "#list inside the list is possible in dictionary\n"
   ]
  },
  {
   "cell_type": "code",
   "execution_count": 78,
   "id": "b4945228-80b9-4a1f-accd-fb35ead2c42a",
   "metadata": {},
   "outputs": [],
   "source": [
    "#addtion of two different key in dictionary\n",
    "#key must be unique\n",
    "d1['mentor']=[\"dev\",\"kush\",\"kinjal\"]"
   ]
  },
  {
   "cell_type": "code",
   "execution_count": 79,
   "id": "a39c0784-1284-4e67-b270-7b1183877a2c",
   "metadata": {},
   "outputs": [
    {
     "data": {
      "text/plain": [
       "{'numbers': [11, 22, 33, 44, 55, 66],\n",
       " 'assigment': (1, 2, 3, 4, 5, 6),\n",
       " 'launch_date': (12, 23, 45, 67, 89, 90),\n",
       " 'mentor': ['dev', 'kush', 'kinjal']}"
      ]
     },
     "execution_count": 79,
     "metadata": {},
     "output_type": "execute_result"
    }
   ],
   "source": [
    "d1"
   ]
  },
  {
   "cell_type": "code",
   "execution_count": 80,
   "id": "9e34a614-d18b-447f-89e2-dbbc55e29f92",
   "metadata": {},
   "outputs": [],
   "source": [
    "#how to delete the key using delete function\n",
    "del d1[\"mentor\"]"
   ]
  },
  {
   "cell_type": "code",
   "execution_count": 81,
   "id": "74afd9d0-74f4-4667-9ece-1084d6a57c98",
   "metadata": {},
   "outputs": [
    {
     "data": {
      "text/plain": [
       "{'numbers': [11, 22, 33, 44, 55, 66],\n",
       " 'assigment': (1, 2, 3, 4, 5, 6),\n",
       " 'launch_date': (12, 23, 45, 67, 89, 90)}"
      ]
     },
     "execution_count": 81,
     "metadata": {},
     "output_type": "execute_result"
    }
   ],
   "source": [
    "d1"
   ]
  },
  {
   "cell_type": "code",
   "execution_count": 85,
   "id": "bfd53c80-f281-4e40-afc2-5a9cab322578",
   "metadata": {},
   "outputs": [
    {
     "data": {
      "text/plain": [
       "dict_keys(['numbers', 'assigment', 'launch_date'])"
      ]
     },
     "execution_count": 85,
     "metadata": {},
     "output_type": "execute_result"
    }
   ],
   "source": [
    "#how to get name of the keys\n",
    "d1.keys()\n"
   ]
  },
  {
   "cell_type": "code",
   "execution_count": 86,
   "id": "7bb3170c-ec9b-4703-8a36-8c3ed288adb5",
   "metadata": {},
   "outputs": [
    {
     "data": {
      "text/plain": [
       "dict_values([[11, 22, 33, 44, 55, 66], (1, 2, 3, 4, 5, 6), (12, 23, 45, 67, 89, 90)])"
      ]
     },
     "execution_count": 86,
     "metadata": {},
     "output_type": "execute_result"
    }
   ],
   "source": [
    "#to get values of the key.\n",
    "d1.values()"
   ]
  },
  {
   "cell_type": "code",
   "execution_count": 92,
   "id": "6b6107e3-511c-4268-be9e-3e8b663fa662",
   "metadata": {},
   "outputs": [
    {
     "data": {
      "text/plain": [
       "[('numbers', [11, 22, 33, 44, 55, 66]),\n",
       " ('assigment', (1, 2, 3, 4, 5, 6)),\n",
       " ('launch_date', (12, 23, 45, 67, 89, 90))]"
      ]
     },
     "execution_count": 92,
     "metadata": {},
     "output_type": "execute_result"
    }
   ],
   "source": [
    "list(d1.items())"
   ]
  },
  {
   "cell_type": "code",
   "execution_count": 93,
   "id": "8b9b56fc-666e-43ee-be07-f5a3703a93bc",
   "metadata": {},
   "outputs": [
    {
     "data": {
      "text/plain": [
       "<function dict.update>"
      ]
     },
     "execution_count": 93,
     "metadata": {},
     "output_type": "execute_result"
    }
   ],
   "source": [
    "d1.update"
   ]
  },
  {
   "cell_type": "code",
   "execution_count": 94,
   "id": "c2b92723-d55d-4445-897f-7b4ea9795698",
   "metadata": {},
   "outputs": [
    {
     "data": {
      "text/plain": [
       "{'numbers': [11, 22, 33, 44, 55, 66],\n",
       " 'assigment': (1, 2, 3, 4, 5, 6),\n",
       " 'launch_date': (12, 23, 45, 67, 89, 90)}"
      ]
     },
     "execution_count": 94,
     "metadata": {},
     "output_type": "execute_result"
    }
   ],
   "source": [
    "d1"
   ]
  },
  {
   "cell_type": "code",
   "execution_count": 103,
   "id": "df324d2f-30c8-4941-97d1-990386e1e797",
   "metadata": {},
   "outputs": [
    {
     "ename": "KeyError",
     "evalue": "'numbers'",
     "output_type": "error",
     "traceback": [
      "\u001b[0;31m---------------------------------------------------------------------------\u001b[0m",
      "\u001b[0;31mKeyError\u001b[0m                                  Traceback (most recent call last)",
      "Cell \u001b[0;32mIn[103], line 2\u001b[0m\n\u001b[1;32m      1\u001b[0m \u001b[38;5;66;03m#to delete certain key\u001b[39;00m\n\u001b[0;32m----> 2\u001b[0m \u001b[43md1\u001b[49m\u001b[38;5;241;43m.\u001b[39;49m\u001b[43mpop\u001b[49m\u001b[43m(\u001b[49m\u001b[38;5;124;43m'\u001b[39;49m\u001b[38;5;124;43mnumbers\u001b[39;49m\u001b[38;5;124;43m'\u001b[39;49m\u001b[43m)\u001b[49m\n",
      "\u001b[0;31mKeyError\u001b[0m: 'numbers'"
     ]
    }
   ],
   "source": [
    "#to delete certain key\n",
    "d1.pop('numbers')\n"
   ]
  },
  {
   "cell_type": "code",
   "execution_count": 104,
   "id": "efeb213b-77aa-4cd6-94d9-de6eb5241713",
   "metadata": {},
   "outputs": [
    {
     "data": {
      "text/plain": [
       "{'assigment': (1, 2, 3, 4, 5, 6), 'launch_date': (12, 23, 45, 67, 89, 90)}"
      ]
     },
     "execution_count": 104,
     "metadata": {},
     "output_type": "execute_result"
    }
   ],
   "source": [
    "d1"
   ]
  },
  {
   "cell_type": "code",
   "execution_count": 111,
   "id": "5029b01b-5da0-451f-a46e-9c818c8a9ec8",
   "metadata": {},
   "outputs": [],
   "source": [
    "#added new key\n",
    "d1['roll_no']=[8,7,6,54,4,3]"
   ]
  },
  {
   "cell_type": "code",
   "execution_count": 112,
   "id": "7672e9f9-4a07-45de-9f78-67af09ef970c",
   "metadata": {},
   "outputs": [
    {
     "data": {
      "text/plain": [
       "{'assigment': (1, 2, 3, 4, 5, 6),\n",
       " 'launch_date': (12, 23, 45, 67, 89, 90),\n",
       " 'roll_no': [8, 7, 6, 54, 4, 3]}"
      ]
     },
     "execution_count": 112,
     "metadata": {},
     "output_type": "execute_result"
    }
   ],
   "source": [
    "d1"
   ]
  },
  {
   "cell_type": "code",
   "execution_count": 115,
   "id": "da88a6b8-c100-4625-8581-34a6723751f1",
   "metadata": {},
   "outputs": [],
   "source": [
    "#added new key\n",
    "d1['class']=[5,6,8,9,0,]"
   ]
  },
  {
   "cell_type": "code",
   "execution_count": 116,
   "id": "7e20cc3c-905e-4769-b804-2f613305d5e3",
   "metadata": {},
   "outputs": [
    {
     "data": {
      "text/plain": [
       "{'assigment': (1, 2, 3, 4, 5, 6),\n",
       " 'launch_date': (12, 23, 45, 67, 89, 90),\n",
       " 'roll_no': [8, 7, 6, 54, 4, 3],\n",
       " 'class': [5, 6, 8, 9, 0]}"
      ]
     },
     "execution_count": 116,
     "metadata": {},
     "output_type": "execute_result"
    }
   ],
   "source": [
    "d1"
   ]
  },
  {
   "cell_type": "code",
   "execution_count": 118,
   "id": "1c6a4855-2210-4f0e-a4de-81e441ea5a8c",
   "metadata": {},
   "outputs": [],
   "source": [
    "######### CONTROL STATEMENT/DECISION STATEMENT ########\n",
    "# BASED ON CERTAIN DECSION"
   ]
  },
  {
   "cell_type": "code",
   "execution_count": 119,
   "id": "fae8ea84-cd45-4e94-8eff-df39f140f39f",
   "metadata": {},
   "outputs": [
    {
     "ename": "TypeError",
     "evalue": "pop expected at least 1 argument, got 0",
     "output_type": "error",
     "traceback": [
      "\u001b[0;31m---------------------------------------------------------------------------\u001b[0m",
      "\u001b[0;31mTypeError\u001b[0m                                 Traceback (most recent call last)",
      "Cell \u001b[0;32mIn[119], line 1\u001b[0m\n\u001b[0;32m----> 1\u001b[0m \u001b[43md1\u001b[49m\u001b[38;5;241;43m.\u001b[39;49m\u001b[43mpop\u001b[49m\u001b[43m(\u001b[49m\u001b[43m)\u001b[49m\n",
      "\u001b[0;31mTypeError\u001b[0m: pop expected at least 1 argument, got 0"
     ]
    }
   ],
   "source": [
    "#not acting as list fuction in which zero gives last elemnt.\n",
    "d1.pop()\n"
   ]
  },
  {
   "cell_type": "code",
   "execution_count": 1,
   "id": "8cc5e33f-c61c-4b0c-b968-ee456d99a96d",
   "metadata": {},
   "outputs": [
    {
     "name": "stdout",
     "output_type": "stream",
     "text": [
      "you are part of A0 batch\n"
     ]
    }
   ],
   "source": [
    "# if,elif,else operator is use as conditional operator\n",
    "\n",
    "marks=100\n",
    "if marks >= 80:\n",
    "    print(\"you are part of A0 batch\")\n",
    "elif marks >= 60 and marks < 80:\n",
    "    print(\"you are part of A1 batch\")\n",
    "elif marks >=40 and marks < 60:\n",
    "    print(\"you are the part of A2 batch\")\n",
    "else :\n",
    "    print(\"you are part of A3 batch\")\n",
    "    "
   ]
  },
  {
   "cell_type": "code",
   "execution_count": 2,
   "id": "1ea4b065-acbf-4209-9a9c-b0202370e0b0",
   "metadata": {},
   "outputs": [
    {
     "name": "stdin",
     "output_type": "stream",
     "text": [
      "enter your marks 56\n"
     ]
    }
   ],
   "source": [
    "#not working because it is acting as string,we have use typecasting to make string into integer\n",
    "marks= input(\"enter your marks\")"
   ]
  },
  {
   "cell_type": "code",
   "execution_count": 25,
   "id": "9412bffe-fcb3-4d85-a471-340eb9b34e09",
   "metadata": {},
   "outputs": [
    {
     "data": {
      "text/plain": [
       "56"
      ]
     },
     "execution_count": 25,
     "metadata": {},
     "output_type": "execute_result"
    }
   ],
   "source": [
    "56\n"
   ]
  },
  {
   "cell_type": "code",
   "execution_count": 26,
   "id": "5ad63320-8793-49b3-82c9-291ef1fcbdcc",
   "metadata": {
    "tags": []
   },
   "outputs": [
    {
     "data": {
      "text/plain": [
       "str"
      ]
     },
     "execution_count": 26,
     "metadata": {},
     "output_type": "execute_result"
    }
   ],
   "source": [
    "type(marks)"
   ]
  },
  {
   "cell_type": "code",
   "execution_count": 27,
   "id": "2a42c504-d612-461c-8bcd-7f4de120143d",
   "metadata": {},
   "outputs": [
    {
     "name": "stdin",
     "output_type": "stream",
     "text": [
      "enter your marks 89\n"
     ]
    }
   ],
   "source": [
    "marks= int(input(\"enter your marks\"))"
   ]
  },
  {
   "cell_type": "code",
   "execution_count": 18,
   "id": "ccf7a25b-1aea-4b93-ac58-8c32bea5882e",
   "metadata": {},
   "outputs": [
    {
     "name": "stdin",
     "output_type": "stream",
     "text": [
      "enter your marks 56\n"
     ]
    }
   ],
   "source": [
    "marks= int(input(\"enter your marks\"))"
   ]
  },
  {
   "cell_type": "code",
   "execution_count": 28,
   "id": "3c0418a7-df17-43a1-ab38-f0f60e164570",
   "metadata": {},
   "outputs": [
    {
     "data": {
      "text/plain": [
       "int"
      ]
     },
     "execution_count": 28,
     "metadata": {},
     "output_type": "execute_result"
    }
   ],
   "source": [
    "type(marks)"
   ]
  },
  {
   "cell_type": "code",
   "execution_count": 29,
   "id": "887a13a3-d682-4770-9b20-71c69448aed1",
   "metadata": {},
   "outputs": [
    {
     "name": "stdin",
     "output_type": "stream",
     "text": [
      "enter your number 47\n"
     ]
    },
    {
     "name": "stdout",
     "output_type": "stream",
     "text": [
      "you are the part of A2 batch\n"
     ]
    }
   ],
   "source": [
    "marks=int(input(\"enter your number\"))\n",
    "if marks >= 80:\n",
    "    print(\"you are part of A0 batch\")\n",
    "elif marks >= 60 and marks < 80:\n",
    "    print(\"you are part of A1 batch\")\n",
    "elif marks >=40 and marks < 60:\n",
    "    print(\"you are the part of A2 batch\")\n",
    "else :\n",
    "    print(\"you are part of A3 batch\")"
   ]
  },
  {
   "cell_type": "code",
   "execution_count": 6,
   "id": "eacf3212-7333-4a21-a607-f4a57dcdff94",
   "metadata": {},
   "outputs": [
    {
     "name": "stdin",
     "output_type": "stream",
     "text": [
      "enter the amount 1000\n"
     ]
    },
    {
     "name": "stdout",
     "output_type": "stream",
     "text": [
      "i will purchase\n"
     ]
    }
   ],
   "source": [
    "price=int(input(\"enter the amount\"))\n",
    "if price > 1000:\n",
    "    print(\"i will not purchase\")\n",
    "else:\n",
    "    print(\"i will purchase\")"
   ]
  },
  {
   "cell_type": "code",
   "execution_count": 15,
   "id": "c3204c24-4b8f-41bc-9b65-376fbba8d075",
   "metadata": {},
   "outputs": [
    {
     "name": "stdin",
     "output_type": "stream",
     "text": [
      "enter the amount 9000\n"
     ]
    },
    {
     "name": "stdout",
     "output_type": "stream",
     "text": [
      "i will not purchase\n",
      "this is too  much\n"
     ]
    }
   ],
   "source": [
    "#if requirement will fullfill then it give result otherwuise no result\n",
    "#nested if else opertor\n",
    "#if else opertor works in sequnce\n",
    "price=int(input(\"enter the amount\"))\n",
    "if price > 1000:\n",
    "    print(\"i will not purchase\")\n",
    "if price > 5000:\n",
    "    print(\"this is too  much\")\n",
    "elif price <2000:\n",
    "    print(\"its ok we can take\")\n",
    "elif price <1000:\n",
    "    print(\"not intrested\")\n",
    "    \n"
   ]
  },
  {
   "cell_type": "code",
   "execution_count": 1,
   "id": "d2a53c66-b616-427d-840f-3cdf122f78e7",
   "metadata": {},
   "outputs": [],
   "source": [
    "#LOOP concept\n",
    "#types of loop\n",
    "#1-while loop\n",
    "#2-for loop\n"
   ]
  },
  {
   "cell_type": "code",
   "execution_count": 1,
   "id": "c64c71ca-90b8-405e-bba3-1239245aef89",
   "metadata": {},
   "outputs": [],
   "source": [
    "#FOR loop\n",
    "a=[1,2,3,4,5,6,7,8,9,10]"
   ]
  },
  {
   "cell_type": "code",
   "execution_count": 2,
   "id": "d14d0041-3acd-44f1-b353-32a6e5fc2b66",
   "metadata": {},
   "outputs": [
    {
     "name": "stdout",
     "output_type": "stream",
     "text": [
      "1\n",
      "2\n",
      "3\n",
      "4\n",
      "5\n",
      "6\n",
      "7\n",
      "8\n",
      "9\n",
      "10\n"
     ]
    }
   ],
   "source": [
    "for i in a:\n",
    "    print(i)"
   ]
  },
  {
   "cell_type": "code",
   "execution_count": null,
   "id": "9bec490d-ffc8-435e-a145-76220f3f07fb",
   "metadata": {},
   "outputs": [],
   "source": [
    "#for loop concept adding +1 in each term.\n",
    "a=[1,2,3,4,5,6,7,8,9,10]"
   ]
  },
  {
   "cell_type": "code",
   "execution_count": 14,
   "id": "24ed2679-d431-4f6e-ae85-6116989db167",
   "metadata": {},
   "outputs": [
    {
     "name": "stdout",
     "output_type": "stream",
     "text": [
      "2\n",
      "3\n",
      "4\n",
      "5\n",
      "6\n",
      "7\n",
      "8\n",
      "9\n",
      "10\n",
      "11\n"
     ]
    }
   ],
   "source": [
    "a1=[]\n",
    "for dev in a:\n",
    "    print(dev+1)\n",
    "    a1.append(dev+1)\n",
    "    "
   ]
  },
  {
   "cell_type": "code",
   "execution_count": 15,
   "id": "1d463ddb-91cf-4e30-9b4a-3b5cb8d7ceed",
   "metadata": {},
   "outputs": [
    {
     "data": {
      "text/plain": [
       "[2, 3, 4, 5, 6, 7, 8, 9, 10, 11]"
      ]
     },
     "execution_count": 15,
     "metadata": {},
     "output_type": "execute_result"
    }
   ],
   "source": [
    "a1"
   ]
  },
  {
   "cell_type": "code",
   "execution_count": 16,
   "id": "dc34edde-5c26-450e-92fe-8196df221511",
   "metadata": {},
   "outputs": [],
   "source": [
    "b=[\"dev\",\"mishra\",\"pwskills\",\"data_science\"]\n"
   ]
  },
  {
   "cell_type": "code",
   "execution_count": 21,
   "id": "b5a79264-10d1-460d-adf3-0fc773937f8a",
   "metadata": {},
   "outputs": [
    {
     "name": "stdout",
     "output_type": "stream",
     "text": [
      "dev\n",
      "mishra\n",
      "pwskills\n",
      "data_science\n"
     ]
    }
   ],
   "source": [
    "#loop to convert it into capital letter\n",
    "b1=[]\n",
    "for k in b:\n",
    "    print(k)\n",
    "    b1.append(k.upper())"
   ]
  },
  {
   "cell_type": "code",
   "execution_count": 22,
   "id": "e41628fe-5847-4919-bf07-29f033602503",
   "metadata": {},
   "outputs": [
    {
     "data": {
      "text/plain": [
       "['DEV', 'MISHRA', 'PWSKILLS', 'DATA_SCIENCE']"
      ]
     },
     "execution_count": 22,
     "metadata": {},
     "output_type": "execute_result"
    }
   ],
   "source": [
    "b1"
   ]
  },
  {
   "cell_type": "code",
   "execution_count": 2,
   "id": "fcf949fe-1363-4e1b-922a-25fd5b36a951",
   "metadata": {},
   "outputs": [],
   "source": [
    "#making seprate string and integer using loop\n",
    "l=[1,2,3,4,5,\"dev\",\"mishra\",453,45.78,\"abc\"]"
   ]
  },
  {
   "cell_type": "code",
   "execution_count": 3,
   "id": "55442039-6f17-4262-b58b-10e58950a63c",
   "metadata": {},
   "outputs": [
    {
     "name": "stdout",
     "output_type": "stream",
     "text": [
      "1\n",
      "2\n",
      "3\n",
      "4\n",
      "5\n",
      "dev\n",
      "mishra\n",
      "453\n",
      "45.78\n",
      "abc\n"
     ]
    }
   ],
   "source": [
    "for i in l:\n",
    "    print(i)"
   ]
  },
  {
   "cell_type": "code",
   "execution_count": 4,
   "id": "9366c3ac-ee89-4efe-b770-ddf2c80cf896",
   "metadata": {},
   "outputs": [],
   "source": [
    "#sepration of numercial and string value\n",
    "l1_num=[]\n",
    "l2_str=[]\n",
    "for i in l:\n",
    "    if type(i)== int or type(i)==float:\n",
    "        l1_num.append(i)\n",
    "    else :\n",
    "        l2_str.append(i)\n",
    "            \n",
    "        "
   ]
  },
  {
   "cell_type": "code",
   "execution_count": 5,
   "id": "dce04780-6f84-459a-bcae-43992e024cce",
   "metadata": {},
   "outputs": [
    {
     "data": {
      "text/plain": [
       "[1, 2, 3, 4, 5, 453, 45.78]"
      ]
     },
     "execution_count": 5,
     "metadata": {},
     "output_type": "execute_result"
    }
   ],
   "source": [
    "l1_num"
   ]
  },
  {
   "cell_type": "code",
   "execution_count": 6,
   "id": "dc1cb3b6-ecb7-4ec9-840a-9a60de29fef6",
   "metadata": {},
   "outputs": [
    {
     "data": {
      "text/plain": [
       "['dev', 'mishra', 'abc']"
      ]
     },
     "execution_count": 6,
     "metadata": {},
     "output_type": "execute_result"
    }
   ],
   "source": [
    "l2_str"
   ]
  },
  {
   "cell_type": "code",
   "execution_count": 7,
   "id": "8b8e0228-2491-4f53-b641-a2b423a4c6da",
   "metadata": {},
   "outputs": [],
   "source": [
    " #how to complete assigment"
   ]
  },
  {
   "cell_type": "code",
   "execution_count": null,
   "id": "b47b7f43-e6d0-41cb-9ca6-005e5a5a402b",
   "metadata": {},
   "outputs": [],
   "source": []
  }
 ],
 "metadata": {
  "kernelspec": {
   "display_name": "Python 3 (ipykernel)",
   "language": "python",
   "name": "python3"
  },
  "language_info": {
   "codemirror_mode": {
    "name": "ipython",
    "version": 3
   },
   "file_extension": ".py",
   "mimetype": "text/x-python",
   "name": "python",
   "nbconvert_exporter": "python",
   "pygments_lexer": "ipython3",
   "version": "3.10.8"
  }
 },
 "nbformat": 4,
 "nbformat_minor": 5
}
